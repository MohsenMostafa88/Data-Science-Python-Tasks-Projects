{
 "cells": [
  {
   "cell_type": "code",
   "execution_count": 1,
   "id": "fae66a4d",
   "metadata": {
    "_cell_guid": "b1076dfc-b9ad-4769-8c92-a6c4dae69d19",
    "_uuid": "8f2839f25d086af736a60e9eeb907d3b93b6e0e5",
    "execution": {
     "iopub.execute_input": "2023-05-06T21:20:11.676246Z",
     "iopub.status.busy": "2023-05-06T21:20:11.675700Z",
     "iopub.status.idle": "2023-05-06T21:20:13.659141Z",
     "shell.execute_reply": "2023-05-06T21:20:13.657938Z"
    },
    "papermill": {
     "duration": 1.993994,
     "end_time": "2023-05-06T21:20:13.661773",
     "exception": false,
     "start_time": "2023-05-06T21:20:11.667779",
     "status": "completed"
    },
    "tags": []
   },
   "outputs": [
    {
     "name": "stderr",
     "output_type": "stream",
     "text": [
      "/opt/conda/lib/python3.10/site-packages/scipy/__init__.py:146: UserWarning: A NumPy version >=1.16.5 and <1.23.0 is required for this version of SciPy (detected version 1.23.5\n",
      "  warnings.warn(f\"A NumPy version >={np_minversion} and <{np_maxversion}\"\n"
     ]
    },
    {
     "name": "stdout",
     "output_type": "stream",
     "text": [
      "/kaggle/input/google-stock-price-daily-weekly-and-monthly-2023/google-stock-dataset-Weekly.csv\n",
      "/kaggle/input/google-stock-price-daily-weekly-and-monthly-2023/google-stock-dataset-Daily.csv\n",
      "/kaggle/input/google-stock-price-daily-weekly-and-monthly-2023/google-stock-dataset-Monthly.csv\n"
     ]
    }
   ],
   "source": [
    "import numpy as np \n",
    "import pandas as pd \n",
    "import matplotlib.pyplot as plt\n",
    "import seaborn as sns\n",
    "import plotly.express as px\n",
    "import os\n",
    "for dirname, _, filenames in os.walk('/kaggle/input'):\n",
    "    for filename in filenames:\n",
    "        print(os.path.join(dirname, filename))\n",
    "\n",
    "# You can write up to 20GB to the current directory (/kaggle/working/) that gets preserved as output when you create a version using \"Save & Run All\" \n",
    "# You can also write temporary files to /kaggle/temp/, but they won't be saved outside of the current session"
   ]
  },
  {
   "cell_type": "code",
   "execution_count": 2,
   "id": "a044c63b",
   "metadata": {
    "execution": {
     "iopub.execute_input": "2023-05-06T21:20:13.676180Z",
     "iopub.status.busy": "2023-05-06T21:20:13.675808Z",
     "iopub.status.idle": "2023-05-06T21:20:13.719944Z",
     "shell.execute_reply": "2023-05-06T21:20:13.719081Z"
    },
    "papermill": {
     "duration": 0.05454,
     "end_time": "2023-05-06T21:20:13.722680",
     "exception": false,
     "start_time": "2023-05-06T21:20:13.668140",
     "status": "completed"
    },
    "tags": []
   },
   "outputs": [],
   "source": [
    "D_df = pd.read_csv(\"/kaggle/input/google-stock-price-daily-weekly-and-monthly-2023/google-stock-dataset-Daily.csv\")\n",
    "W_df = pd.read_csv(\"/kaggle/input/google-stock-price-daily-weekly-and-monthly-2023/google-stock-dataset-Weekly.csv\")\n",
    "M_df = pd.read_csv(\"/kaggle/input/google-stock-price-daily-weekly-and-monthly-2023/google-stock-dataset-Monthly.csv\")\n"
   ]
  },
  {
   "cell_type": "markdown",
   "id": "3fdf5cd6",
   "metadata": {
    "papermill": {
     "duration": 0.006226,
     "end_time": "2023-05-06T21:20:13.735039",
     "exception": false,
     "start_time": "2023-05-06T21:20:13.728813",
     "status": "completed"
    },
    "tags": []
   },
   "source": [
    "### We will work with Data of Monthly stock prices "
   ]
  },
  {
   "cell_type": "code",
   "execution_count": 3,
   "id": "69d5c8d1",
   "metadata": {
    "execution": {
     "iopub.execute_input": "2023-05-06T21:20:13.749823Z",
     "iopub.status.busy": "2023-05-06T21:20:13.749104Z",
     "iopub.status.idle": "2023-05-06T21:20:13.781336Z",
     "shell.execute_reply": "2023-05-06T21:20:13.780246Z"
    },
    "papermill": {
     "duration": 0.041932,
     "end_time": "2023-05-06T21:20:13.783586",
     "exception": false,
     "start_time": "2023-05-06T21:20:13.741654",
     "status": "completed"
    },
    "tags": []
   },
   "outputs": [
    {
     "data": {
      "text/html": [
       "<div>\n",
       "<style scoped>\n",
       "    .dataframe tbody tr th:only-of-type {\n",
       "        vertical-align: middle;\n",
       "    }\n",
       "\n",
       "    .dataframe tbody tr th {\n",
       "        vertical-align: top;\n",
       "    }\n",
       "\n",
       "    .dataframe thead th {\n",
       "        text-align: right;\n",
       "    }\n",
       "</style>\n",
       "<table border=\"1\" class=\"dataframe\">\n",
       "  <thead>\n",
       "    <tr style=\"text-align: right;\">\n",
       "      <th></th>\n",
       "      <th>Unnamed: 0</th>\n",
       "      <th>Date</th>\n",
       "      <th>Price</th>\n",
       "      <th>High</th>\n",
       "      <th>Low</th>\n",
       "      <th>Close</th>\n",
       "      <th>Volume</th>\n",
       "      <th>Adj Close</th>\n",
       "    </tr>\n",
       "  </thead>\n",
       "  <tbody>\n",
       "    <tr>\n",
       "      <th>0</th>\n",
       "      <td>0</td>\n",
       "      <td>2013-05-01</td>\n",
       "      <td>20.60</td>\n",
       "      <td>23.04</td>\n",
       "      <td>20.43</td>\n",
       "      <td>21.80</td>\n",
       "      <td>1974715308</td>\n",
       "      <td>21.80</td>\n",
       "    </tr>\n",
       "    <tr>\n",
       "      <th>1</th>\n",
       "      <td>1</td>\n",
       "      <td>2013-06-01</td>\n",
       "      <td>21.85</td>\n",
       "      <td>22.79</td>\n",
       "      <td>21.20</td>\n",
       "      <td>22.03</td>\n",
       "      <td>1941280776</td>\n",
       "      <td>22.03</td>\n",
       "    </tr>\n",
       "    <tr>\n",
       "      <th>2</th>\n",
       "      <td>2</td>\n",
       "      <td>2013-07-01</td>\n",
       "      <td>22.18</td>\n",
       "      <td>23.22</td>\n",
       "      <td>21.91</td>\n",
       "      <td>22.22</td>\n",
       "      <td>2047770180</td>\n",
       "      <td>22.22</td>\n",
       "    </tr>\n",
       "    <tr>\n",
       "      <th>3</th>\n",
       "      <td>3</td>\n",
       "      <td>2013-08-01</td>\n",
       "      <td>22.40</td>\n",
       "      <td>22.77</td>\n",
       "      <td>21.16</td>\n",
       "      <td>21.19</td>\n",
       "      <td>1338144516</td>\n",
       "      <td>21.19</td>\n",
       "    </tr>\n",
       "    <tr>\n",
       "      <th>4</th>\n",
       "      <td>4</td>\n",
       "      <td>2013-09-01</td>\n",
       "      <td>21.38</td>\n",
       "      <td>22.67</td>\n",
       "      <td>21.37</td>\n",
       "      <td>21.92</td>\n",
       "      <td>1323615060</td>\n",
       "      <td>21.92</td>\n",
       "    </tr>\n",
       "  </tbody>\n",
       "</table>\n",
       "</div>"
      ],
      "text/plain": [
       "   Unnamed: 0        Date  Price   High    Low  Close      Volume  Adj Close\n",
       "0           0  2013-05-01  20.60  23.04  20.43  21.80  1974715308      21.80\n",
       "1           1  2013-06-01  21.85  22.79  21.20  22.03  1941280776      22.03\n",
       "2           2  2013-07-01  22.18  23.22  21.91  22.22  2047770180      22.22\n",
       "3           3  2013-08-01  22.40  22.77  21.16  21.19  1338144516      21.19\n",
       "4           4  2013-09-01  21.38  22.67  21.37  21.92  1323615060      21.92"
      ]
     },
     "execution_count": 3,
     "metadata": {},
     "output_type": "execute_result"
    }
   ],
   "source": [
    "M_df.head()"
   ]
  },
  {
   "cell_type": "markdown",
   "id": "6a78e1a4",
   "metadata": {
    "papermill": {
     "duration": 0.006045,
     "end_time": "2023-05-06T21:20:13.795931",
     "exception": false,
     "start_time": "2023-05-06T21:20:13.789886",
     "status": "completed"
    },
    "tags": []
   },
   "source": [
    "## Data Cleaning and Processing"
   ]
  },
  {
   "cell_type": "markdown",
   "id": "bee4433c",
   "metadata": {
    "papermill": {
     "duration": 0.006124,
     "end_time": "2023-05-06T21:20:13.808466",
     "exception": false,
     "start_time": "2023-05-06T21:20:13.802342",
     "status": "completed"
    },
    "tags": []
   },
   "source": [
    "#### Drop Unnecessary Columns"
   ]
  },
  {
   "cell_type": "code",
   "execution_count": 4,
   "id": "f35e7c5e",
   "metadata": {
    "execution": {
     "iopub.execute_input": "2023-05-06T21:20:13.823928Z",
     "iopub.status.busy": "2023-05-06T21:20:13.823484Z",
     "iopub.status.idle": "2023-05-06T21:20:13.836760Z",
     "shell.execute_reply": "2023-05-06T21:20:13.835817Z"
    },
    "papermill": {
     "duration": 0.023419,
     "end_time": "2023-05-06T21:20:13.838830",
     "exception": false,
     "start_time": "2023-05-06T21:20:13.815411",
     "status": "completed"
    },
    "tags": []
   },
   "outputs": [],
   "source": [
    "M_df.drop('Unnamed: 0', inplace=True, axis=1)"
   ]
  },
  {
   "cell_type": "code",
   "execution_count": 5,
   "id": "59a03d51",
   "metadata": {
    "execution": {
     "iopub.execute_input": "2023-05-06T21:20:13.853442Z",
     "iopub.status.busy": "2023-05-06T21:20:13.852695Z",
     "iopub.status.idle": "2023-05-06T21:20:13.860490Z",
     "shell.execute_reply": "2023-05-06T21:20:13.859698Z"
    },
    "papermill": {
     "duration": 0.01722,
     "end_time": "2023-05-06T21:20:13.862297",
     "exception": false,
     "start_time": "2023-05-06T21:20:13.845077",
     "status": "completed"
    },
    "tags": []
   },
   "outputs": [
    {
     "data": {
      "text/plain": [
       "Date         0\n",
       "Price        0\n",
       "High         0\n",
       "Low          0\n",
       "Close        0\n",
       "Volume       0\n",
       "Adj Close    0\n",
       "dtype: int64"
      ]
     },
     "execution_count": 5,
     "metadata": {},
     "output_type": "execute_result"
    }
   ],
   "source": [
    "M_df.isnull().sum()"
   ]
  },
  {
   "cell_type": "markdown",
   "id": "f66e8645",
   "metadata": {
    "papermill": {
     "duration": 0.005985,
     "end_time": "2023-05-06T21:20:13.874554",
     "exception": false,
     "start_time": "2023-05-06T21:20:13.868569",
     "status": "completed"
    },
    "tags": []
   },
   "source": [
    "### Description of the DataFrame"
   ]
  },
  {
   "cell_type": "code",
   "execution_count": 6,
   "id": "cf1c02bb",
   "metadata": {
    "execution": {
     "iopub.execute_input": "2023-05-06T21:20:13.889113Z",
     "iopub.status.busy": "2023-05-06T21:20:13.888400Z",
     "iopub.status.idle": "2023-05-06T21:20:13.907124Z",
     "shell.execute_reply": "2023-05-06T21:20:13.905904Z"
    },
    "papermill": {
     "duration": 0.028403,
     "end_time": "2023-05-06T21:20:13.909284",
     "exception": false,
     "start_time": "2023-05-06T21:20:13.880881",
     "status": "completed"
    },
    "tags": []
   },
   "outputs": [
    {
     "name": "stdout",
     "output_type": "stream",
     "text": [
      "<class 'pandas.core.frame.DataFrame'>\n",
      "RangeIndex: 120 entries, 0 to 119\n",
      "Data columns (total 7 columns):\n",
      " #   Column     Non-Null Count  Dtype  \n",
      "---  ------     --------------  -----  \n",
      " 0   Date       120 non-null    object \n",
      " 1   Price      120 non-null    float64\n",
      " 2   High       120 non-null    float64\n",
      " 3   Low        120 non-null    float64\n",
      " 4   Close      120 non-null    float64\n",
      " 5   Volume     120 non-null    int64  \n",
      " 6   Adj Close  120 non-null    float64\n",
      "dtypes: float64(5), int64(1), object(1)\n",
      "memory usage: 6.7+ KB\n"
     ]
    }
   ],
   "source": [
    "M_df.info()"
   ]
  },
  {
   "cell_type": "code",
   "execution_count": 7,
   "id": "be5667b6",
   "metadata": {
    "execution": {
     "iopub.execute_input": "2023-05-06T21:20:13.923394Z",
     "iopub.status.busy": "2023-05-06T21:20:13.923003Z",
     "iopub.status.idle": "2023-05-06T21:20:13.929076Z",
     "shell.execute_reply": "2023-05-06T21:20:13.928237Z"
    },
    "papermill": {
     "duration": 0.015392,
     "end_time": "2023-05-06T21:20:13.930972",
     "exception": false,
     "start_time": "2023-05-06T21:20:13.915580",
     "status": "completed"
    },
    "tags": []
   },
   "outputs": [
    {
     "data": {
      "text/plain": [
       "(120, 7)"
      ]
     },
     "execution_count": 7,
     "metadata": {},
     "output_type": "execute_result"
    }
   ],
   "source": [
    "M_df.shape\n"
   ]
  },
  {
   "cell_type": "markdown",
   "id": "4f1da992",
   "metadata": {
    "papermill": {
     "duration": 0.005955,
     "end_time": "2023-05-06T21:20:13.943613",
     "exception": false,
     "start_time": "2023-05-06T21:20:13.937658",
     "status": "completed"
    },
    "tags": []
   },
   "source": [
    "\n",
    "## Augment data with additional columns\n"
   ]
  },
  {
   "cell_type": "markdown",
   "id": "11c2e17c",
   "metadata": {
    "papermill": {
     "duration": 0.00593,
     "end_time": "2023-05-06T21:20:13.955701",
     "exception": false,
     "start_time": "2023-05-06T21:20:13.949771",
     "status": "completed"
    },
    "tags": []
   },
   "source": [
    "### Add month column\n"
   ]
  },
  {
   "cell_type": "code",
   "execution_count": 8,
   "id": "0645de56",
   "metadata": {
    "execution": {
     "iopub.execute_input": "2023-05-06T21:20:13.970371Z",
     "iopub.status.busy": "2023-05-06T21:20:13.969668Z",
     "iopub.status.idle": "2023-05-06T21:20:13.985512Z",
     "shell.execute_reply": "2023-05-06T21:20:13.984404Z"
    },
    "papermill": {
     "duration": 0.025694,
     "end_time": "2023-05-06T21:20:13.987720",
     "exception": false,
     "start_time": "2023-05-06T21:20:13.962026",
     "status": "completed"
    },
    "tags": []
   },
   "outputs": [
    {
     "data": {
      "text/html": [
       "<div>\n",
       "<style scoped>\n",
       "    .dataframe tbody tr th:only-of-type {\n",
       "        vertical-align: middle;\n",
       "    }\n",
       "\n",
       "    .dataframe tbody tr th {\n",
       "        vertical-align: top;\n",
       "    }\n",
       "\n",
       "    .dataframe thead th {\n",
       "        text-align: right;\n",
       "    }\n",
       "</style>\n",
       "<table border=\"1\" class=\"dataframe\">\n",
       "  <thead>\n",
       "    <tr style=\"text-align: right;\">\n",
       "      <th></th>\n",
       "      <th>Date</th>\n",
       "      <th>Price</th>\n",
       "      <th>High</th>\n",
       "      <th>Low</th>\n",
       "      <th>Close</th>\n",
       "      <th>Volume</th>\n",
       "      <th>Adj Close</th>\n",
       "      <th>Month</th>\n",
       "    </tr>\n",
       "  </thead>\n",
       "  <tbody>\n",
       "    <tr>\n",
       "      <th>0</th>\n",
       "      <td>2013-05-01</td>\n",
       "      <td>20.60</td>\n",
       "      <td>23.04</td>\n",
       "      <td>20.43</td>\n",
       "      <td>21.80</td>\n",
       "      <td>1974715308</td>\n",
       "      <td>21.80</td>\n",
       "      <td>5</td>\n",
       "    </tr>\n",
       "    <tr>\n",
       "      <th>1</th>\n",
       "      <td>2013-06-01</td>\n",
       "      <td>21.85</td>\n",
       "      <td>22.79</td>\n",
       "      <td>21.20</td>\n",
       "      <td>22.03</td>\n",
       "      <td>1941280776</td>\n",
       "      <td>22.03</td>\n",
       "      <td>6</td>\n",
       "    </tr>\n",
       "    <tr>\n",
       "      <th>2</th>\n",
       "      <td>2013-07-01</td>\n",
       "      <td>22.18</td>\n",
       "      <td>23.22</td>\n",
       "      <td>21.91</td>\n",
       "      <td>22.22</td>\n",
       "      <td>2047770180</td>\n",
       "      <td>22.22</td>\n",
       "      <td>7</td>\n",
       "    </tr>\n",
       "    <tr>\n",
       "      <th>3</th>\n",
       "      <td>2013-08-01</td>\n",
       "      <td>22.40</td>\n",
       "      <td>22.77</td>\n",
       "      <td>21.16</td>\n",
       "      <td>21.19</td>\n",
       "      <td>1338144516</td>\n",
       "      <td>21.19</td>\n",
       "      <td>8</td>\n",
       "    </tr>\n",
       "    <tr>\n",
       "      <th>4</th>\n",
       "      <td>2013-09-01</td>\n",
       "      <td>21.38</td>\n",
       "      <td>22.67</td>\n",
       "      <td>21.37</td>\n",
       "      <td>21.92</td>\n",
       "      <td>1323615060</td>\n",
       "      <td>21.92</td>\n",
       "      <td>9</td>\n",
       "    </tr>\n",
       "  </tbody>\n",
       "</table>\n",
       "</div>"
      ],
      "text/plain": [
       "         Date  Price   High    Low  Close      Volume  Adj Close  Month\n",
       "0  2013-05-01  20.60  23.04  20.43  21.80  1974715308      21.80      5\n",
       "1  2013-06-01  21.85  22.79  21.20  22.03  1941280776      22.03      6\n",
       "2  2013-07-01  22.18  23.22  21.91  22.22  2047770180      22.22      7\n",
       "3  2013-08-01  22.40  22.77  21.16  21.19  1338144516      21.19      8\n",
       "4  2013-09-01  21.38  22.67  21.37  21.92  1323615060      21.92      9"
      ]
     },
     "execution_count": 8,
     "metadata": {},
     "output_type": "execute_result"
    }
   ],
   "source": [
    "M_df['Month'] = M_df['Date'].str[5:7]\n",
    "M_df['Month'] = M_df['Month'].astype('int32')\n",
    "M_df.head()"
   ]
  },
  {
   "cell_type": "markdown",
   "id": "6f38de23",
   "metadata": {
    "papermill": {
     "duration": 0.006296,
     "end_time": "2023-05-06T21:20:14.000580",
     "exception": false,
     "start_time": "2023-05-06T21:20:13.994284",
     "status": "completed"
    },
    "tags": []
   },
   "source": [
    "\n",
    "## Data Exploration!\n"
   ]
  },
  {
   "cell_type": "markdown",
   "id": "aa211ebb",
   "metadata": {
    "papermill": {
     "duration": 0.006232,
     "end_time": "2023-05-06T21:20:14.013394",
     "exception": false,
     "start_time": "2023-05-06T21:20:14.007162",
     "status": "completed"
    },
    "tags": []
   },
   "source": [
    "## Question 1: What was the best month for High Stock Prices ?"
   ]
  },
  {
   "cell_type": "code",
   "execution_count": 9,
   "id": "71b7fb16",
   "metadata": {
    "execution": {
     "iopub.execute_input": "2023-05-06T21:20:14.028764Z",
     "iopub.status.busy": "2023-05-06T21:20:14.027988Z",
     "iopub.status.idle": "2023-05-06T21:20:14.043389Z",
     "shell.execute_reply": "2023-05-06T21:20:14.042267Z"
    },
    "papermill": {
     "duration": 0.025697,
     "end_time": "2023-05-06T21:20:14.045632",
     "exception": false,
     "start_time": "2023-05-06T21:20:14.019935",
     "status": "completed"
    },
    "tags": []
   },
   "outputs": [
    {
     "data": {
      "text/html": [
       "<div>\n",
       "<style scoped>\n",
       "    .dataframe tbody tr th:only-of-type {\n",
       "        vertical-align: middle;\n",
       "    }\n",
       "\n",
       "    .dataframe tbody tr th {\n",
       "        vertical-align: top;\n",
       "    }\n",
       "\n",
       "    .dataframe thead th {\n",
       "        text-align: right;\n",
       "    }\n",
       "</style>\n",
       "<table border=\"1\" class=\"dataframe\">\n",
       "  <thead>\n",
       "    <tr style=\"text-align: right;\">\n",
       "      <th></th>\n",
       "      <th>Date</th>\n",
       "      <th>Price</th>\n",
       "      <th>High</th>\n",
       "      <th>Low</th>\n",
       "      <th>Close</th>\n",
       "      <th>Volume</th>\n",
       "      <th>Adj Close</th>\n",
       "      <th>Month</th>\n",
       "    </tr>\n",
       "  </thead>\n",
       "  <tbody>\n",
       "    <tr>\n",
       "      <th>105</th>\n",
       "      <td>2022-02-01</td>\n",
       "      <td>137.59</td>\n",
       "      <td>151.55</td>\n",
       "      <td>124.95</td>\n",
       "      <td>135.06</td>\n",
       "      <td>928126000</td>\n",
       "      <td>135.06</td>\n",
       "      <td>2</td>\n",
       "    </tr>\n",
       "    <tr>\n",
       "      <th>102</th>\n",
       "      <td>2021-11-01</td>\n",
       "      <td>148.05</td>\n",
       "      <td>150.97</td>\n",
       "      <td>141.60</td>\n",
       "      <td>141.90</td>\n",
       "      <td>608378000</td>\n",
       "      <td>141.90</td>\n",
       "      <td>11</td>\n",
       "    </tr>\n",
       "    <tr>\n",
       "      <th>103</th>\n",
       "      <td>2021-12-01</td>\n",
       "      <td>144.00</td>\n",
       "      <td>149.10</td>\n",
       "      <td>139.32</td>\n",
       "      <td>144.85</td>\n",
       "      <td>619694000</td>\n",
       "      <td>144.85</td>\n",
       "      <td>12</td>\n",
       "    </tr>\n",
       "    <tr>\n",
       "      <th>101</th>\n",
       "      <td>2021-10-01</td>\n",
       "      <td>134.45</td>\n",
       "      <td>148.65</td>\n",
       "      <td>131.05</td>\n",
       "      <td>148.05</td>\n",
       "      <td>720758000</td>\n",
       "      <td>148.05</td>\n",
       "      <td>10</td>\n",
       "    </tr>\n",
       "    <tr>\n",
       "      <th>104</th>\n",
       "      <td>2022-01-01</td>\n",
       "      <td>145.05</td>\n",
       "      <td>146.49</td>\n",
       "      <td>124.50</td>\n",
       "      <td>135.30</td>\n",
       "      <td>767206000</td>\n",
       "      <td>135.30</td>\n",
       "      <td>1</td>\n",
       "    </tr>\n",
       "  </tbody>\n",
       "</table>\n",
       "</div>"
      ],
      "text/plain": [
       "           Date   Price    High     Low   Close     Volume  Adj Close  Month\n",
       "105  2022-02-01  137.59  151.55  124.95  135.06  928126000     135.06      2\n",
       "102  2021-11-01  148.05  150.97  141.60  141.90  608378000     141.90     11\n",
       "103  2021-12-01  144.00  149.10  139.32  144.85  619694000     144.85     12\n",
       "101  2021-10-01  134.45  148.65  131.05  148.05  720758000     148.05     10\n",
       "104  2022-01-01  145.05  146.49  124.50  135.30  767206000     135.30      1"
      ]
     },
     "execution_count": 9,
     "metadata": {},
     "output_type": "execute_result"
    }
   ],
   "source": [
    "M_df.sort_values(by=['High'], ascending=False, axis=0, inplace=True)\n",
    "M_df.head()"
   ]
  },
  {
   "cell_type": "markdown",
   "id": "96432c34",
   "metadata": {
    "papermill": {
     "duration": 0.006518,
     "end_time": "2023-05-06T21:20:14.059166",
     "exception": false,
     "start_time": "2023-05-06T21:20:14.052648",
     "status": "completed"
    },
    "tags": []
   },
   "source": [
    "## Visualization Monthly Data"
   ]
  },
  {
   "cell_type": "code",
   "execution_count": 10,
   "id": "a1121394",
   "metadata": {
    "execution": {
     "iopub.execute_input": "2023-05-06T21:20:14.074206Z",
     "iopub.status.busy": "2023-05-06T21:20:14.073823Z",
     "iopub.status.idle": "2023-05-06T21:20:14.491354Z",
     "shell.execute_reply": "2023-05-06T21:20:14.490250Z"
    },
    "papermill": {
     "duration": 0.427993,
     "end_time": "2023-05-06T21:20:14.493857",
     "exception": false,
     "start_time": "2023-05-06T21:20:14.065864",
     "status": "completed"
    },
    "tags": []
   },
   "outputs": [
    {
     "data": {
      "image/png": "[encoded data removed]",
      "text/plain": [
       "<Figure size 2000x800 with 1 Axes>"
      ]
     },
     "metadata": {},
     "output_type": "display_data"
    }
   ],
   "source": [
    "fig, ax = plt.subplots(figsize=(20,8))\n",
    "ax.plot(M_df['Date'], M_df['High'], color='Blue')\n",
    "ax.xaxis.set_major_locator(plt.MaxNLocator(15))\n",
    "ax.set_xlabel('Date', fontsize='11')\n",
    "ax.set_ylabel('Price in USD', fontsize='11')\n",
    "plt.title('Google Monthly Stock Prices')\n",
    "plt.grid()\n",
    "plt.show()"
   ]
  },
  {
   "cell_type": "markdown",
   "id": "e87d822b",
   "metadata": {
    "papermill": {
     "duration": 0.007086,
     "end_time": "2023-05-06T21:20:14.508648",
     "exception": false,
     "start_time": "2023-05-06T21:20:14.501562",
     "status": "completed"
    },
    "tags": []
   },
   "source": [
    "## Now perform a regression analysis on monthly stock prices data using statsmodels"
   ]
  },
  {
   "cell_type": "markdown",
   "id": "848efb5a",
   "metadata": {
    "papermill": {
     "duration": 0.007062,
     "end_time": "2023-05-06T21:20:14.523062",
     "exception": false,
     "start_time": "2023-05-06T21:20:14.516000",
     "status": "completed"
    },
    "tags": []
   },
   "source": [
    "### Regression Analysis using sklearn"
   ]
  },
  {
   "cell_type": "code",
   "execution_count": 11,
   "id": "4ef91520",
   "metadata": {
    "execution": {
     "iopub.execute_input": "2023-05-06T21:20:14.539906Z",
     "iopub.status.busy": "2023-05-06T21:20:14.539274Z",
     "iopub.status.idle": "2023-05-06T21:20:14.881698Z",
     "shell.execute_reply": "2023-05-06T21:20:14.880637Z"
    },
    "papermill": {
     "duration": 0.353893,
     "end_time": "2023-05-06T21:20:14.884321",
     "exception": false,
     "start_time": "2023-05-06T21:20:14.530428",
     "status": "completed"
    },
    "tags": []
   },
   "outputs": [],
   "source": [
    "# Import necessary libraries\n",
    "import pandas as pd\n",
    "import numpy as np\n",
    "from sklearn.linear_model import LinearRegression\n",
    "from sklearn.model_selection import train_test_split\n",
    "from sklearn.metrics import r2_score"
   ]
  },
  {
   "cell_type": "code",
   "execution_count": 12,
   "id": "d0312547",
   "metadata": {
    "execution": {
     "iopub.execute_input": "2023-05-06T21:20:14.901839Z",
     "iopub.status.busy": "2023-05-06T21:20:14.901447Z",
     "iopub.status.idle": "2023-05-06T21:20:14.907337Z",
     "shell.execute_reply": "2023-05-06T21:20:14.906373Z"
    },
    "papermill": {
     "duration": 0.017064,
     "end_time": "2023-05-06T21:20:14.909459",
     "exception": false,
     "start_time": "2023-05-06T21:20:14.892395",
     "status": "completed"
    },
    "tags": []
   },
   "outputs": [],
   "source": [
    "# Define the independent variable(s) and dependent variable\n",
    "X = M_df[['Price', 'High', 'Low', 'Close', 'Volume']]\n",
    "y = M_df['Adj Close']"
   ]
  },
  {
   "cell_type": "code",
   "execution_count": 13,
   "id": "99acab2e",
   "metadata": {
    "execution": {
     "iopub.execute_input": "2023-05-06T21:20:14.926826Z",
     "iopub.status.busy": "2023-05-06T21:20:14.925867Z",
     "iopub.status.idle": "2023-05-06T21:20:14.932063Z",
     "shell.execute_reply": "2023-05-06T21:20:14.931338Z"
    },
    "papermill": {
     "duration": 0.01665,
     "end_time": "2023-05-06T21:20:14.933911",
     "exception": false,
     "start_time": "2023-05-06T21:20:14.917261",
     "status": "completed"
    },
    "tags": []
   },
   "outputs": [],
   "source": [
    "# Spliting the data into training and testing sets\n",
    "X_train, X_test, y_train, y_test = train_test_split(X, y, test_size=0.2, random_state=42)"
   ]
  },
  {
   "cell_type": "code",
   "execution_count": 14,
   "id": "ebcf015f",
   "metadata": {
    "execution": {
     "iopub.execute_input": "2023-05-06T21:20:14.950757Z",
     "iopub.status.busy": "2023-05-06T21:20:14.950114Z",
     "iopub.status.idle": "2023-05-06T21:20:14.975277Z",
     "shell.execute_reply": "2023-05-06T21:20:14.974160Z"
    },
    "papermill": {
     "duration": 0.036375,
     "end_time": "2023-05-06T21:20:14.977857",
     "exception": false,
     "start_time": "2023-05-06T21:20:14.941482",
     "status": "completed"
    },
    "tags": []
   },
   "outputs": [],
   "source": [
    "# Fiting the model on the training data\n",
    "model = LinearRegression().fit(X_train, y_train)\n"
   ]
  },
  {
   "cell_type": "code",
   "execution_count": 15,
   "id": "104b9c0f",
   "metadata": {
    "execution": {
     "iopub.execute_input": "2023-05-06T21:20:14.995182Z",
     "iopub.status.busy": "2023-05-06T21:20:14.994485Z",
     "iopub.status.idle": "2023-05-06T21:20:15.000529Z",
     "shell.execute_reply": "2023-05-06T21:20:14.999487Z"
    },
    "papermill": {
     "duration": 0.017043,
     "end_time": "2023-05-06T21:20:15.002633",
     "exception": false,
     "start_time": "2023-05-06T21:20:14.985590",
     "status": "completed"
    },
    "tags": []
   },
   "outputs": [],
   "source": [
    "# Predicting the values on the test data\n",
    "y_pred = model.predict(X_test)"
   ]
  },
  {
   "cell_type": "code",
   "execution_count": 16,
   "id": "0d4b5a34",
   "metadata": {
    "execution": {
     "iopub.execute_input": "2023-05-06T21:20:15.019770Z",
     "iopub.status.busy": "2023-05-06T21:20:15.019133Z",
     "iopub.status.idle": "2023-05-06T21:20:15.025423Z",
     "shell.execute_reply": "2023-05-06T21:20:15.024273Z"
    },
    "papermill": {
     "duration": 0.017361,
     "end_time": "2023-05-06T21:20:15.027678",
     "exception": false,
     "start_time": "2023-05-06T21:20:15.010317",
     "status": "completed"
    },
    "tags": []
   },
   "outputs": [
    {
     "name": "stdout",
     "output_type": "stream",
     "text": [
      "R-squared score: 1.0\n",
      "Model coefficients: [ 9.76093940e-16 -2.42882171e-16 -1.01251031e-16  1.00000000e+00\n",
      "  4.63221143e-21]\n"
     ]
    }
   ],
   "source": [
    "# Compute the R-squared score\n",
    "r2 = r2_score(y_test, y_pred)\n",
    "print(\"R-squared score:\", r2)\n",
    "\n",
    "\n",
    "print(\"Model coefficients:\", model.coef_)\n"
   ]
  },
  {
   "cell_type": "code",
   "execution_count": null,
   "id": "ecdf7cf5",
   "metadata": {
    "papermill": {
     "duration": 0.007218,
     "end_time": "2023-05-06T21:20:15.042524",
     "exception": false,
     "start_time": "2023-05-06T21:20:15.035306",
     "status": "completed"
    },
    "tags": []
   },
   "outputs": [],
   "source": []
  }
 ],
 "metadata": {
  "kernelspec": {
   "display_name": "Python 3",
   "language": "python",
   "name": "python3"
  },
  "language_info": {
   "codemirror_mode": {
    "name": "ipython",
    "version": 3
   },
   "file_extension": ".py",
   "mimetype": "text/x-python",
   "name": "python",
   "nbconvert_exporter": "python",
   "pygments_lexer": "ipython3",
   "version": "3.10.10"
  },
  "papermill": {
   "default_parameters": {},
   "duration": 14.500578,
   "end_time": "2023-05-06T21:20:16.071633",
   "environment_variables": {},
   "exception": null,
   "input_path": "__notebook__.ipynb",
   "output_path": "__notebook__.ipynb",
   "parameters": {},
   "start_time": "2023-05-06T21:20:01.571055",
   "version": "2.4.0"
  }
 },
 "nbformat": 4,
 "nbformat_minor": 5
}
