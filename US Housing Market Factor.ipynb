{
 "cells": [
  {
   "cell_type": "markdown",
   "id": "9fba0384",
   "metadata": {},
   "source": [
    "# Housing Market Factor from 1987-2022 "
   ]
  },
  {
   "cell_type": "markdown",
   "id": "230d3f62",
   "metadata": {},
   "source": [
    "### Import Necessary Liberaries"
   ]
  },
  {
   "cell_type": "code",
   "execution_count": 222,
   "id": "cb98b380",
   "metadata": {},
   "outputs": [],
   "source": [
    "import pandas as pd\n",
    "import numpy as np"
   ]
  },
  {
   "cell_type": "code",
   "execution_count": 223,
   "id": "57267033",
   "metadata": {},
   "outputs": [
    {
     "data": {
      "text/html": [
       "<div>\n",
       "<style scoped>\n",
       "    .dataframe tbody tr th:only-of-type {\n",
       "        vertical-align: middle;\n",
       "    }\n",
       "\n",
       "    .dataframe tbody tr th {\n",
       "        vertical-align: top;\n",
       "    }\n",
       "\n",
       "    .dataframe thead th {\n",
       "        text-align: right;\n",
       "    }\n",
       "</style>\n",
       "<table border=\"1\" class=\"dataframe\">\n",
       "  <thead>\n",
       "    <tr style=\"text-align: right;\">\n",
       "      <th></th>\n",
       "      <th>Date</th>\n",
       "      <th>house_price_index</th>\n",
       "      <th>population</th>\n",
       "      <th>house_supply</th>\n",
       "      <th>gdp</th>\n",
       "      <th>mortgage_rate</th>\n",
       "      <th>employment_rate</th>\n",
       "      <th>permit_new</th>\n",
       "      <th>ppi_res</th>\n",
       "      <th>m3</th>\n",
       "      <th>cci</th>\n",
       "      <th>delinquency_rate</th>\n",
       "      <th>hcai</th>\n",
       "    </tr>\n",
       "  </thead>\n",
       "  <tbody>\n",
       "    <tr>\n",
       "      <th>0</th>\n",
       "      <td>1987-01-01</td>\n",
       "      <td>63.965</td>\n",
       "      <td>241857</td>\n",
       "      <td>6.0</td>\n",
       "      <td>99.902813</td>\n",
       "      <td>9.2040</td>\n",
       "      <td>70.163085</td>\n",
       "      <td>1690.0</td>\n",
       "      <td>100.000</td>\n",
       "      <td>2.7439</td>\n",
       "      <td>100.46240</td>\n",
       "      <td>NaN</td>\n",
       "      <td>NaN</td>\n",
       "    </tr>\n",
       "    <tr>\n",
       "      <th>1</th>\n",
       "      <td>1987-02-01</td>\n",
       "      <td>64.424</td>\n",
       "      <td>242005</td>\n",
       "      <td>6.2</td>\n",
       "      <td>99.875864</td>\n",
       "      <td>9.0825</td>\n",
       "      <td>70.289205</td>\n",
       "      <td>1689.0</td>\n",
       "      <td>100.400</td>\n",
       "      <td>2.7475</td>\n",
       "      <td>100.49450</td>\n",
       "      <td>NaN</td>\n",
       "      <td>NaN</td>\n",
       "    </tr>\n",
       "    <tr>\n",
       "      <th>2</th>\n",
       "      <td>1987-03-01</td>\n",
       "      <td>64.735</td>\n",
       "      <td>242166</td>\n",
       "      <td>6.0</td>\n",
       "      <td>99.869734</td>\n",
       "      <td>9.0350</td>\n",
       "      <td>70.321678</td>\n",
       "      <td>1704.0</td>\n",
       "      <td>100.700</td>\n",
       "      <td>2.7537</td>\n",
       "      <td>100.57200</td>\n",
       "      <td>NaN</td>\n",
       "      <td>NaN</td>\n",
       "    </tr>\n",
       "    <tr>\n",
       "      <th>3</th>\n",
       "      <td>1987-04-01</td>\n",
       "      <td>65.132</td>\n",
       "      <td>242338</td>\n",
       "      <td>6.0</td>\n",
       "      <td>99.882087</td>\n",
       "      <td>9.8325</td>\n",
       "      <td>70.499062</td>\n",
       "      <td>1601.0</td>\n",
       "      <td>101.100</td>\n",
       "      <td>2.7677</td>\n",
       "      <td>100.65680</td>\n",
       "      <td>NaN</td>\n",
       "      <td>NaN</td>\n",
       "    </tr>\n",
       "    <tr>\n",
       "      <th>4</th>\n",
       "      <td>1987-05-01</td>\n",
       "      <td>65.565</td>\n",
       "      <td>242516</td>\n",
       "      <td>6.7</td>\n",
       "      <td>99.910371</td>\n",
       "      <td>10.5960</td>\n",
       "      <td>70.808308</td>\n",
       "      <td>1500.0</td>\n",
       "      <td>101.300</td>\n",
       "      <td>2.7729</td>\n",
       "      <td>100.69190</td>\n",
       "      <td>NaN</td>\n",
       "      <td>NaN</td>\n",
       "    </tr>\n",
       "    <tr>\n",
       "      <th>...</th>\n",
       "      <td>...</td>\n",
       "      <td>...</td>\n",
       "      <td>...</td>\n",
       "      <td>...</td>\n",
       "      <td>...</td>\n",
       "      <td>...</td>\n",
       "      <td>...</td>\n",
       "      <td>...</td>\n",
       "      <td>...</td>\n",
       "      <td>...</td>\n",
       "      <td>...</td>\n",
       "      <td>...</td>\n",
       "      <td>...</td>\n",
       "    </tr>\n",
       "    <tr>\n",
       "      <th>420</th>\n",
       "      <td>2022-01-01</td>\n",
       "      <td>284.767</td>\n",
       "      <td>332684</td>\n",
       "      <td>5.7</td>\n",
       "      <td>100.091744</td>\n",
       "      <td>3.4450</td>\n",
       "      <td>70.748899</td>\n",
       "      <td>1841.0</td>\n",
       "      <td>294.807</td>\n",
       "      <td>21.6593</td>\n",
       "      <td>97.49467</td>\n",
       "      <td>2.13</td>\n",
       "      <td>NaN</td>\n",
       "    </tr>\n",
       "    <tr>\n",
       "      <th>421</th>\n",
       "      <td>2022-02-01</td>\n",
       "      <td>290.371</td>\n",
       "      <td>332750</td>\n",
       "      <td>6.0</td>\n",
       "      <td>100.034014</td>\n",
       "      <td>3.7625</td>\n",
       "      <td>70.890307</td>\n",
       "      <td>1857.0</td>\n",
       "      <td>303.546</td>\n",
       "      <td>21.7497</td>\n",
       "      <td>97.18996</td>\n",
       "      <td>2.13</td>\n",
       "      <td>NaN</td>\n",
       "    </tr>\n",
       "    <tr>\n",
       "      <th>422</th>\n",
       "      <td>2022-03-01</td>\n",
       "      <td>296.496</td>\n",
       "      <td>332812</td>\n",
       "      <td>7.0</td>\n",
       "      <td>NaN</td>\n",
       "      <td>NaN</td>\n",
       "      <td>NaN</td>\n",
       "      <td>NaN</td>\n",
       "      <td>NaN</td>\n",
       "      <td>NaN</td>\n",
       "      <td>NaN</td>\n",
       "      <td>NaN</td>\n",
       "      <td>NaN</td>\n",
       "    </tr>\n",
       "    <tr>\n",
       "      <th>423</th>\n",
       "      <td>2022-04-01</td>\n",
       "      <td>301.704</td>\n",
       "      <td>332863</td>\n",
       "      <td>8.6</td>\n",
       "      <td>NaN</td>\n",
       "      <td>NaN</td>\n",
       "      <td>NaN</td>\n",
       "      <td>NaN</td>\n",
       "      <td>NaN</td>\n",
       "      <td>NaN</td>\n",
       "      <td>NaN</td>\n",
       "      <td>NaN</td>\n",
       "      <td>NaN</td>\n",
       "    </tr>\n",
       "    <tr>\n",
       "      <th>424</th>\n",
       "      <td>2022-05-01</td>\n",
       "      <td>304.831</td>\n",
       "      <td>332928</td>\n",
       "      <td>8.4</td>\n",
       "      <td>NaN</td>\n",
       "      <td>NaN</td>\n",
       "      <td>NaN</td>\n",
       "      <td>NaN</td>\n",
       "      <td>NaN</td>\n",
       "      <td>NaN</td>\n",
       "      <td>NaN</td>\n",
       "      <td>NaN</td>\n",
       "      <td>NaN</td>\n",
       "    </tr>\n",
       "  </tbody>\n",
       "</table>\n",
       "<p>425 rows × 13 columns</p>\n",
       "</div>"
      ],
      "text/plain": [
       "           Date  house_price_index  population  house_supply         gdp  \\\n",
       "0    1987-01-01             63.965      241857           6.0   99.902813   \n",
       "1    1987-02-01             64.424      242005           6.2   99.875864   \n",
       "2    1987-03-01             64.735      242166           6.0   99.869734   \n",
       "3    1987-04-01             65.132      242338           6.0   99.882087   \n",
       "4    1987-05-01             65.565      242516           6.7   99.910371   \n",
       "..          ...                ...         ...           ...         ...   \n",
       "420  2022-01-01            284.767      332684           5.7  100.091744   \n",
       "421  2022-02-01            290.371      332750           6.0  100.034014   \n",
       "422  2022-03-01            296.496      332812           7.0         NaN   \n",
       "423  2022-04-01            301.704      332863           8.6         NaN   \n",
       "424  2022-05-01            304.831      332928           8.4         NaN   \n",
       "\n",
       "     mortgage_rate  employment_rate  permit_new  ppi_res       m3        cci  \\\n",
       "0           9.2040        70.163085      1690.0  100.000   2.7439  100.46240   \n",
       "1           9.0825        70.289205      1689.0  100.400   2.7475  100.49450   \n",
       "2           9.0350        70.321678      1704.0  100.700   2.7537  100.57200   \n",
       "3           9.8325        70.499062      1601.0  101.100   2.7677  100.65680   \n",
       "4          10.5960        70.808308      1500.0  101.300   2.7729  100.69190   \n",
       "..             ...              ...         ...      ...      ...        ...   \n",
       "420         3.4450        70.748899      1841.0  294.807  21.6593   97.49467   \n",
       "421         3.7625        70.890307      1857.0  303.546  21.7497   97.18996   \n",
       "422            NaN              NaN         NaN      NaN      NaN        NaN   \n",
       "423            NaN              NaN         NaN      NaN      NaN        NaN   \n",
       "424            NaN              NaN         NaN      NaN      NaN        NaN   \n",
       "\n",
       "     delinquency_rate  hcai  \n",
       "0                 NaN   NaN  \n",
       "1                 NaN   NaN  \n",
       "2                 NaN   NaN  \n",
       "3                 NaN   NaN  \n",
       "4                 NaN   NaN  \n",
       "..                ...   ...  \n",
       "420              2.13   NaN  \n",
       "421              2.13   NaN  \n",
       "422               NaN   NaN  \n",
       "423               NaN   NaN  \n",
       "424               NaN   NaN  \n",
       "\n",
       "[425 rows x 13 columns]"
      ]
     },
     "execution_count": 223,
     "metadata": {},
     "output_type": "execute_result"
    }
   ],
   "source": [
    "df = pd.read_csv('Housing_Macroeconomic_Factors_US.csv')\n",
    "df"
   ]
  },
  {
   "cell_type": "markdown",
   "id": "f9d157a2",
   "metadata": {},
   "source": [
    "#### We can also view the bottom 5 rows of the dataset using the `tail()` function.\n"
   ]
  },
  {
   "cell_type": "code",
   "execution_count": 224,
   "id": "e6685d85",
   "metadata": {},
   "outputs": [
    {
     "data": {
      "text/html": [
       "<div>\n",
       "<style scoped>\n",
       "    .dataframe tbody tr th:only-of-type {\n",
       "        vertical-align: middle;\n",
       "    }\n",
       "\n",
       "    .dataframe tbody tr th {\n",
       "        vertical-align: top;\n",
       "    }\n",
       "\n",
       "    .dataframe thead th {\n",
       "        text-align: right;\n",
       "    }\n",
       "</style>\n",
       "<table border=\"1\" class=\"dataframe\">\n",
       "  <thead>\n",
       "    <tr style=\"text-align: right;\">\n",
       "      <th></th>\n",
       "      <th>Date</th>\n",
       "      <th>house_price_index</th>\n",
       "      <th>population</th>\n",
       "      <th>house_supply</th>\n",
       "      <th>gdp</th>\n",
       "      <th>mortgage_rate</th>\n",
       "      <th>employment_rate</th>\n",
       "      <th>permit_new</th>\n",
       "      <th>ppi_res</th>\n",
       "      <th>m3</th>\n",
       "      <th>cci</th>\n",
       "      <th>delinquency_rate</th>\n",
       "      <th>hcai</th>\n",
       "    </tr>\n",
       "  </thead>\n",
       "  <tbody>\n",
       "    <tr>\n",
       "      <th>420</th>\n",
       "      <td>2022-01-01</td>\n",
       "      <td>284.767</td>\n",
       "      <td>332684</td>\n",
       "      <td>5.7</td>\n",
       "      <td>100.091744</td>\n",
       "      <td>3.4450</td>\n",
       "      <td>70.748899</td>\n",
       "      <td>1841.0</td>\n",
       "      <td>294.807</td>\n",
       "      <td>21.6593</td>\n",
       "      <td>97.49467</td>\n",
       "      <td>2.13</td>\n",
       "      <td>NaN</td>\n",
       "    </tr>\n",
       "    <tr>\n",
       "      <th>421</th>\n",
       "      <td>2022-02-01</td>\n",
       "      <td>290.371</td>\n",
       "      <td>332750</td>\n",
       "      <td>6.0</td>\n",
       "      <td>100.034014</td>\n",
       "      <td>3.7625</td>\n",
       "      <td>70.890307</td>\n",
       "      <td>1857.0</td>\n",
       "      <td>303.546</td>\n",
       "      <td>21.7497</td>\n",
       "      <td>97.18996</td>\n",
       "      <td>2.13</td>\n",
       "      <td>NaN</td>\n",
       "    </tr>\n",
       "    <tr>\n",
       "      <th>422</th>\n",
       "      <td>2022-03-01</td>\n",
       "      <td>296.496</td>\n",
       "      <td>332812</td>\n",
       "      <td>7.0</td>\n",
       "      <td>NaN</td>\n",
       "      <td>NaN</td>\n",
       "      <td>NaN</td>\n",
       "      <td>NaN</td>\n",
       "      <td>NaN</td>\n",
       "      <td>NaN</td>\n",
       "      <td>NaN</td>\n",
       "      <td>NaN</td>\n",
       "      <td>NaN</td>\n",
       "    </tr>\n",
       "    <tr>\n",
       "      <th>423</th>\n",
       "      <td>2022-04-01</td>\n",
       "      <td>301.704</td>\n",
       "      <td>332863</td>\n",
       "      <td>8.6</td>\n",
       "      <td>NaN</td>\n",
       "      <td>NaN</td>\n",
       "      <td>NaN</td>\n",
       "      <td>NaN</td>\n",
       "      <td>NaN</td>\n",
       "      <td>NaN</td>\n",
       "      <td>NaN</td>\n",
       "      <td>NaN</td>\n",
       "      <td>NaN</td>\n",
       "    </tr>\n",
       "    <tr>\n",
       "      <th>424</th>\n",
       "      <td>2022-05-01</td>\n",
       "      <td>304.831</td>\n",
       "      <td>332928</td>\n",
       "      <td>8.4</td>\n",
       "      <td>NaN</td>\n",
       "      <td>NaN</td>\n",
       "      <td>NaN</td>\n",
       "      <td>NaN</td>\n",
       "      <td>NaN</td>\n",
       "      <td>NaN</td>\n",
       "      <td>NaN</td>\n",
       "      <td>NaN</td>\n",
       "      <td>NaN</td>\n",
       "    </tr>\n",
       "  </tbody>\n",
       "</table>\n",
       "</div>"
      ],
      "text/plain": [
       "           Date  house_price_index  population  house_supply         gdp  \\\n",
       "420  2022-01-01            284.767      332684           5.7  100.091744   \n",
       "421  2022-02-01            290.371      332750           6.0  100.034014   \n",
       "422  2022-03-01            296.496      332812           7.0         NaN   \n",
       "423  2022-04-01            301.704      332863           8.6         NaN   \n",
       "424  2022-05-01            304.831      332928           8.4         NaN   \n",
       "\n",
       "     mortgage_rate  employment_rate  permit_new  ppi_res       m3       cci  \\\n",
       "420         3.4450        70.748899      1841.0  294.807  21.6593  97.49467   \n",
       "421         3.7625        70.890307      1857.0  303.546  21.7497  97.18996   \n",
       "422            NaN              NaN         NaN      NaN      NaN       NaN   \n",
       "423            NaN              NaN         NaN      NaN      NaN       NaN   \n",
       "424            NaN              NaN         NaN      NaN      NaN       NaN   \n",
       "\n",
       "     delinquency_rate  hcai  \n",
       "420              2.13   NaN  \n",
       "421              2.13   NaN  \n",
       "422               NaN   NaN  \n",
       "423               NaN   NaN  \n",
       "424               NaN   NaN  "
      ]
     },
     "execution_count": 224,
     "metadata": {},
     "output_type": "execute_result"
    }
   ],
   "source": [
    "df.tail()"
   ]
  },
  {
   "cell_type": "code",
   "execution_count": 225,
   "id": "d23b82a7",
   "metadata": {},
   "outputs": [],
   "source": [
    "df.to_csv(r'my_data.csv', index=False)"
   ]
  },
  {
   "cell_type": "markdown",
   "id": "d03a6e10",
   "metadata": {},
   "source": [
    "#### Dealing with missing Data using isnull() OR null()"
   ]
  },
  {
   "cell_type": "code",
   "execution_count": 226,
   "id": "5434e3f3",
   "metadata": {},
   "outputs": [
    {
     "data": {
      "text/html": [
       "<div>\n",
       "<style scoped>\n",
       "    .dataframe tbody tr th:only-of-type {\n",
       "        vertical-align: middle;\n",
       "    }\n",
       "\n",
       "    .dataframe tbody tr th {\n",
       "        vertical-align: top;\n",
       "    }\n",
       "\n",
       "    .dataframe thead th {\n",
       "        text-align: right;\n",
       "    }\n",
       "</style>\n",
       "<table border=\"1\" class=\"dataframe\">\n",
       "  <thead>\n",
       "    <tr style=\"text-align: right;\">\n",
       "      <th></th>\n",
       "      <th>Date</th>\n",
       "      <th>house_price_index</th>\n",
       "      <th>population</th>\n",
       "      <th>house_supply</th>\n",
       "      <th>gdp</th>\n",
       "      <th>mortgage_rate</th>\n",
       "      <th>employment_rate</th>\n",
       "      <th>permit_new</th>\n",
       "      <th>ppi_res</th>\n",
       "      <th>m3</th>\n",
       "      <th>cci</th>\n",
       "      <th>delinquency_rate</th>\n",
       "      <th>hcai</th>\n",
       "    </tr>\n",
       "  </thead>\n",
       "  <tbody>\n",
       "    <tr>\n",
       "      <th>0</th>\n",
       "      <td>False</td>\n",
       "      <td>False</td>\n",
       "      <td>False</td>\n",
       "      <td>False</td>\n",
       "      <td>False</td>\n",
       "      <td>False</td>\n",
       "      <td>False</td>\n",
       "      <td>False</td>\n",
       "      <td>False</td>\n",
       "      <td>False</td>\n",
       "      <td>False</td>\n",
       "      <td>True</td>\n",
       "      <td>True</td>\n",
       "    </tr>\n",
       "    <tr>\n",
       "      <th>1</th>\n",
       "      <td>False</td>\n",
       "      <td>False</td>\n",
       "      <td>False</td>\n",
       "      <td>False</td>\n",
       "      <td>False</td>\n",
       "      <td>False</td>\n",
       "      <td>False</td>\n",
       "      <td>False</td>\n",
       "      <td>False</td>\n",
       "      <td>False</td>\n",
       "      <td>False</td>\n",
       "      <td>True</td>\n",
       "      <td>True</td>\n",
       "    </tr>\n",
       "    <tr>\n",
       "      <th>2</th>\n",
       "      <td>False</td>\n",
       "      <td>False</td>\n",
       "      <td>False</td>\n",
       "      <td>False</td>\n",
       "      <td>False</td>\n",
       "      <td>False</td>\n",
       "      <td>False</td>\n",
       "      <td>False</td>\n",
       "      <td>False</td>\n",
       "      <td>False</td>\n",
       "      <td>False</td>\n",
       "      <td>True</td>\n",
       "      <td>True</td>\n",
       "    </tr>\n",
       "    <tr>\n",
       "      <th>3</th>\n",
       "      <td>False</td>\n",
       "      <td>False</td>\n",
       "      <td>False</td>\n",
       "      <td>False</td>\n",
       "      <td>False</td>\n",
       "      <td>False</td>\n",
       "      <td>False</td>\n",
       "      <td>False</td>\n",
       "      <td>False</td>\n",
       "      <td>False</td>\n",
       "      <td>False</td>\n",
       "      <td>True</td>\n",
       "      <td>True</td>\n",
       "    </tr>\n",
       "    <tr>\n",
       "      <th>4</th>\n",
       "      <td>False</td>\n",
       "      <td>False</td>\n",
       "      <td>False</td>\n",
       "      <td>False</td>\n",
       "      <td>False</td>\n",
       "      <td>False</td>\n",
       "      <td>False</td>\n",
       "      <td>False</td>\n",
       "      <td>False</td>\n",
       "      <td>False</td>\n",
       "      <td>False</td>\n",
       "      <td>True</td>\n",
       "      <td>True</td>\n",
       "    </tr>\n",
       "    <tr>\n",
       "      <th>5</th>\n",
       "      <td>False</td>\n",
       "      <td>False</td>\n",
       "      <td>False</td>\n",
       "      <td>False</td>\n",
       "      <td>False</td>\n",
       "      <td>False</td>\n",
       "      <td>False</td>\n",
       "      <td>False</td>\n",
       "      <td>False</td>\n",
       "      <td>False</td>\n",
       "      <td>False</td>\n",
       "      <td>True</td>\n",
       "      <td>True</td>\n",
       "    </tr>\n",
       "    <tr>\n",
       "      <th>6</th>\n",
       "      <td>False</td>\n",
       "      <td>False</td>\n",
       "      <td>False</td>\n",
       "      <td>False</td>\n",
       "      <td>False</td>\n",
       "      <td>False</td>\n",
       "      <td>False</td>\n",
       "      <td>False</td>\n",
       "      <td>False</td>\n",
       "      <td>False</td>\n",
       "      <td>False</td>\n",
       "      <td>True</td>\n",
       "      <td>True</td>\n",
       "    </tr>\n",
       "    <tr>\n",
       "      <th>7</th>\n",
       "      <td>False</td>\n",
       "      <td>False</td>\n",
       "      <td>False</td>\n",
       "      <td>False</td>\n",
       "      <td>False</td>\n",
       "      <td>False</td>\n",
       "      <td>False</td>\n",
       "      <td>False</td>\n",
       "      <td>False</td>\n",
       "      <td>False</td>\n",
       "      <td>False</td>\n",
       "      <td>True</td>\n",
       "      <td>True</td>\n",
       "    </tr>\n",
       "    <tr>\n",
       "      <th>8</th>\n",
       "      <td>False</td>\n",
       "      <td>False</td>\n",
       "      <td>False</td>\n",
       "      <td>False</td>\n",
       "      <td>False</td>\n",
       "      <td>False</td>\n",
       "      <td>False</td>\n",
       "      <td>False</td>\n",
       "      <td>False</td>\n",
       "      <td>False</td>\n",
       "      <td>False</td>\n",
       "      <td>True</td>\n",
       "      <td>True</td>\n",
       "    </tr>\n",
       "    <tr>\n",
       "      <th>9</th>\n",
       "      <td>False</td>\n",
       "      <td>False</td>\n",
       "      <td>False</td>\n",
       "      <td>False</td>\n",
       "      <td>False</td>\n",
       "      <td>False</td>\n",
       "      <td>False</td>\n",
       "      <td>False</td>\n",
       "      <td>False</td>\n",
       "      <td>False</td>\n",
       "      <td>False</td>\n",
       "      <td>True</td>\n",
       "      <td>True</td>\n",
       "    </tr>\n",
       "    <tr>\n",
       "      <th>10</th>\n",
       "      <td>False</td>\n",
       "      <td>False</td>\n",
       "      <td>False</td>\n",
       "      <td>False</td>\n",
       "      <td>False</td>\n",
       "      <td>False</td>\n",
       "      <td>False</td>\n",
       "      <td>False</td>\n",
       "      <td>False</td>\n",
       "      <td>False</td>\n",
       "      <td>False</td>\n",
       "      <td>True</td>\n",
       "      <td>True</td>\n",
       "    </tr>\n",
       "    <tr>\n",
       "      <th>11</th>\n",
       "      <td>False</td>\n",
       "      <td>False</td>\n",
       "      <td>False</td>\n",
       "      <td>False</td>\n",
       "      <td>False</td>\n",
       "      <td>False</td>\n",
       "      <td>False</td>\n",
       "      <td>False</td>\n",
       "      <td>False</td>\n",
       "      <td>False</td>\n",
       "      <td>False</td>\n",
       "      <td>True</td>\n",
       "      <td>True</td>\n",
       "    </tr>\n",
       "    <tr>\n",
       "      <th>12</th>\n",
       "      <td>False</td>\n",
       "      <td>False</td>\n",
       "      <td>False</td>\n",
       "      <td>False</td>\n",
       "      <td>False</td>\n",
       "      <td>False</td>\n",
       "      <td>False</td>\n",
       "      <td>False</td>\n",
       "      <td>False</td>\n",
       "      <td>False</td>\n",
       "      <td>False</td>\n",
       "      <td>True</td>\n",
       "      <td>True</td>\n",
       "    </tr>\n",
       "    <tr>\n",
       "      <th>13</th>\n",
       "      <td>False</td>\n",
       "      <td>False</td>\n",
       "      <td>False</td>\n",
       "      <td>False</td>\n",
       "      <td>False</td>\n",
       "      <td>False</td>\n",
       "      <td>False</td>\n",
       "      <td>False</td>\n",
       "      <td>False</td>\n",
       "      <td>False</td>\n",
       "      <td>False</td>\n",
       "      <td>True</td>\n",
       "      <td>True</td>\n",
       "    </tr>\n",
       "    <tr>\n",
       "      <th>14</th>\n",
       "      <td>False</td>\n",
       "      <td>False</td>\n",
       "      <td>False</td>\n",
       "      <td>False</td>\n",
       "      <td>False</td>\n",
       "      <td>False</td>\n",
       "      <td>False</td>\n",
       "      <td>False</td>\n",
       "      <td>False</td>\n",
       "      <td>False</td>\n",
       "      <td>False</td>\n",
       "      <td>True</td>\n",
       "      <td>True</td>\n",
       "    </tr>\n",
       "  </tbody>\n",
       "</table>\n",
       "</div>"
      ],
      "text/plain": [
       "     Date  house_price_index  population  house_supply    gdp  mortgage_rate  \\\n",
       "0   False              False       False         False  False          False   \n",
       "1   False              False       False         False  False          False   \n",
       "2   False              False       False         False  False          False   \n",
       "3   False              False       False         False  False          False   \n",
       "4   False              False       False         False  False          False   \n",
       "5   False              False       False         False  False          False   \n",
       "6   False              False       False         False  False          False   \n",
       "7   False              False       False         False  False          False   \n",
       "8   False              False       False         False  False          False   \n",
       "9   False              False       False         False  False          False   \n",
       "10  False              False       False         False  False          False   \n",
       "11  False              False       False         False  False          False   \n",
       "12  False              False       False         False  False          False   \n",
       "13  False              False       False         False  False          False   \n",
       "14  False              False       False         False  False          False   \n",
       "\n",
       "    employment_rate  permit_new  ppi_res     m3    cci  delinquency_rate  hcai  \n",
       "0             False       False    False  False  False              True  True  \n",
       "1             False       False    False  False  False              True  True  \n",
       "2             False       False    False  False  False              True  True  \n",
       "3             False       False    False  False  False              True  True  \n",
       "4             False       False    False  False  False              True  True  \n",
       "5             False       False    False  False  False              True  True  \n",
       "6             False       False    False  False  False              True  True  \n",
       "7             False       False    False  False  False              True  True  \n",
       "8             False       False    False  False  False              True  True  \n",
       "9             False       False    False  False  False              True  True  \n",
       "10            False       False    False  False  False              True  True  \n",
       "11            False       False    False  False  False              True  True  \n",
       "12            False       False    False  False  False              True  True  \n",
       "13            False       False    False  False  False              True  True  \n",
       "14            False       False    False  False  False              True  True  "
      ]
     },
     "execution_count": 226,
     "metadata": {},
     "output_type": "execute_result"
    }
   ],
   "source": [
    "missing_data = df.isnull()\n",
    "missing_data.head(15)"
   ]
  },
  {
   "cell_type": "markdown",
   "id": "0b6afadc",
   "metadata": {},
   "source": [
    "### Replace Missing Columns"
   ]
  },
  {
   "cell_type": "code",
   "execution_count": 227,
   "id": "b5aca189",
   "metadata": {},
   "outputs": [],
   "source": [
    "mean = df['delinquency_rate'].mean"
   ]
  },
  {
   "cell_type": "code",
   "execution_count": 228,
   "id": "e7419e5e",
   "metadata": {},
   "outputs": [
    {
     "data": {
      "text/plain": [
       "0      <bound method NDFrame._add_numeric_operations....\n",
       "1      <bound method NDFrame._add_numeric_operations....\n",
       "2      <bound method NDFrame._add_numeric_operations....\n",
       "3      <bound method NDFrame._add_numeric_operations....\n",
       "4      <bound method NDFrame._add_numeric_operations....\n",
       "                             ...                        \n",
       "420                                                 2.13\n",
       "421                                                 2.13\n",
       "422    <bound method NDFrame._add_numeric_operations....\n",
       "423    <bound method NDFrame._add_numeric_operations....\n",
       "424    <bound method NDFrame._add_numeric_operations....\n",
       "Name: delinquency_rate, Length: 425, dtype: object"
      ]
     },
     "execution_count": 228,
     "metadata": {},
     "output_type": "execute_result"
    }
   ],
   "source": [
    "df['delinquency_rate'].replace(np.nan, mean)"
   ]
  },
  {
   "cell_type": "markdown",
   "id": "16989dce",
   "metadata": {},
   "source": [
    "#### as we can explain that was just some empty rows without no data and we can not expect any data there "
   ]
  },
  {
   "cell_type": "markdown",
   "id": "32b46238",
   "metadata": {},
   "source": [
    "#### now we make a rename for necessary columns to be an esay way for using DataFrame"
   ]
  },
  {
   "cell_type": "code",
   "execution_count": 229,
   "id": "1ae5af39",
   "metadata": {},
   "outputs": [
    {
     "data": {
      "text/html": [
       "<div>\n",
       "<style scoped>\n",
       "    .dataframe tbody tr th:only-of-type {\n",
       "        vertical-align: middle;\n",
       "    }\n",
       "\n",
       "    .dataframe tbody tr th {\n",
       "        vertical-align: top;\n",
       "    }\n",
       "\n",
       "    .dataframe thead th {\n",
       "        text-align: right;\n",
       "    }\n",
       "</style>\n",
       "<table border=\"1\" class=\"dataframe\">\n",
       "  <thead>\n",
       "    <tr style=\"text-align: right;\">\n",
       "      <th></th>\n",
       "      <th>Date</th>\n",
       "      <th>house_price</th>\n",
       "      <th>population</th>\n",
       "      <th>house_supply</th>\n",
       "      <th>gdp</th>\n",
       "      <th>mortgage_rate</th>\n",
       "      <th>employment_rate</th>\n",
       "      <th>permit_new</th>\n",
       "      <th>ppi_res</th>\n",
       "      <th>m3</th>\n",
       "      <th>cci</th>\n",
       "      <th>delinquency_rate</th>\n",
       "      <th>hcai</th>\n",
       "    </tr>\n",
       "  </thead>\n",
       "  <tbody>\n",
       "    <tr>\n",
       "      <th>0</th>\n",
       "      <td>1987-01-01</td>\n",
       "      <td>63.965</td>\n",
       "      <td>241857</td>\n",
       "      <td>6.0</td>\n",
       "      <td>99.902813</td>\n",
       "      <td>9.2040</td>\n",
       "      <td>70.163085</td>\n",
       "      <td>1690.0</td>\n",
       "      <td>100.000</td>\n",
       "      <td>2.7439</td>\n",
       "      <td>100.46240</td>\n",
       "      <td>NaN</td>\n",
       "      <td>NaN</td>\n",
       "    </tr>\n",
       "    <tr>\n",
       "      <th>1</th>\n",
       "      <td>1987-02-01</td>\n",
       "      <td>64.424</td>\n",
       "      <td>242005</td>\n",
       "      <td>6.2</td>\n",
       "      <td>99.875864</td>\n",
       "      <td>9.0825</td>\n",
       "      <td>70.289205</td>\n",
       "      <td>1689.0</td>\n",
       "      <td>100.400</td>\n",
       "      <td>2.7475</td>\n",
       "      <td>100.49450</td>\n",
       "      <td>NaN</td>\n",
       "      <td>NaN</td>\n",
       "    </tr>\n",
       "    <tr>\n",
       "      <th>2</th>\n",
       "      <td>1987-03-01</td>\n",
       "      <td>64.735</td>\n",
       "      <td>242166</td>\n",
       "      <td>6.0</td>\n",
       "      <td>99.869734</td>\n",
       "      <td>9.0350</td>\n",
       "      <td>70.321678</td>\n",
       "      <td>1704.0</td>\n",
       "      <td>100.700</td>\n",
       "      <td>2.7537</td>\n",
       "      <td>100.57200</td>\n",
       "      <td>NaN</td>\n",
       "      <td>NaN</td>\n",
       "    </tr>\n",
       "    <tr>\n",
       "      <th>3</th>\n",
       "      <td>1987-04-01</td>\n",
       "      <td>65.132</td>\n",
       "      <td>242338</td>\n",
       "      <td>6.0</td>\n",
       "      <td>99.882087</td>\n",
       "      <td>9.8325</td>\n",
       "      <td>70.499062</td>\n",
       "      <td>1601.0</td>\n",
       "      <td>101.100</td>\n",
       "      <td>2.7677</td>\n",
       "      <td>100.65680</td>\n",
       "      <td>NaN</td>\n",
       "      <td>NaN</td>\n",
       "    </tr>\n",
       "    <tr>\n",
       "      <th>4</th>\n",
       "      <td>1987-05-01</td>\n",
       "      <td>65.565</td>\n",
       "      <td>242516</td>\n",
       "      <td>6.7</td>\n",
       "      <td>99.910371</td>\n",
       "      <td>10.5960</td>\n",
       "      <td>70.808308</td>\n",
       "      <td>1500.0</td>\n",
       "      <td>101.300</td>\n",
       "      <td>2.7729</td>\n",
       "      <td>100.69190</td>\n",
       "      <td>NaN</td>\n",
       "      <td>NaN</td>\n",
       "    </tr>\n",
       "    <tr>\n",
       "      <th>...</th>\n",
       "      <td>...</td>\n",
       "      <td>...</td>\n",
       "      <td>...</td>\n",
       "      <td>...</td>\n",
       "      <td>...</td>\n",
       "      <td>...</td>\n",
       "      <td>...</td>\n",
       "      <td>...</td>\n",
       "      <td>...</td>\n",
       "      <td>...</td>\n",
       "      <td>...</td>\n",
       "      <td>...</td>\n",
       "      <td>...</td>\n",
       "    </tr>\n",
       "    <tr>\n",
       "      <th>420</th>\n",
       "      <td>2022-01-01</td>\n",
       "      <td>284.767</td>\n",
       "      <td>332684</td>\n",
       "      <td>5.7</td>\n",
       "      <td>100.091744</td>\n",
       "      <td>3.4450</td>\n",
       "      <td>70.748899</td>\n",
       "      <td>1841.0</td>\n",
       "      <td>294.807</td>\n",
       "      <td>21.6593</td>\n",
       "      <td>97.49467</td>\n",
       "      <td>2.13</td>\n",
       "      <td>NaN</td>\n",
       "    </tr>\n",
       "    <tr>\n",
       "      <th>421</th>\n",
       "      <td>2022-02-01</td>\n",
       "      <td>290.371</td>\n",
       "      <td>332750</td>\n",
       "      <td>6.0</td>\n",
       "      <td>100.034014</td>\n",
       "      <td>3.7625</td>\n",
       "      <td>70.890307</td>\n",
       "      <td>1857.0</td>\n",
       "      <td>303.546</td>\n",
       "      <td>21.7497</td>\n",
       "      <td>97.18996</td>\n",
       "      <td>2.13</td>\n",
       "      <td>NaN</td>\n",
       "    </tr>\n",
       "    <tr>\n",
       "      <th>422</th>\n",
       "      <td>2022-03-01</td>\n",
       "      <td>296.496</td>\n",
       "      <td>332812</td>\n",
       "      <td>7.0</td>\n",
       "      <td>NaN</td>\n",
       "      <td>NaN</td>\n",
       "      <td>NaN</td>\n",
       "      <td>NaN</td>\n",
       "      <td>NaN</td>\n",
       "      <td>NaN</td>\n",
       "      <td>NaN</td>\n",
       "      <td>NaN</td>\n",
       "      <td>NaN</td>\n",
       "    </tr>\n",
       "    <tr>\n",
       "      <th>423</th>\n",
       "      <td>2022-04-01</td>\n",
       "      <td>301.704</td>\n",
       "      <td>332863</td>\n",
       "      <td>8.6</td>\n",
       "      <td>NaN</td>\n",
       "      <td>NaN</td>\n",
       "      <td>NaN</td>\n",
       "      <td>NaN</td>\n",
       "      <td>NaN</td>\n",
       "      <td>NaN</td>\n",
       "      <td>NaN</td>\n",
       "      <td>NaN</td>\n",
       "      <td>NaN</td>\n",
       "    </tr>\n",
       "    <tr>\n",
       "      <th>424</th>\n",
       "      <td>2022-05-01</td>\n",
       "      <td>304.831</td>\n",
       "      <td>332928</td>\n",
       "      <td>8.4</td>\n",
       "      <td>NaN</td>\n",
       "      <td>NaN</td>\n",
       "      <td>NaN</td>\n",
       "      <td>NaN</td>\n",
       "      <td>NaN</td>\n",
       "      <td>NaN</td>\n",
       "      <td>NaN</td>\n",
       "      <td>NaN</td>\n",
       "      <td>NaN</td>\n",
       "    </tr>\n",
       "  </tbody>\n",
       "</table>\n",
       "<p>425 rows × 13 columns</p>\n",
       "</div>"
      ],
      "text/plain": [
       "           Date  house_price  population  house_supply         gdp  \\\n",
       "0    1987-01-01       63.965      241857           6.0   99.902813   \n",
       "1    1987-02-01       64.424      242005           6.2   99.875864   \n",
       "2    1987-03-01       64.735      242166           6.0   99.869734   \n",
       "3    1987-04-01       65.132      242338           6.0   99.882087   \n",
       "4    1987-05-01       65.565      242516           6.7   99.910371   \n",
       "..          ...          ...         ...           ...         ...   \n",
       "420  2022-01-01      284.767      332684           5.7  100.091744   \n",
       "421  2022-02-01      290.371      332750           6.0  100.034014   \n",
       "422  2022-03-01      296.496      332812           7.0         NaN   \n",
       "423  2022-04-01      301.704      332863           8.6         NaN   \n",
       "424  2022-05-01      304.831      332928           8.4         NaN   \n",
       "\n",
       "     mortgage_rate  employment_rate  permit_new  ppi_res       m3        cci  \\\n",
       "0           9.2040        70.163085      1690.0  100.000   2.7439  100.46240   \n",
       "1           9.0825        70.289205      1689.0  100.400   2.7475  100.49450   \n",
       "2           9.0350        70.321678      1704.0  100.700   2.7537  100.57200   \n",
       "3           9.8325        70.499062      1601.0  101.100   2.7677  100.65680   \n",
       "4          10.5960        70.808308      1500.0  101.300   2.7729  100.69190   \n",
       "..             ...              ...         ...      ...      ...        ...   \n",
       "420         3.4450        70.748899      1841.0  294.807  21.6593   97.49467   \n",
       "421         3.7625        70.890307      1857.0  303.546  21.7497   97.18996   \n",
       "422            NaN              NaN         NaN      NaN      NaN        NaN   \n",
       "423            NaN              NaN         NaN      NaN      NaN        NaN   \n",
       "424            NaN              NaN         NaN      NaN      NaN        NaN   \n",
       "\n",
       "     delinquency_rate  hcai  \n",
       "0                 NaN   NaN  \n",
       "1                 NaN   NaN  \n",
       "2                 NaN   NaN  \n",
       "3                 NaN   NaN  \n",
       "4                 NaN   NaN  \n",
       "..                ...   ...  \n",
       "420              2.13   NaN  \n",
       "421              2.13   NaN  \n",
       "422               NaN   NaN  \n",
       "423               NaN   NaN  \n",
       "424               NaN   NaN  \n",
       "\n",
       "[425 rows x 13 columns]"
      ]
     },
     "execution_count": 229,
     "metadata": {},
     "output_type": "execute_result"
    }
   ],
   "source": [
    "df. rename(columns = {'house_price_index':'house_price'}, inplace = True)\n",
    "df\n",
    "#df.dropna(axis=0, how='any')"
   ]
  },
  {
   "cell_type": "markdown",
   "id": "20324f0a",
   "metadata": {},
   "source": [
    "#### Converting Columns to instance to string for ploting"
   ]
  },
  {
   "cell_type": "code",
   "execution_count": 230,
   "id": "4ca374bf",
   "metadata": {},
   "outputs": [
    {
     "data": {
      "text/plain": [
       "True"
      ]
     },
     "execution_count": 230,
     "metadata": {},
     "output_type": "execute_result"
    }
   ],
   "source": [
    "all(isinstance(column, str) for column in df.columns)"
   ]
  },
  {
   "cell_type": "code",
   "execution_count": 231,
   "id": "6de060bc",
   "metadata": {},
   "outputs": [],
   "source": [
    "df.columns = list(map(str, df.columns))"
   ]
  },
  {
   "cell_type": "markdown",
   "id": "86690186",
   "metadata": {},
   "source": [
    "#### we can explain the type of Data"
   ]
  },
  {
   "cell_type": "code",
   "execution_count": 232,
   "id": "74844cb6",
   "metadata": {},
   "outputs": [
    {
     "data": {
      "text/plain": [
       "Date                 object\n",
       "house_price         float64\n",
       "population            int64\n",
       "house_supply        float64\n",
       "gdp                 float64\n",
       "mortgage_rate       float64\n",
       "employment_rate     float64\n",
       "permit_new          float64\n",
       "ppi_res             float64\n",
       "m3                  float64\n",
       "cci                 float64\n",
       "delinquency_rate    float64\n",
       "hcai                float64\n",
       "dtype: object"
      ]
     },
     "execution_count": 232,
     "metadata": {},
     "output_type": "execute_result"
    }
   ],
   "source": [
    "df.dtypes"
   ]
  },
  {
   "cell_type": "markdown",
   "id": "ddd8cdcb",
   "metadata": {},
   "source": [
    "#### view a quick summary of each column in our dataframe using the describe() method."
   ]
  },
  {
   "cell_type": "code",
   "execution_count": 233,
   "id": "e3e31f47",
   "metadata": {},
   "outputs": [
    {
     "data": {
      "text/html": [
       "<div>\n",
       "<style scoped>\n",
       "    .dataframe tbody tr th:only-of-type {\n",
       "        vertical-align: middle;\n",
       "    }\n",
       "\n",
       "    .dataframe tbody tr th {\n",
       "        vertical-align: top;\n",
       "    }\n",
       "\n",
       "    .dataframe thead th {\n",
       "        text-align: right;\n",
       "    }\n",
       "</style>\n",
       "<table border=\"1\" class=\"dataframe\">\n",
       "  <thead>\n",
       "    <tr style=\"text-align: right;\">\n",
       "      <th></th>\n",
       "      <th>house_price</th>\n",
       "      <th>population</th>\n",
       "      <th>house_supply</th>\n",
       "      <th>gdp</th>\n",
       "      <th>mortgage_rate</th>\n",
       "      <th>employment_rate</th>\n",
       "      <th>permit_new</th>\n",
       "      <th>ppi_res</th>\n",
       "      <th>m3</th>\n",
       "      <th>cci</th>\n",
       "      <th>delinquency_rate</th>\n",
       "      <th>hcai</th>\n",
       "    </tr>\n",
       "  </thead>\n",
       "  <tbody>\n",
       "    <tr>\n",
       "      <th>count</th>\n",
       "      <td>425.000000</td>\n",
       "      <td>425.000000</td>\n",
       "      <td>425.000000</td>\n",
       "      <td>422.000000</td>\n",
       "      <td>422.000000</td>\n",
       "      <td>422.000000</td>\n",
       "      <td>422.000000</td>\n",
       "      <td>422.000000</td>\n",
       "      <td>422.000000</td>\n",
       "      <td>422.000000</td>\n",
       "      <td>374.000000</td>\n",
       "      <td>285.000000</td>\n",
       "    </tr>\n",
       "    <tr>\n",
       "      <th>mean</th>\n",
       "      <td>135.887280</td>\n",
       "      <td>291988.251765</td>\n",
       "      <td>5.813412</td>\n",
       "      <td>99.955457</td>\n",
       "      <td>6.328301</td>\n",
       "      <td>70.759327</td>\n",
       "      <td>1346.962085</td>\n",
       "      <td>166.813685</td>\n",
       "      <td>7.666456</td>\n",
       "      <td>100.124667</td>\n",
       "      <td>3.984947</td>\n",
       "      <td>8.981895</td>\n",
       "    </tr>\n",
       "    <tr>\n",
       "      <th>std</th>\n",
       "      <td>53.684802</td>\n",
       "      <td>28193.599715</td>\n",
       "      <td>1.691079</td>\n",
       "      <td>1.124453</td>\n",
       "      <td>2.209432</td>\n",
       "      <td>2.247253</td>\n",
       "      <td>394.776877</td>\n",
       "      <td>43.943882</td>\n",
       "      <td>4.656247</td>\n",
       "      <td>1.466327</td>\n",
       "      <td>2.912758</td>\n",
       "      <td>6.855745</td>\n",
       "    </tr>\n",
       "    <tr>\n",
       "      <th>min</th>\n",
       "      <td>63.965000</td>\n",
       "      <td>241857.000000</td>\n",
       "      <td>3.300000</td>\n",
       "      <td>91.543057</td>\n",
       "      <td>2.684000</td>\n",
       "      <td>60.261014</td>\n",
       "      <td>513.000000</td>\n",
       "      <td>100.000000</td>\n",
       "      <td>2.743900</td>\n",
       "      <td>96.460330</td>\n",
       "      <td>1.400000</td>\n",
       "      <td>2.293000</td>\n",
       "    </tr>\n",
       "    <tr>\n",
       "      <th>25%</th>\n",
       "      <td>81.620000</td>\n",
       "      <td>267829.000000</td>\n",
       "      <td>4.400000</td>\n",
       "      <td>99.559318</td>\n",
       "      <td>4.266250</td>\n",
       "      <td>69.317138</td>\n",
       "      <td>1077.250000</td>\n",
       "      <td>133.500000</td>\n",
       "      <td>3.615025</td>\n",
       "      <td>99.106098</td>\n",
       "      <td>2.130000</td>\n",
       "      <td>2.642000</td>\n",
       "    </tr>\n",
       "    <tr>\n",
       "      <th>50%</th>\n",
       "      <td>139.727000</td>\n",
       "      <td>293857.000000</td>\n",
       "      <td>5.500000</td>\n",
       "      <td>99.977924</td>\n",
       "      <td>6.257250</td>\n",
       "      <td>71.221613</td>\n",
       "      <td>1362.000000</td>\n",
       "      <td>154.750000</td>\n",
       "      <td>6.297450</td>\n",
       "      <td>100.498000</td>\n",
       "      <td>2.470000</td>\n",
       "      <td>5.958000</td>\n",
       "    </tr>\n",
       "    <tr>\n",
       "      <th>75%</th>\n",
       "      <td>174.802000</td>\n",
       "      <td>317156.000000</td>\n",
       "      <td>6.700000</td>\n",
       "      <td>100.556927</td>\n",
       "      <td>7.912000</td>\n",
       "      <td>72.281388</td>\n",
       "      <td>1614.750000</td>\n",
       "      <td>207.400000</td>\n",
       "      <td>10.617625</td>\n",
       "      <td>101.063150</td>\n",
       "      <td>4.490000</td>\n",
       "      <td>15.779000</td>\n",
       "    </tr>\n",
       "    <tr>\n",
       "      <th>max</th>\n",
       "      <td>304.831000</td>\n",
       "      <td>332928.000000</td>\n",
       "      <td>12.200000</td>\n",
       "      <td>101.825852</td>\n",
       "      <td>11.260000</td>\n",
       "      <td>74.507436</td>\n",
       "      <td>2263.000000</td>\n",
       "      <td>303.546000</td>\n",
       "      <td>21.749700</td>\n",
       "      <td>102.977600</td>\n",
       "      <td>11.360000</td>\n",
       "      <td>21.774000</td>\n",
       "    </tr>\n",
       "  </tbody>\n",
       "</table>\n",
       "</div>"
      ],
      "text/plain": [
       "       house_price     population  house_supply         gdp  mortgage_rate  \\\n",
       "count   425.000000     425.000000    425.000000  422.000000     422.000000   \n",
       "mean    135.887280  291988.251765      5.813412   99.955457       6.328301   \n",
       "std      53.684802   28193.599715      1.691079    1.124453       2.209432   \n",
       "min      63.965000  241857.000000      3.300000   91.543057       2.684000   \n",
       "25%      81.620000  267829.000000      4.400000   99.559318       4.266250   \n",
       "50%     139.727000  293857.000000      5.500000   99.977924       6.257250   \n",
       "75%     174.802000  317156.000000      6.700000  100.556927       7.912000   \n",
       "max     304.831000  332928.000000     12.200000  101.825852      11.260000   \n",
       "\n",
       "       employment_rate   permit_new     ppi_res          m3         cci  \\\n",
       "count       422.000000   422.000000  422.000000  422.000000  422.000000   \n",
       "mean         70.759327  1346.962085  166.813685    7.666456  100.124667   \n",
       "std           2.247253   394.776877   43.943882    4.656247    1.466327   \n",
       "min          60.261014   513.000000  100.000000    2.743900   96.460330   \n",
       "25%          69.317138  1077.250000  133.500000    3.615025   99.106098   \n",
       "50%          71.221613  1362.000000  154.750000    6.297450  100.498000   \n",
       "75%          72.281388  1614.750000  207.400000   10.617625  101.063150   \n",
       "max          74.507436  2263.000000  303.546000   21.749700  102.977600   \n",
       "\n",
       "       delinquency_rate        hcai  \n",
       "count        374.000000  285.000000  \n",
       "mean           3.984947    8.981895  \n",
       "std            2.912758    6.855745  \n",
       "min            1.400000    2.293000  \n",
       "25%            2.130000    2.642000  \n",
       "50%            2.470000    5.958000  \n",
       "75%            4.490000   15.779000  \n",
       "max           11.360000   21.774000  "
      ]
     },
     "execution_count": 233,
     "metadata": {},
     "output_type": "execute_result"
    }
   ],
   "source": [
    "df.describe()"
   ]
  },
  {
   "cell_type": "markdown",
   "id": "e766ac55",
   "metadata": {},
   "source": [
    "#### To avoid this ambuigity, let's convert the column names into strings: '1980' to '2013'."
   ]
  },
  {
   "cell_type": "code",
   "execution_count": 234,
   "id": "e02241d8",
   "metadata": {},
   "outputs": [],
   "source": [
    "df.columns = list(map(str, df.columns))"
   ]
  },
  {
   "cell_type": "markdown",
   "id": "98d4017c",
   "metadata": {},
   "source": [
    "#### To view the dimensions of the dataframe, we use the `shape` instance variable of it.\n"
   ]
  },
  {
   "cell_type": "code",
   "execution_count": 235,
   "id": "53939448",
   "metadata": {},
   "outputs": [
    {
     "data": {
      "text/plain": [
       "(425, 13)"
      ]
     },
     "execution_count": 235,
     "metadata": {},
     "output_type": "execute_result"
    }
   ],
   "source": [
    "df.shape    "
   ]
  },
  {
   "cell_type": "markdown",
   "id": "177a260f",
   "metadata": {},
   "source": [
    "#### Since we converted the years to string, let's declare a variable that will allow us to easily call upon the full range of years:\n"
   ]
  },
  {
   "cell_type": "code",
   "execution_count": 236,
   "id": "4eb9970e",
   "metadata": {},
   "outputs": [
    {
     "data": {
      "text/plain": [
       "['1987',\n",
       " '1988',\n",
       " '1989',\n",
       " '1990',\n",
       " '1991',\n",
       " '1992',\n",
       " '1993',\n",
       " '1994',\n",
       " '1995',\n",
       " '1996',\n",
       " '1997',\n",
       " '1998',\n",
       " '1999',\n",
       " '2000',\n",
       " '2001',\n",
       " '2002',\n",
       " '2003',\n",
       " '2004',\n",
       " '2005',\n",
       " '2006',\n",
       " '2007',\n",
       " '2008',\n",
       " '2009',\n",
       " '2010',\n",
       " '2011',\n",
       " '2012',\n",
       " '2013',\n",
       " '2014',\n",
       " '2015',\n",
       " '2016',\n",
       " '2017',\n",
       " '2018',\n",
       " '2019',\n",
       " '2020',\n",
       " '2021',\n",
       " '2022']"
      ]
     },
     "execution_count": 236,
     "metadata": {},
     "output_type": "execute_result"
    }
   ],
   "source": [
    "years = list(map(str, range(1987, 2023)))\n",
    "years"
   ]
  },
  {
   "cell_type": "markdown",
   "id": "297d99f0",
   "metadata": {},
   "source": [
    "#### using transpose() for Dataframe if we need it for ploting "
   ]
  },
  {
   "cell_type": "code",
   "execution_count": 117,
   "id": "11be8b7c",
   "metadata": {},
   "outputs": [
    {
     "data": {
      "text/html": [
       "<div>\n",
       "<style scoped>\n",
       "    .dataframe tbody tr th:only-of-type {\n",
       "        vertical-align: middle;\n",
       "    }\n",
       "\n",
       "    .dataframe tbody tr th {\n",
       "        vertical-align: top;\n",
       "    }\n",
       "\n",
       "    .dataframe thead th {\n",
       "        text-align: right;\n",
       "    }\n",
       "</style>\n",
       "<table border=\"1\" class=\"dataframe\">\n",
       "  <thead>\n",
       "    <tr style=\"text-align: right;\">\n",
       "      <th></th>\n",
       "      <th>0</th>\n",
       "      <th>1</th>\n",
       "      <th>2</th>\n",
       "      <th>3</th>\n",
       "      <th>4</th>\n",
       "      <th>5</th>\n",
       "      <th>6</th>\n",
       "      <th>7</th>\n",
       "      <th>8</th>\n",
       "      <th>9</th>\n",
       "      <th>...</th>\n",
       "      <th>415</th>\n",
       "      <th>416</th>\n",
       "      <th>417</th>\n",
       "      <th>418</th>\n",
       "      <th>419</th>\n",
       "      <th>420</th>\n",
       "      <th>421</th>\n",
       "      <th>422</th>\n",
       "      <th>423</th>\n",
       "      <th>424</th>\n",
       "    </tr>\n",
       "  </thead>\n",
       "  <tbody>\n",
       "    <tr>\n",
       "      <th>Date</th>\n",
       "      <td>1987-01-01</td>\n",
       "      <td>1987-02-01</td>\n",
       "      <td>1987-03-01</td>\n",
       "      <td>1987-04-01</td>\n",
       "      <td>1987-05-01</td>\n",
       "      <td>1987-06-01</td>\n",
       "      <td>1987-07-01</td>\n",
       "      <td>1987-08-01</td>\n",
       "      <td>1987-09-01</td>\n",
       "      <td>1987-10-01</td>\n",
       "      <td>...</td>\n",
       "      <td>2021-08-01</td>\n",
       "      <td>2021-09-01</td>\n",
       "      <td>2021-10-01</td>\n",
       "      <td>2021-11-01</td>\n",
       "      <td>2021-12-01</td>\n",
       "      <td>2022-01-01</td>\n",
       "      <td>2022-02-01</td>\n",
       "      <td>2022-03-01</td>\n",
       "      <td>2022-04-01</td>\n",
       "      <td>2022-05-01</td>\n",
       "    </tr>\n",
       "    <tr>\n",
       "      <th>house_price</th>\n",
       "      <td>63.965</td>\n",
       "      <td>64.424</td>\n",
       "      <td>64.735</td>\n",
       "      <td>65.132</td>\n",
       "      <td>65.565</td>\n",
       "      <td>66.073</td>\n",
       "      <td>66.508</td>\n",
       "      <td>66.939</td>\n",
       "      <td>67.331</td>\n",
       "      <td>67.738</td>\n",
       "      <td>...</td>\n",
       "      <td>267.028</td>\n",
       "      <td>270.258</td>\n",
       "      <td>273.154</td>\n",
       "      <td>276.429</td>\n",
       "      <td>280.19</td>\n",
       "      <td>284.767</td>\n",
       "      <td>290.371</td>\n",
       "      <td>296.496</td>\n",
       "      <td>301.704</td>\n",
       "      <td>304.831</td>\n",
       "    </tr>\n",
       "    <tr>\n",
       "      <th>population</th>\n",
       "      <td>241857</td>\n",
       "      <td>242005</td>\n",
       "      <td>242166</td>\n",
       "      <td>242338</td>\n",
       "      <td>242516</td>\n",
       "      <td>242706</td>\n",
       "      <td>242908</td>\n",
       "      <td>243118</td>\n",
       "      <td>243335</td>\n",
       "      <td>243543</td>\n",
       "      <td>...</td>\n",
       "      <td>332295</td>\n",
       "      <td>332403</td>\n",
       "      <td>332513</td>\n",
       "      <td>332598</td>\n",
       "      <td>332640</td>\n",
       "      <td>332684</td>\n",
       "      <td>332750</td>\n",
       "      <td>332812</td>\n",
       "      <td>332863</td>\n",
       "      <td>332928</td>\n",
       "    </tr>\n",
       "    <tr>\n",
       "      <th>house_supply</th>\n",
       "      <td>6.0</td>\n",
       "      <td>6.2</td>\n",
       "      <td>6.0</td>\n",
       "      <td>6.0</td>\n",
       "      <td>6.7</td>\n",
       "      <td>6.9</td>\n",
       "      <td>6.7</td>\n",
       "      <td>6.8</td>\n",
       "      <td>6.8</td>\n",
       "      <td>6.8</td>\n",
       "      <td>...</td>\n",
       "      <td>6.5</td>\n",
       "      <td>6.1</td>\n",
       "      <td>6.9</td>\n",
       "      <td>6.2</td>\n",
       "      <td>5.6</td>\n",
       "      <td>5.7</td>\n",
       "      <td>6.0</td>\n",
       "      <td>7.0</td>\n",
       "      <td>8.6</td>\n",
       "      <td>8.4</td>\n",
       "    </tr>\n",
       "    <tr>\n",
       "      <th>gdp</th>\n",
       "      <td>99.902813</td>\n",
       "      <td>99.875864</td>\n",
       "      <td>99.869734</td>\n",
       "      <td>99.882087</td>\n",
       "      <td>99.910371</td>\n",
       "      <td>99.954091</td>\n",
       "      <td>100.016021</td>\n",
       "      <td>100.098404</td>\n",
       "      <td>100.197931</td>\n",
       "      <td>100.299312</td>\n",
       "      <td>...</td>\n",
       "      <td>99.674141</td>\n",
       "      <td>99.850923</td>\n",
       "      <td>99.999992</td>\n",
       "      <td>100.09488</td>\n",
       "      <td>100.120622</td>\n",
       "      <td>100.091744</td>\n",
       "      <td>100.034014</td>\n",
       "      <td>NaN</td>\n",
       "      <td>NaN</td>\n",
       "      <td>NaN</td>\n",
       "    </tr>\n",
       "  </tbody>\n",
       "</table>\n",
       "<p>5 rows × 425 columns</p>\n",
       "</div>"
      ],
      "text/plain": [
       "                     0           1           2           3           4    \\\n",
       "Date          1987-01-01  1987-02-01  1987-03-01  1987-04-01  1987-05-01   \n",
       "house_price       63.965      64.424      64.735      65.132      65.565   \n",
       "population        241857      242005      242166      242338      242516   \n",
       "house_supply         6.0         6.2         6.0         6.0         6.7   \n",
       "gdp            99.902813   99.875864   99.869734   99.882087   99.910371   \n",
       "\n",
       "                     5           6           7           8           9    ...  \\\n",
       "Date          1987-06-01  1987-07-01  1987-08-01  1987-09-01  1987-10-01  ...   \n",
       "house_price       66.073      66.508      66.939      67.331      67.738  ...   \n",
       "population        242706      242908      243118      243335      243543  ...   \n",
       "house_supply         6.9         6.7         6.8         6.8         6.8  ...   \n",
       "gdp            99.954091  100.016021  100.098404  100.197931  100.299312  ...   \n",
       "\n",
       "                     415         416         417         418         419  \\\n",
       "Date          2021-08-01  2021-09-01  2021-10-01  2021-11-01  2021-12-01   \n",
       "house_price      267.028     270.258     273.154     276.429      280.19   \n",
       "population        332295      332403      332513      332598      332640   \n",
       "house_supply         6.5         6.1         6.9         6.2         5.6   \n",
       "gdp            99.674141   99.850923   99.999992   100.09488  100.120622   \n",
       "\n",
       "                     420         421         422         423         424  \n",
       "Date          2022-01-01  2022-02-01  2022-03-01  2022-04-01  2022-05-01  \n",
       "house_price      284.767     290.371     296.496     301.704     304.831  \n",
       "population        332684      332750      332812      332863      332928  \n",
       "house_supply         5.7         6.0         7.0         8.6         8.4  \n",
       "gdp           100.091744  100.034014         NaN         NaN         NaN  \n",
       "\n",
       "[5 rows x 425 columns]"
      ]
     },
     "execution_count": 117,
     "metadata": {},
     "output_type": "execute_result"
    }
   ],
   "source": [
    "df = df.transpose()\n",
    "df.head()"
   ]
  },
  {
   "cell_type": "markdown",
   "id": "0e813b74",
   "metadata": {},
   "source": [
    "#### Let's start by importing matplotlib and matplotlib.pyplot as follows"
   ]
  },
  {
   "cell_type": "code",
   "execution_count": 237,
   "id": "9ff580c9",
   "metadata": {},
   "outputs": [
    {
     "name": "stdout",
     "output_type": "stream",
     "text": [
      "Matplotlib version:  3.5.0\n",
      "['Solarize_Light2', '_classic_test_patch', '_mpl-gallery', '_mpl-gallery-nogrid', 'bmh', 'classic', 'dark_background', 'fast', 'fivethirtyeight', 'ggplot', 'grayscale', 'seaborn', 'seaborn-bright', 'seaborn-colorblind', 'seaborn-dark', 'seaborn-dark-palette', 'seaborn-darkgrid', 'seaborn-deep', 'seaborn-muted', 'seaborn-notebook', 'seaborn-paper', 'seaborn-pastel', 'seaborn-poster', 'seaborn-talk', 'seaborn-ticks', 'seaborn-white', 'seaborn-whitegrid', 'tableau-colorblind10']\n"
     ]
    }
   ],
   "source": [
    "import matplotlib as mpl\n",
    "import matplotlib.pyplot as plt\n",
    "print('Matplotlib version: ', mpl.__version__)\n",
    "print(plt.style.available)\n",
    "mpl.style.use(['ggplot']) "
   ]
  },
  {
   "cell_type": "markdown",
   "id": "a91c9f6b",
   "metadata": {},
   "source": [
    "#### using Plot a line graph of morgage rate for years"
   ]
  },
  {
   "cell_type": "code",
   "execution_count": 238,
   "id": "99db7454",
   "metadata": {},
   "outputs": [
    {
     "data": {
      "text/plain": [
       "<AxesSubplot:xlabel='Date'>"
      ]
     },
     "execution_count": 238,
     "metadata": {},
     "output_type": "execute_result"
    },
    {
     "data": {
      "image/png": "[encoded data removed]",
      "text/plain": [
       "<Figure size 432x288 with 1 Axes>"
      ]
     },
     "metadata": {},
     "output_type": "display_data"
    }
   ],
   "source": [
    "axes = plt.gca()\n",
    "df.plot(kind='line', x='Date', y='mortgage_rate', ax=axes)"
   ]
  },
  {
   "cell_type": "markdown",
   "id": "5286c7fb",
   "metadata": {},
   "source": [
    "#### Now import plotly express Liberary"
   ]
  },
  {
   "cell_type": "code",
   "execution_count": 239,
   "id": "3a4b3216",
   "metadata": {},
   "outputs": [
    {
     "data": {
      "application/vnd.plotly.v1+json": {
       "config": {
        "plotlyServerURL": "https://plot.ly"
       },
       "data": [
        {
         "alignmentgroup": "True",
         "hovertemplate": "Date=%{x}<br>house_price=%{y}<extra></extra>",
         "legendgroup": "",
         "marker": {
          "color": "#636efa",
          "pattern": {
           "shape": ""
          }
         },
         "name": "",
         "offsetgroup": "",
         "orientation": "v",
         "showlegend": false,
         "textposition": "auto",
         "type": "bar",
         "x": [
          "1987-01-01",
          "1987-02-01",
          "1987-03-01",
          "1987-04-01",
          "1987-05-01",
          "1987-06-01",
          "1987-07-01",
          "1987-08-01",
          "1987-09-01",
          "1987-10-01",
          "1987-11-01",
          "1987-12-01",
          "1988-01-01",
          "1988-02-01",
          "1988-03-01",
          "1988-04-01",
          "1988-05-01",
          "1988-06-01",
          "1988-07-01",
          "1988-08-01",
          "1988-09-01",
          "1988-10-01",
          "1988-11-01",
          "1988-12-01",
          "1989-01-01",
          "1989-02-01",
          "1989-03-01",
          "1989-04-01",
          "1989-05-01",
          "1989-06-01",
          "1989-07-01",
          "1989-08-01",
          "1989-09-01",
          "1989-10-01",
          "1989-11-01",
          "1989-12-01",
          "1990-01-01",
          "1990-02-01",
          "1990-03-01",
          "1990-04-01",
          "1990-05-01",
          "1990-06-01",
          "1990-07-01",
          "1990-08-01",
          "1990-09-01",
          "1990-10-01",
          "1990-11-01",
          "1990-12-01",
          "1991-01-01",
          "1991-02-01",
          "1991-03-01",
          "1991-04-01",
          "1991-05-01",
          "1991-06-01",
          "1991-07-01",
          "1991-08-01",
          "1991-09-01",
          "1991-10-01",
          "1991-11-01",
          "1991-12-01",
          "1992-01-01",
          "1992-02-01",
          "1992-03-01",
          "1992-04-01",
          "1992-05-01",
          "1992-06-01",
          "1992-07-01",
          "1992-08-01",
          "1992-09-01",
          "1992-10-01",
          "1992-11-01",
          "1992-12-01",
          "1993-01-01",
          "1993-02-01",
          "1993-03-01",
          "1993-04-01",
          "1993-05-01",
          "1993-06-01",
          "1993-07-01",
          "1993-08-01",
          "1993-09-01",
          "1993-10-01",
          "1993-11-01",
          "1993-12-01",
          "1994-01-01",
          "1994-02-01",
          "1994-03-01",
          "1994-04-01",
          "1994-05-01",
          "1994-06-01",
          "1994-07-01",
          "1994-08-01",
          "1994-09-01",
          "1994-10-01",
          "1994-11-01",
          "1994-12-01",
          "1995-01-01",
          "1995-02-01",
          "1995-03-01",
          "1995-04-01",
          "1995-05-01",
          "1995-06-01",
          "1995-07-01",
          "1995-08-01",
          "1995-09-01",
          "1995-10-01",
          "1995-11-01",
          "1995-12-01",
          "1996-01-01",
          "1996-02-01",
          "1996-03-01",
          "1996-04-01",
          "1996-05-01",
          "1996-06-01",
          "1996-07-01",
          "1996-08-01",
          "1996-09-01",
          "1996-10-01",
          "1996-11-01",
          "1996-12-01",
          "1997-01-01",
          "1997-02-01",
          "1997-03-01",
          "1997-04-01",
          "1997-05-01",
          "1997-06-01",
          "1997-07-01",
          "1997-08-01",
          "1997-09-01",
          "1997-10-01",
          "1997-11-01",
          "1997-12-01",
          "1998-01-01",
          "1998-02-01",
          "1998-03-01",
          "1998-04-01",
          "1998-05-01",
          "1998-06-01",
          "1998-07-01",
          "1998-08-01",
          "1998-09-01",
          "1998-10-01",
          "1998-11-01",
          "1998-12-01",
          "1999-01-01",
          "1999-02-01",
          "1999-03-01",
          "1999-04-01",
          "1999-05-01",
          "1999-06-01",
          "1999-07-01",
          "1999-08-01",
          "1999-09-01",
          "1999-10-01",
          "1999-11-01",
          "1999-12-01",
          "2000-01-01",
          "2000-02-01",
          "2000-03-01",
          "2000-04-01",
          "2000-05-01",
          "2000-06-01",
          "2000-07-01",
          "2000-08-01",
          "2000-09-01",
          "2000-10-01",
          "2000-11-01",
          "2000-12-01",
          "2001-01-01",
          "2001-02-01",
          "2001-03-01",
          "2001-04-01",
          "2001-05-01",
          "2001-06-01",
          "2001-07-01",
          "2001-08-01",
          "2001-09-01",
          "2001-10-01",
          "2001-11-01",
          "2001-12-01",
          "2002-01-01",
          "2002-02-01",
          "2002-03-01",
          "2002-04-01",
          "2002-05-01",
          "2002-06-01",
          "2002-07-01",
          "2002-08-01",
          "2002-09-01",
          "2002-10-01",
          "2002-11-01",
          "2002-12-01",
          "2003-01-01",
          "2003-02-01",
          "2003-03-01",
          "2003-04-01",
          "2003-05-01",
          "2003-06-01",
          "2003-07-01",
          "2003-08-01",
          "2003-09-01",
          "2003-10-01",
          "2003-11-01",
          "2003-12-01",
          "2004-01-01",
          "2004-02-01",
          "2004-03-01",
          "2004-04-01",
          "2004-05-01",
          "2004-06-01",
          "2004-07-01",
          "2004-08-01",
          "2004-09-01",
          "2004-10-01",
          "2004-11-01",
          "2004-12-01",
          "2005-01-01",
          "2005-02-01",
          "2005-03-01",
          "2005-04-01",
          "2005-05-01",
          "2005-06-01",
          "2005-07-01",
          "2005-08-01",
          "2005-09-01",
          "2005-10-01",
          "2005-11-01",
          "2005-12-01",
          "2006-01-01",
          "2006-02-01",
          "2006-03-01",
          "2006-04-01",
          "2006-05-01",
          "2006-06-01",
          "2006-07-01",
          "2006-08-01",
          "2006-09-01",
          "2006-10-01",
          "2006-11-01",
          "2006-12-01",
          "2007-01-01",
          "2007-02-01",
          "2007-03-01",
          "2007-04-01",
          "2007-05-01",
          "2007-06-01",
          "2007-07-01",
          "2007-08-01",
          "2007-09-01",
          "2007-10-01",
          "2007-11-01",
          "2007-12-01",
          "2008-01-01",
          "2008-02-01",
          "2008-03-01",
          "2008-04-01",
          "2008-05-01",
          "2008-06-01",
          "2008-07-01",
          "2008-08-01",
          "2008-09-01",
          "2008-10-01",
          "2008-11-01",
          "2008-12-01",
          "2009-01-01",
          "2009-02-01",
          "2009-03-01",
          "2009-04-01",
          "2009-05-01",
          "2009-06-01",
          "2009-07-01",
          "2009-08-01",
          "2009-09-01",
          "2009-10-01",
          "2009-11-01",
          "2009-12-01",
          "2010-01-01",
          "2010-02-01",
          "2010-03-01",
          "2010-04-01",
          "2010-05-01",
          "2010-06-01",
          "2010-07-01",
          "2010-08-01",
          "2010-09-01",
          "2010-10-01",
          "2010-11-01",
          "2010-12-01",
          "2011-01-01",
          "2011-02-01",
          "2011-03-01",
          "2011-04-01",
          "2011-05-01",
          "2011-06-01",
          "2011-07-01",
          "2011-08-01",
          "2011-09-01",
          "2011-10-01",
          "2011-11-01",
          "2011-12-01",
          "2012-01-01",
          "2012-02-01",
          "2012-03-01",
          "2012-04-01",
          "2012-05-01",
          "2012-06-01",
          "2012-07-01",
          "2012-08-01",
          "2012-09-01",
          "2012-10-01",
          "2012-11-01",
          "2012-12-01",
          "2013-01-01",
          "2013-02-01",
          "2013-03-01",
          "2013-04-01",
          "2013-05-01",
          "2013-06-01",
          "2013-07-01",
          "2013-08-01",
          "2013-09-01",
          "2013-10-01",
          "2013-11-01",
          "2013-12-01",
          "2014-01-01",
          "2014-02-01",
          "2014-03-01",
          "2014-04-01",
          "2014-05-01",
          "2014-06-01",
          "2014-07-01",
          "2014-08-01",
          "2014-09-01",
          "2014-10-01",
          "2014-11-01",
          "2014-12-01",
          "2015-01-01",
          "2015-02-01",
          "2015-03-01",
          "2015-04-01",
          "2015-05-01",
          "2015-06-01",
          "2015-07-01",
          "2015-08-01",
          "2015-09-01",
          "2015-10-01",
          "2015-11-01",
          "2015-12-01",
          "2016-01-01",
          "2016-02-01",
          "2016-03-01",
          "2016-04-01",
          "2016-05-01",
          "2016-06-01",
          "2016-07-01",
          "2016-08-01",
          "2016-09-01",
          "2016-10-01",
          "2016-11-01",
          "2016-12-01",
          "2017-01-01",
          "2017-02-01",
          "2017-03-01",
          "2017-04-01",
          "2017-05-01",
          "2017-06-01",
          "2017-07-01",
          "2017-08-01",
          "2017-09-01",
          "2017-10-01",
          "2017-11-01",
          "2017-12-01",
          "2018-01-01",
          "2018-02-01",
          "2018-03-01",
          "2018-04-01",
          "2018-05-01",
          "2018-06-01",
          "2018-07-01",
          "2018-08-01",
          "2018-09-01",
          "2018-10-01",
          "2018-11-01",
          "2018-12-01",
          "2019-01-01",
          "2019-02-01",
          "2019-03-01",
          "2019-04-01",
          "2019-05-01",
          "2019-06-01",
          "2019-07-01",
          "2019-08-01",
          "2019-09-01",
          "2019-10-01",
          "2019-11-01",
          "2019-12-01",
          "2020-01-01",
          "2020-02-01",
          "2020-03-01",
          "2020-04-01",
          "2020-05-01",
          "2020-06-01",
          "2020-07-01",
          "2020-08-01",
          "2020-09-01",
          "2020-10-01",
          "2020-11-01",
          "2020-12-01",
          "2021-01-01",
          "2021-02-01",
          "2021-03-01",
          "2021-04-01",
          "2021-05-01",
          "2021-06-01",
          "2021-07-01",
          "2021-08-01",
          "2021-09-01",
          "2021-10-01",
          "2021-11-01",
          "2021-12-01",
          "2022-01-01",
          "2022-02-01",
          "2022-03-01",
          "2022-04-01",
          "2022-05-01"
         ],
         "xaxis": "x",
         "y": [
          63.965,
          64.424,
          64.735,
          65.132,
          65.565,
          66.073,
          66.508,
          66.939,
          67.331,
          67.738,
          68.107,
          68.506,
          68.859,
          69.263,
          69.639,
          69.977,
          70.426,
          70.888,
          71.354,
          71.799,
          72.24,
          72.636,
          73.072,
          73.465,
          73.947,
          74.383,
          74.778,
          75.085,
          75.306,
          75.48,
          75.658,
          75.836,
          76.057,
          76.283,
          76.521,
          76.705,
          76.897,
          77.053,
          77.201,
          77.278,
          77.298,
          77.258,
          77.138,
          77.009,
          76.85,
          76.7,
          76.37,
          76.185,
          75.916,
          75.735,
          75.57,
          75.567,
          75.765,
          75.993,
          76.083,
          76.11,
          76.194,
          76.075,
          76.014,
          76.056,
          76.086,
          76.155,
          76.276,
          76.346,
          76.399,
          76.332,
          76.264,
          76.23,
          76.239,
          76.377,
          76.559,
          76.674,
          76.784,
          76.838,
          76.868,
          76.937,
          77.037,
          77.243,
          77.429,
          77.613,
          77.795,
          77.942,
          78.149,
          78.327,
          78.592,
          78.727,
          78.857,
          78.988,
          79.223,
          79.424,
          79.596,
          79.782,
          79.919,
          80.065,
          80.15,
          80.297,
          80.427,
          80.529,
          80.599,
          80.661,
          80.705,
          80.786,
          80.937,
          81.111,
          81.307,
          81.483,
          81.62,
          81.737,
          81.835,
          81.954,
          82.194,
          82.422,
          82.611,
          82.753,
          82.929,
          83.087,
          83.258,
          83.378,
          83.553,
          83.722,
          83.956,
          84.181,
          84.453,
          84.624,
          84.862,
          85.081,
          85.333,
          85.574,
          85.851,
          86.148,
          86.633,
          87.094,
          87.616,
          88.004,
          88.443,
          88.879,
          89.365,
          89.845,
          90.311,
          90.786,
          91.26,
          91.719,
          92.201,
          92.713,
          93.209,
          93.672,
          94.218,
          94.785,
          95.345,
          95.976,
          96.593,
          97.221,
          97.864,
          98.524,
          99.155,
          99.846,
          100.552,
          101.339,
          102.127,
          102.922,
          103.677,
          104.424,
          105.054,
          105.767,
          106.537,
          107.382,
          108.302,
          109.14,
          109.846,
          110.5,
          111.108,
          111.651,
          112.163,
          112.796,
          113.491,
          114.166,
          114.811,
          115.308,
          115.855,
          116.453,
          117.143,
          117.844,
          118.687,
          119.611,
          120.724,
          121.813,
          122.888,
          123.831,
          124.78,
          125.734,
          126.669,
          127.622,
          128.461,
          129.355,
          130.148,
          130.884,
          131.735,
          132.649,
          133.776,
          134.968,
          136.294,
          137.532,
          138.794,
          140.18,
          141.646,
          143.192,
          145.059,
          146.592,
          148.185,
          149.85,
          151.338,
          152.633,
          154.179,
          155.751,
          157.527,
          159.33,
          161.288,
          163.344,
          165.812,
          167.501,
          169.351,
          171.19,
          172.86,
          174.44,
          176.437,
          178.027,
          179.681,
          180.91,
          182.32,
          183.287,
          184.364,
          184.329,
          184.156,
          183.507,
          183.067,
          182.593,
          182.799,
          183.2,
          183.611,
          184.141,
          184.518,
          184.599,
          184.15,
          183.011,
          181.601,
          180.254,
          179.111,
          178.117,
          177.558,
          176.624,
          175.147,
          174.341,
          173.133,
          171.542,
          170.054,
          168.337,
          166.658,
          165.017,
          163.567,
          161.989,
          160.309,
          158.329,
          156.142,
          153.618,
          151.504,
          150.012,
          148.659,
          147.949,
          147.696,
          148.09,
          148.409,
          148.276,
          148.023,
          147.848,
          148.133,
          147.929,
          147.395,
          145.632,
          145.86,
          146.401,
          146.391,
          145.717,
          144.988,
          143.912,
          143.015,
          142.525,
          142.169,
          142.061,
          141.526,
          140.356,
          139.987,
          140.011,
          139.904,
          139.86,
          139.727,
          139.306,
          138.667,
          137.954,
          137.154,
          136.676,
          136.607,
          136.529,
          137.903,
          139.155,
          140.156,
          141.029,
          141.667,
          142.277,
          142.907,
          143.6,
          144.585,
          145.501,
          146.835,
          147.784,
          149.965,
          151.521,
          152.854,
          154.194,
          155.606,
          156.973,
          158.234,
          159.247,
          160.075,
          160.997,
          161.948,
          162.53,
          163.093,
          163.4,
          163.666,
          164.04,
          164.574,
          165.219,
          165.909,
          166.646,
          167.339,
          168.058,
          168.663,
          169.138,
          169.812,
          170.312,
          170.894,
          171.437,
          172.131,
          172.948,
          173.84,
          174.802,
          175.747,
          176.553,
          177.302,
          177.667,
          178.193,
          178.8,
          179.46,
          180.057,
          180.848,
          181.868,
          182.837,
          183.751,
          184.74,
          185.69,
          186.793,
          187.313,
          188.032,
          188.818,
          189.707,
          190.522,
          191.499,
          192.723,
          193.786,
          194.778,
          195.866,
          197.044,
          198.201,
          199.184,
          200.038,
          200.876,
          201.646,
          202.345,
          203.015,
          203.783,
          204.366,
          205.017,
          205.464,
          205.867,
          206.266,
          206.712,
          207.202,
          207.941,
          208.58,
          208.947,
          209.496,
          210.231,
          210.911,
          211.598,
          212.446,
          213.434,
          214.49,
          215.549,
          216.602,
          217.464,
          217.689,
          218.139,
          219.702,
          222.539,
          225.793,
          229.403,
          232.673,
          235.7,
          238.784,
          241.845,
          245.796,
          250.094,
          254.556,
          259.249,
          263.349,
          267.028,
          270.258,
          273.154,
          276.429,
          280.19,
          284.767,
          290.371,
          296.496,
          301.704,
          304.831
         ],
         "yaxis": "y"
        }
       ],
       "layout": {
        "barmode": "group",
        "legend": {
         "tracegroupgap": 0
        },
        "margin": {
         "t": 60
        },
        "template": {
         "data": {
          "bar": [
           {
            "error_x": {
             "color": "#2a3f5f"
            },
            "error_y": {
             "color": "#2a3f5f"
            },
            "marker": {
             "line": {
              "color": "#E5ECF6",
              "width": 0.5
             },
             "pattern": {
              "fillmode": "overlay",
              "size": 10,
              "solidity": 0.2
             }
            },
            "type": "bar"
           }
          ],
          "barpolar": [
           {
            "marker": {
             "line": {
              "color": "#E5ECF6",
              "width": 0.5
             },
             "pattern": {
              "fillmode": "overlay",
              "size": 10,
              "solidity": 0.2
             }
            },
            "type": "barpolar"
           }
          ],
          "carpet": [
           {
            "aaxis": {
             "endlinecolor": "#2a3f5f",
             "gridcolor": "white",
             "linecolor": "white",
             "minorgridcolor": "white",
             "startlinecolor": "#2a3f5f"
            },
            "baxis": {
             "endlinecolor": "#2a3f5f",
             "gridcolor": "white",
             "linecolor": "white",
             "minorgridcolor": "white",
             "startlinecolor": "#2a3f5f"
            },
            "type": "carpet"
           }
          ],
          "choropleth": [
           {
            "colorbar": {
             "outlinewidth": 0,
             "ticks": ""
            },
            "type": "choropleth"
           }
          ],
          "contour": [
           {
            "colorbar": {
             "outlinewidth": 0,
             "ticks": ""
            },
            "colorscale": [
             [
              0,
              "#0d0887"
             ],
             [
              0.1111111111111111,
              "#46039f"
             ],
             [
              0.2222222222222222,
              "#7201a8"
             ],
             [
              0.3333333333333333,
              "#9c179e"
             ],
             [
              0.4444444444444444,
              "#bd3786"
             ],
             [
              0.5555555555555556,
              "#d8576b"
             ],
             [
              0.6666666666666666,
              "#ed7953"
             ],
             [
              0.7777777777777778,
              "#fb9f3a"
             ],
             [
              0.8888888888888888,
              "#fdca26"
             ],
             [
              1,
              "#f0f921"
             ]
            ],
            "type": "contour"
           }
          ],
          "contourcarpet": [
           {
            "colorbar": {
             "outlinewidth": 0,
             "ticks": ""
            },
            "type": "contourcarpet"
           }
          ],
          "heatmap": [
           {
            "colorbar": {
             "outlinewidth": 0,
             "ticks": ""
            },
            "colorscale": [
             [
              0,
              "#0d0887"
             ],
             [
              0.1111111111111111,
              "#46039f"
             ],
             [
              0.2222222222222222,
              "#7201a8"
             ],
             [
              0.3333333333333333,
              "#9c179e"
             ],
             [
              0.4444444444444444,
              "#bd3786"
             ],
             [
              0.5555555555555556,
              "#d8576b"
             ],
             [
              0.6666666666666666,
              "#ed7953"
             ],
             [
              0.7777777777777778,
              "#fb9f3a"
             ],
             [
              0.8888888888888888,
              "#fdca26"
             ],
             [
              1,
              "#f0f921"
             ]
            ],
            "type": "heatmap"
           }
          ],
          "heatmapgl": [
           {
            "colorbar": {
             "outlinewidth": 0,
             "ticks": ""
            },
            "colorscale": [
             [
              0,
              "#0d0887"
             ],
             [
              0.1111111111111111,
              "#46039f"
             ],
             [
              0.2222222222222222,
              "#7201a8"
             ],
             [
              0.3333333333333333,
              "#9c179e"
             ],
             [
              0.4444444444444444,
              "#bd3786"
             ],
             [
              0.5555555555555556,
              "#d8576b"
             ],
             [
              0.6666666666666666,
              "#ed7953"
             ],
             [
              0.7777777777777778,
              "#fb9f3a"
             ],
             [
              0.8888888888888888,
              "#fdca26"
             ],
             [
              1,
              "#f0f921"
             ]
            ],
            "type": "heatmapgl"
           }
          ],
          "histogram": [
           {
            "marker": {
             "pattern": {
              "fillmode": "overlay",
              "size": 10,
              "solidity": 0.2
             }
            },
            "type": "histogram"
           }
          ],
          "histogram2d": [
           {
            "colorbar": {
             "outlinewidth": 0,
             "ticks": ""
            },
            "colorscale": [
             [
              0,
              "#0d0887"
             ],
             [
              0.1111111111111111,
              "#46039f"
             ],
             [
              0.2222222222222222,
              "#7201a8"
             ],
             [
              0.3333333333333333,
              "#9c179e"
             ],
             [
              0.4444444444444444,
              "#bd3786"
             ],
             [
              0.5555555555555556,
              "#d8576b"
             ],
             [
              0.6666666666666666,
              "#ed7953"
             ],
             [
              0.7777777777777778,
              "#fb9f3a"
             ],
             [
              0.8888888888888888,
              "#fdca26"
             ],
             [
              1,
              "#f0f921"
             ]
            ],
            "type": "histogram2d"
           }
          ],
          "histogram2dcontour": [
           {
            "colorbar": {
             "outlinewidth": 0,
             "ticks": ""
            },
            "colorscale": [
             [
              0,
              "#0d0887"
             ],
             [
              0.1111111111111111,
              "#46039f"
             ],
             [
              0.2222222222222222,
              "#7201a8"
             ],
             [
              0.3333333333333333,
              "#9c179e"
             ],
             [
              0.4444444444444444,
              "#bd3786"
             ],
             [
              0.5555555555555556,
              "#d8576b"
             ],
             [
              0.6666666666666666,
              "#ed7953"
             ],
             [
              0.7777777777777778,
              "#fb9f3a"
             ],
             [
              0.8888888888888888,
              "#fdca26"
             ],
             [
              1,
              "#f0f921"
             ]
            ],
            "type": "histogram2dcontour"
           }
          ],
          "mesh3d": [
           {
            "colorbar": {
             "outlinewidth": 0,
             "ticks": ""
            },
            "type": "mesh3d"
           }
          ],
          "parcoords": [
           {
            "line": {
             "colorbar": {
              "outlinewidth": 0,
              "ticks": ""
             }
            },
            "type": "parcoords"
           }
          ],
          "pie": [
           {
            "automargin": true,
            "type": "pie"
           }
          ],
          "scatter": [
           {
            "marker": {
             "colorbar": {
              "outlinewidth": 0,
              "ticks": ""
             }
            },
            "type": "scatter"
           }
          ],
          "scatter3d": [
           {
            "line": {
             "colorbar": {
              "outlinewidth": 0,
              "ticks": ""
             }
            },
            "marker": {
             "colorbar": {
              "outlinewidth": 0,
              "ticks": ""
             }
            },
            "type": "scatter3d"
           }
          ],
          "scattercarpet": [
           {
            "marker": {
             "colorbar": {
              "outlinewidth": 0,
              "ticks": ""
             }
            },
            "type": "scattercarpet"
           }
          ],
          "scattergeo": [
           {
            "marker": {
             "colorbar": {
              "outlinewidth": 0,
              "ticks": ""
             }
            },
            "type": "scattergeo"
           }
          ],
          "scattergl": [
           {
            "marker": {
             "colorbar": {
              "outlinewidth": 0,
              "ticks": ""
             }
            },
            "type": "scattergl"
           }
          ],
          "scattermapbox": [
           {
            "marker": {
             "colorbar": {
              "outlinewidth": 0,
              "ticks": ""
             }
            },
            "type": "scattermapbox"
           }
          ],
          "scatterpolar": [
           {
            "marker": {
             "colorbar": {
              "outlinewidth": 0,
              "ticks": ""
             }
            },
            "type": "scatterpolar"
           }
          ],
          "scatterpolargl": [
           {
            "marker": {
             "colorbar": {
              "outlinewidth": 0,
              "ticks": ""
             }
            },
            "type": "scatterpolargl"
           }
          ],
          "scatterternary": [
           {
            "marker": {
             "colorbar": {
              "outlinewidth": 0,
              "ticks": ""
             }
            },
            "type": "scatterternary"
           }
          ],
          "surface": [
           {
            "colorbar": {
             "outlinewidth": 0,
             "ticks": ""
            },
            "colorscale": [
             [
              0,
              "#0d0887"
             ],
             [
              0.1111111111111111,
              "#46039f"
             ],
             [
              0.2222222222222222,
              "#7201a8"
             ],
             [
              0.3333333333333333,
              "#9c179e"
             ],
             [
              0.4444444444444444,
              "#bd3786"
             ],
             [
              0.5555555555555556,
              "#d8576b"
             ],
             [
              0.6666666666666666,
              "#ed7953"
             ],
             [
              0.7777777777777778,
              "#fb9f3a"
             ],
             [
              0.8888888888888888,
              "#fdca26"
             ],
             [
              1,
              "#f0f921"
             ]
            ],
            "type": "surface"
           }
          ],
          "table": [
           {
            "cells": {
             "fill": {
              "color": "#EBF0F8"
             },
             "line": {
              "color": "white"
             }
            },
            "header": {
             "fill": {
              "color": "#C8D4E3"
             },
             "line": {
              "color": "white"
             }
            },
            "type": "table"
           }
          ]
         },
         "layout": {
          "annotationdefaults": {
           "arrowcolor": "#2a3f5f",
           "arrowhead": 0,
           "arrowwidth": 1
          },
          "autotypenumbers": "strict",
          "coloraxis": {
           "colorbar": {
            "outlinewidth": 0,
            "ticks": ""
           }
          },
          "colorscale": {
           "diverging": [
            [
             0,
             "#8e0152"
            ],
            [
             0.1,
             "#c51b7d"
            ],
            [
             0.2,
             "#de77ae"
            ],
            [
             0.3,
             "#f1b6da"
            ],
            [
             0.4,
             "#fde0ef"
            ],
            [
             0.5,
             "#f7f7f7"
            ],
            [
             0.6,
             "#e6f5d0"
            ],
            [
             0.7,
             "#b8e186"
            ],
            [
             0.8,
             "#7fbc41"
            ],
            [
             0.9,
             "#4d9221"
            ],
            [
             1,
             "#276419"
            ]
           ],
           "sequential": [
            [
             0,
             "#0d0887"
            ],
            [
             0.1111111111111111,
             "#46039f"
            ],
            [
             0.2222222222222222,
             "#7201a8"
            ],
            [
             0.3333333333333333,
             "#9c179e"
            ],
            [
             0.4444444444444444,
             "#bd3786"
            ],
            [
             0.5555555555555556,
             "#d8576b"
            ],
            [
             0.6666666666666666,
             "#ed7953"
            ],
            [
             0.7777777777777778,
             "#fb9f3a"
            ],
            [
             0.8888888888888888,
             "#fdca26"
            ],
            [
             1,
             "#f0f921"
            ]
           ],
           "sequentialminus": [
            [
             0,
             "#0d0887"
            ],
            [
             0.1111111111111111,
             "#46039f"
            ],
            [
             0.2222222222222222,
             "#7201a8"
            ],
            [
             0.3333333333333333,
             "#9c179e"
            ],
            [
             0.4444444444444444,
             "#bd3786"
            ],
            [
             0.5555555555555556,
             "#d8576b"
            ],
            [
             0.6666666666666666,
             "#ed7953"
            ],
            [
             0.7777777777777778,
             "#fb9f3a"
            ],
            [
             0.8888888888888888,
             "#fdca26"
            ],
            [
             1,
             "#f0f921"
            ]
           ]
          },
          "colorway": [
           "#636efa",
           "#EF553B",
           "#00cc96",
           "#ab63fa",
           "#FFA15A",
           "#19d3f3",
           "#FF6692",
           "#B6E880",
           "#FF97FF",
           "#FECB52"
          ],
          "font": {
           "color": "#2a3f5f"
          },
          "geo": {
           "bgcolor": "white",
           "lakecolor": "white",
           "landcolor": "#E5ECF6",
           "showlakes": true,
           "showland": true,
           "subunitcolor": "white"
          },
          "hoverlabel": {
           "align": "left"
          },
          "hovermode": "closest",
          "mapbox": {
           "style": "light"
          },
          "paper_bgcolor": "white",
          "plot_bgcolor": "#E5ECF6",
          "polar": {
           "angularaxis": {
            "gridcolor": "white",
            "linecolor": "white",
            "ticks": ""
           },
           "bgcolor": "#E5ECF6",
           "radialaxis": {
            "gridcolor": "white",
            "linecolor": "white",
            "ticks": ""
           }
          },
          "scene": {
           "xaxis": {
            "backgroundcolor": "#E5ECF6",
            "gridcolor": "white",
            "gridwidth": 2,
            "linecolor": "white",
            "showbackground": true,
            "ticks": "",
            "zerolinecolor": "white"
           },
           "yaxis": {
            "backgroundcolor": "#E5ECF6",
            "gridcolor": "white",
            "gridwidth": 2,
            "linecolor": "white",
            "showbackground": true,
            "ticks": "",
            "zerolinecolor": "white"
           },
           "zaxis": {
            "backgroundcolor": "#E5ECF6",
            "gridcolor": "white",
            "gridwidth": 2,
            "linecolor": "white",
            "showbackground": true,
            "ticks": "",
            "zerolinecolor": "white"
           }
          },
          "shapedefaults": {
           "line": {
            "color": "#2a3f5f"
           }
          },
          "ternary": {
           "aaxis": {
            "gridcolor": "white",
            "linecolor": "white",
            "ticks": ""
           },
           "baxis": {
            "gridcolor": "white",
            "linecolor": "white",
            "ticks": ""
           },
           "bgcolor": "#E5ECF6",
           "caxis": {
            "gridcolor": "white",
            "linecolor": "white",
            "ticks": ""
           }
          },
          "title": {
           "x": 0.05
          },
          "xaxis": {
           "automargin": true,
           "gridcolor": "white",
           "linecolor": "white",
           "ticks": "",
           "title": {
            "standoff": 15
           },
           "zerolinecolor": "white",
           "zerolinewidth": 2
          },
          "yaxis": {
           "automargin": true,
           "gridcolor": "white",
           "linecolor": "white",
           "ticks": "",
           "title": {
            "standoff": 15
           },
           "zerolinecolor": "white",
           "zerolinewidth": 2
          }
         }
        },
        "xaxis": {
         "anchor": "y",
         "domain": [
          0,
          1
         ],
         "title": {
          "text": "Date"
         }
        },
        "yaxis": {
         "anchor": "x",
         "domain": [
          0,
          1
         ],
         "title": {
          "text": "house_price"
         }
        }
       }
      },
      "text/html": [
       "<div>                            <div id=\"0db242ff-3d0d-4a3e-8c21-f6180db62345\" class=\"plotly-graph-div\" style=\"height:525px; width:100%;\"></div>            <script type=\"text/javascript\">                require([\"plotly\"], function(Plotly) {                    window.PLOTLYENV=window.PLOTLYENV || {};                                    if (document.getElementById(\"0db242ff-3d0d-4a3e-8c21-f6180db62345\")) {                    Plotly.newPlot(                        \"0db242ff-3d0d-4a3e-8c21-f6180db62345\",                        [{\"alignmentgroup\":\"True\",\"hovertemplate\":\"Date=%{x}<br>house_price=%{y}<extra></extra>\",\"legendgroup\":\"\",\"marker\":{\"color\":\"#636efa\",\"pattern\":{\"shape\":\"\"}},\"name\":\"\",\"offsetgroup\":\"\",\"orientation\":\"v\",\"showlegend\":false,\"textposition\":\"auto\",\"type\":\"bar\",\"x\":[\"1987-01-01\",\"1987-02-01\",\"1987-03-01\",\"1987-04-01\",\"1987-05-01\",\"1987-06-01\",\"1987-07-01\",\"1987-08-01\",\"1987-09-01\",\"1987-10-01\",\"1987-11-01\",\"1987-12-01\",\"1988-01-01\",\"1988-02-01\",\"1988-03-01\",\"1988-04-01\",\"1988-05-01\",\"1988-06-01\",\"1988-07-01\",\"1988-08-01\",\"1988-09-01\",\"1988-10-01\",\"1988-11-01\",\"1988-12-01\",\"1989-01-01\",\"1989-02-01\",\"1989-03-01\",\"1989-04-01\",\"1989-05-01\",\"1989-06-01\",\"1989-07-01\",\"1989-08-01\",\"1989-09-01\",\"1989-10-01\",\"1989-11-01\",\"1989-12-01\",\"1990-01-01\",\"1990-02-01\",\"1990-03-01\",\"1990-04-01\",\"1990-05-01\",\"1990-06-01\",\"1990-07-01\",\"1990-08-01\",\"1990-09-01\",\"1990-10-01\",\"1990-11-01\",\"1990-12-01\",\"1991-01-01\",\"1991-02-01\",\"1991-03-01\",\"1991-04-01\",\"1991-05-01\",\"1991-06-01\",\"1991-07-01\",\"1991-08-01\",\"1991-09-01\",\"1991-10-01\",\"1991-11-01\",\"1991-12-01\",\"1992-01-01\",\"1992-02-01\",\"1992-03-01\",\"1992-04-01\",\"1992-05-01\",\"1992-06-01\",\"1992-07-01\",\"1992-08-01\",\"1992-09-01\",\"1992-10-01\",\"1992-11-01\",\"1992-12-01\",\"1993-01-01\",\"1993-02-01\",\"1993-03-01\",\"1993-04-01\",\"1993-05-01\",\"1993-06-01\",\"1993-07-01\",\"1993-08-01\",\"1993-09-01\",\"1993-10-01\",\"1993-11-01\",\"1993-12-01\",\"1994-01-01\",\"1994-02-01\",\"1994-03-01\",\"1994-04-01\",\"1994-05-01\",\"1994-06-01\",\"1994-07-01\",\"1994-08-01\",\"1994-09-01\",\"1994-10-01\",\"1994-11-01\",\"1994-12-01\",\"1995-01-01\",\"1995-02-01\",\"1995-03-01\",\"1995-04-01\",\"1995-05-01\",\"1995-06-01\",\"1995-07-01\",\"1995-08-01\",\"1995-09-01\",\"1995-10-01\",\"1995-11-01\",\"1995-12-01\",\"1996-01-01\",\"1996-02-01\",\"1996-03-01\",\"1996-04-01\",\"1996-05-01\",\"1996-06-01\",\"1996-07-01\",\"1996-08-01\",\"1996-09-01\",\"1996-10-01\",\"1996-11-01\",\"1996-12-01\",\"1997-01-01\",\"1997-02-01\",\"1997-03-01\",\"1997-04-01\",\"1997-05-01\",\"1997-06-01\",\"1997-07-01\",\"1997-08-01\",\"1997-09-01\",\"1997-10-01\",\"1997-11-01\",\"1997-12-01\",\"1998-01-01\",\"1998-02-01\",\"1998-03-01\",\"1998-04-01\",\"1998-05-01\",\"1998-06-01\",\"1998-07-01\",\"1998-08-01\",\"1998-09-01\",\"1998-10-01\",\"1998-11-01\",\"1998-12-01\",\"1999-01-01\",\"1999-02-01\",\"1999-03-01\",\"1999-04-01\",\"1999-05-01\",\"1999-06-01\",\"1999-07-01\",\"1999-08-01\",\"1999-09-01\",\"1999-10-01\",\"1999-11-01\",\"1999-12-01\",\"2000-01-01\",\"2000-02-01\",\"2000-03-01\",\"2000-04-01\",\"2000-05-01\",\"2000-06-01\",\"2000-07-01\",\"2000-08-01\",\"2000-09-01\",\"2000-10-01\",\"2000-11-01\",\"2000-12-01\",\"2001-01-01\",\"2001-02-01\",\"2001-03-01\",\"2001-04-01\",\"2001-05-01\",\"2001-06-01\",\"2001-07-01\",\"2001-08-01\",\"2001-09-01\",\"2001-10-01\",\"2001-11-01\",\"2001-12-01\",\"2002-01-01\",\"2002-02-01\",\"2002-03-01\",\"2002-04-01\",\"2002-05-01\",\"2002-06-01\",\"2002-07-01\",\"2002-08-01\",\"2002-09-01\",\"2002-10-01\",\"2002-11-01\",\"2002-12-01\",\"2003-01-01\",\"2003-02-01\",\"2003-03-01\",\"2003-04-01\",\"2003-05-01\",\"2003-06-01\",\"2003-07-01\",\"2003-08-01\",\"2003-09-01\",\"2003-10-01\",\"2003-11-01\",\"2003-12-01\",\"2004-01-01\",\"2004-02-01\",\"2004-03-01\",\"2004-04-01\",\"2004-05-01\",\"2004-06-01\",\"2004-07-01\",\"2004-08-01\",\"2004-09-01\",\"2004-10-01\",\"2004-11-01\",\"2004-12-01\",\"2005-01-01\",\"2005-02-01\",\"2005-03-01\",\"2005-04-01\",\"2005-05-01\",\"2005-06-01\",\"2005-07-01\",\"2005-08-01\",\"2005-09-01\",\"2005-10-01\",\"2005-11-01\",\"2005-12-01\",\"2006-01-01\",\"2006-02-01\",\"2006-03-01\",\"2006-04-01\",\"2006-05-01\",\"2006-06-01\",\"2006-07-01\",\"2006-08-01\",\"2006-09-01\",\"2006-10-01\",\"2006-11-01\",\"2006-12-01\",\"2007-01-01\",\"2007-02-01\",\"2007-03-01\",\"2007-04-01\",\"2007-05-01\",\"2007-06-01\",\"2007-07-01\",\"2007-08-01\",\"2007-09-01\",\"2007-10-01\",\"2007-11-01\",\"2007-12-01\",\"2008-01-01\",\"2008-02-01\",\"2008-03-01\",\"2008-04-01\",\"2008-05-01\",\"2008-06-01\",\"2008-07-01\",\"2008-08-01\",\"2008-09-01\",\"2008-10-01\",\"2008-11-01\",\"2008-12-01\",\"2009-01-01\",\"2009-02-01\",\"2009-03-01\",\"2009-04-01\",\"2009-05-01\",\"2009-06-01\",\"2009-07-01\",\"2009-08-01\",\"2009-09-01\",\"2009-10-01\",\"2009-11-01\",\"2009-12-01\",\"2010-01-01\",\"2010-02-01\",\"2010-03-01\",\"2010-04-01\",\"2010-05-01\",\"2010-06-01\",\"2010-07-01\",\"2010-08-01\",\"2010-09-01\",\"2010-10-01\",\"2010-11-01\",\"2010-12-01\",\"2011-01-01\",\"2011-02-01\",\"2011-03-01\",\"2011-04-01\",\"2011-05-01\",\"2011-06-01\",\"2011-07-01\",\"2011-08-01\",\"2011-09-01\",\"2011-10-01\",\"2011-11-01\",\"2011-12-01\",\"2012-01-01\",\"2012-02-01\",\"2012-03-01\",\"2012-04-01\",\"2012-05-01\",\"2012-06-01\",\"2012-07-01\",\"2012-08-01\",\"2012-09-01\",\"2012-10-01\",\"2012-11-01\",\"2012-12-01\",\"2013-01-01\",\"2013-02-01\",\"2013-03-01\",\"2013-04-01\",\"2013-05-01\",\"2013-06-01\",\"2013-07-01\",\"2013-08-01\",\"2013-09-01\",\"2013-10-01\",\"2013-11-01\",\"2013-12-01\",\"2014-01-01\",\"2014-02-01\",\"2014-03-01\",\"2014-04-01\",\"2014-05-01\",\"2014-06-01\",\"2014-07-01\",\"2014-08-01\",\"2014-09-01\",\"2014-10-01\",\"2014-11-01\",\"2014-12-01\",\"2015-01-01\",\"2015-02-01\",\"2015-03-01\",\"2015-04-01\",\"2015-05-01\",\"2015-06-01\",\"2015-07-01\",\"2015-08-01\",\"2015-09-01\",\"2015-10-01\",\"2015-11-01\",\"2015-12-01\",\"2016-01-01\",\"2016-02-01\",\"2016-03-01\",\"2016-04-01\",\"2016-05-01\",\"2016-06-01\",\"2016-07-01\",\"2016-08-01\",\"2016-09-01\",\"2016-10-01\",\"2016-11-01\",\"2016-12-01\",\"2017-01-01\",\"2017-02-01\",\"2017-03-01\",\"2017-04-01\",\"2017-05-01\",\"2017-06-01\",\"2017-07-01\",\"2017-08-01\",\"2017-09-01\",\"2017-10-01\",\"2017-11-01\",\"2017-12-01\",\"2018-01-01\",\"2018-02-01\",\"2018-03-01\",\"2018-04-01\",\"2018-05-01\",\"2018-06-01\",\"2018-07-01\",\"2018-08-01\",\"2018-09-01\",\"2018-10-01\",\"2018-11-01\",\"2018-12-01\",\"2019-01-01\",\"2019-02-01\",\"2019-03-01\",\"2019-04-01\",\"2019-05-01\",\"2019-06-01\",\"2019-07-01\",\"2019-08-01\",\"2019-09-01\",\"2019-10-01\",\"2019-11-01\",\"2019-12-01\",\"2020-01-01\",\"2020-02-01\",\"2020-03-01\",\"2020-04-01\",\"2020-05-01\",\"2020-06-01\",\"2020-07-01\",\"2020-08-01\",\"2020-09-01\",\"2020-10-01\",\"2020-11-01\",\"2020-12-01\",\"2021-01-01\",\"2021-02-01\",\"2021-03-01\",\"2021-04-01\",\"2021-05-01\",\"2021-06-01\",\"2021-07-01\",\"2021-08-01\",\"2021-09-01\",\"2021-10-01\",\"2021-11-01\",\"2021-12-01\",\"2022-01-01\",\"2022-02-01\",\"2022-03-01\",\"2022-04-01\",\"2022-05-01\"],\"xaxis\":\"x\",\"y\":[63.965,64.424,64.735,65.132,65.565,66.073,66.508,66.939,67.331,67.738,68.107,68.506,68.859,69.263,69.639,69.977,70.426,70.888,71.354,71.799,72.24,72.636,73.072,73.465,73.947,74.383,74.778,75.085,75.306,75.48,75.658,75.836,76.057,76.283,76.521,76.705,76.897,77.053,77.201,77.278,77.298,77.258,77.138,77.009,76.85,76.7,76.37,76.185,75.916,75.735,75.57,75.567,75.765,75.993,76.083,76.11,76.194,76.075,76.014,76.056,76.086,76.155,76.276,76.346,76.399,76.332,76.264,76.23,76.239,76.377,76.559,76.674,76.784,76.838,76.868,76.937,77.037,77.243,77.429,77.613,77.795,77.942,78.149,78.327,78.592,78.727,78.857,78.988,79.223,79.424,79.596,79.782,79.919,80.065,80.15,80.297,80.427,80.529,80.599,80.661,80.705,80.786,80.937,81.111,81.307,81.483,81.62,81.737,81.835,81.954,82.194,82.422,82.611,82.753,82.929,83.087,83.258,83.378,83.553,83.722,83.956,84.181,84.453,84.624,84.862,85.081,85.333,85.574,85.851,86.148,86.633,87.094,87.616,88.004,88.443,88.879,89.365,89.845,90.311,90.786,91.26,91.719,92.201,92.713,93.209,93.672,94.218,94.785,95.345,95.976,96.593,97.221,97.864,98.524,99.155,99.846,100.552,101.339,102.127,102.922,103.677,104.424,105.054,105.767,106.537,107.382,108.302,109.14,109.846,110.5,111.108,111.651,112.163,112.796,113.491,114.166,114.811,115.308,115.855,116.453,117.143,117.844,118.687,119.611,120.724,121.813,122.888,123.831,124.78,125.734,126.669,127.622,128.461,129.355,130.148,130.884,131.735,132.649,133.776,134.968,136.294,137.532,138.794,140.18,141.646,143.192,145.059,146.592,148.185,149.85,151.338,152.633,154.179,155.751,157.527,159.33,161.288,163.344,165.812,167.501,169.351,171.19,172.86,174.44,176.437,178.027,179.681,180.91,182.32,183.287,184.364,184.329,184.156,183.507,183.067,182.593,182.799,183.2,183.611,184.141,184.518,184.599,184.15,183.011,181.601,180.254,179.111,178.117,177.558,176.624,175.147,174.341,173.133,171.542,170.054,168.337,166.658,165.017,163.567,161.989,160.309,158.329,156.142,153.618,151.504,150.012,148.659,147.949,147.696,148.09,148.409,148.276,148.023,147.848,148.133,147.929,147.395,145.632,145.86,146.401,146.391,145.717,144.988,143.912,143.015,142.525,142.169,142.061,141.526,140.356,139.987,140.011,139.904,139.86,139.727,139.306,138.667,137.954,137.154,136.676,136.607,136.529,137.903,139.155,140.156,141.029,141.667,142.277,142.907,143.6,144.585,145.501,146.835,147.784,149.965,151.521,152.854,154.194,155.606,156.973,158.234,159.247,160.075,160.997,161.948,162.53,163.093,163.4,163.666,164.04,164.574,165.219,165.909,166.646,167.339,168.058,168.663,169.138,169.812,170.312,170.894,171.437,172.131,172.948,173.84,174.802,175.747,176.553,177.302,177.667,178.193,178.8,179.46,180.057,180.848,181.868,182.837,183.751,184.74,185.69,186.793,187.313,188.032,188.818,189.707,190.522,191.499,192.723,193.786,194.778,195.866,197.044,198.201,199.184,200.038,200.876,201.646,202.345,203.015,203.783,204.366,205.017,205.464,205.867,206.266,206.712,207.202,207.941,208.58,208.947,209.496,210.231,210.911,211.598,212.446,213.434,214.49,215.549,216.602,217.464,217.689,218.139,219.702,222.539,225.793,229.403,232.673,235.7,238.784,241.845,245.796,250.094,254.556,259.249,263.349,267.028,270.258,273.154,276.429,280.19,284.767,290.371,296.496,301.704,304.831],\"yaxis\":\"y\"}],                        {\"barmode\":\"group\",\"legend\":{\"tracegroupgap\":0},\"margin\":{\"t\":60},\"template\":{\"data\":{\"bar\":[{\"error_x\":{\"color\":\"#2a3f5f\"},\"error_y\":{\"color\":\"#2a3f5f\"},\"marker\":{\"line\":{\"color\":\"#E5ECF6\",\"width\":0.5},\"pattern\":{\"fillmode\":\"overlay\",\"size\":10,\"solidity\":0.2}},\"type\":\"bar\"}],\"barpolar\":[{\"marker\":{\"line\":{\"color\":\"#E5ECF6\",\"width\":0.5},\"pattern\":{\"fillmode\":\"overlay\",\"size\":10,\"solidity\":0.2}},\"type\":\"barpolar\"}],\"carpet\":[{\"aaxis\":{\"endlinecolor\":\"#2a3f5f\",\"gridcolor\":\"white\",\"linecolor\":\"white\",\"minorgridcolor\":\"white\",\"startlinecolor\":\"#2a3f5f\"},\"baxis\":{\"endlinecolor\":\"#2a3f5f\",\"gridcolor\":\"white\",\"linecolor\":\"white\",\"minorgridcolor\":\"white\",\"startlinecolor\":\"#2a3f5f\"},\"type\":\"carpet\"}],\"choropleth\":[{\"colorbar\":{\"outlinewidth\":0,\"ticks\":\"\"},\"type\":\"choropleth\"}],\"contour\":[{\"colorbar\":{\"outlinewidth\":0,\"ticks\":\"\"},\"colorscale\":[[0.0,\"#0d0887\"],[0.1111111111111111,\"#46039f\"],[0.2222222222222222,\"#7201a8\"],[0.3333333333333333,\"#9c179e\"],[0.4444444444444444,\"#bd3786\"],[0.5555555555555556,\"#d8576b\"],[0.6666666666666666,\"#ed7953\"],[0.7777777777777778,\"#fb9f3a\"],[0.8888888888888888,\"#fdca26\"],[1.0,\"#f0f921\"]],\"type\":\"contour\"}],\"contourcarpet\":[{\"colorbar\":{\"outlinewidth\":0,\"ticks\":\"\"},\"type\":\"contourcarpet\"}],\"heatmap\":[{\"colorbar\":{\"outlinewidth\":0,\"ticks\":\"\"},\"colorscale\":[[0.0,\"#0d0887\"],[0.1111111111111111,\"#46039f\"],[0.2222222222222222,\"#7201a8\"],[0.3333333333333333,\"#9c179e\"],[0.4444444444444444,\"#bd3786\"],[0.5555555555555556,\"#d8576b\"],[0.6666666666666666,\"#ed7953\"],[0.7777777777777778,\"#fb9f3a\"],[0.8888888888888888,\"#fdca26\"],[1.0,\"#f0f921\"]],\"type\":\"heatmap\"}],\"heatmapgl\":[{\"colorbar\":{\"outlinewidth\":0,\"ticks\":\"\"},\"colorscale\":[[0.0,\"#0d0887\"],[0.1111111111111111,\"#46039f\"],[0.2222222222222222,\"#7201a8\"],[0.3333333333333333,\"#9c179e\"],[0.4444444444444444,\"#bd3786\"],[0.5555555555555556,\"#d8576b\"],[0.6666666666666666,\"#ed7953\"],[0.7777777777777778,\"#fb9f3a\"],[0.8888888888888888,\"#fdca26\"],[1.0,\"#f0f921\"]],\"type\":\"heatmapgl\"}],\"histogram\":[{\"marker\":{\"pattern\":{\"fillmode\":\"overlay\",\"size\":10,\"solidity\":0.2}},\"type\":\"histogram\"}],\"histogram2d\":[{\"colorbar\":{\"outlinewidth\":0,\"ticks\":\"\"},\"colorscale\":[[0.0,\"#0d0887\"],[0.1111111111111111,\"#46039f\"],[0.2222222222222222,\"#7201a8\"],[0.3333333333333333,\"#9c179e\"],[0.4444444444444444,\"#bd3786\"],[0.5555555555555556,\"#d8576b\"],[0.6666666666666666,\"#ed7953\"],[0.7777777777777778,\"#fb9f3a\"],[0.8888888888888888,\"#fdca26\"],[1.0,\"#f0f921\"]],\"type\":\"histogram2d\"}],\"histogram2dcontour\":[{\"colorbar\":{\"outlinewidth\":0,\"ticks\":\"\"},\"colorscale\":[[0.0,\"#0d0887\"],[0.1111111111111111,\"#46039f\"],[0.2222222222222222,\"#7201a8\"],[0.3333333333333333,\"#9c179e\"],[0.4444444444444444,\"#bd3786\"],[0.5555555555555556,\"#d8576b\"],[0.6666666666666666,\"#ed7953\"],[0.7777777777777778,\"#fb9f3a\"],[0.8888888888888888,\"#fdca26\"],[1.0,\"#f0f921\"]],\"type\":\"histogram2dcontour\"}],\"mesh3d\":[{\"colorbar\":{\"outlinewidth\":0,\"ticks\":\"\"},\"type\":\"mesh3d\"}],\"parcoords\":[{\"line\":{\"colorbar\":{\"outlinewidth\":0,\"ticks\":\"\"}},\"type\":\"parcoords\"}],\"pie\":[{\"automargin\":true,\"type\":\"pie\"}],\"scatter\":[{\"marker\":{\"colorbar\":{\"outlinewidth\":0,\"ticks\":\"\"}},\"type\":\"scatter\"}],\"scatter3d\":[{\"line\":{\"colorbar\":{\"outlinewidth\":0,\"ticks\":\"\"}},\"marker\":{\"colorbar\":{\"outlinewidth\":0,\"ticks\":\"\"}},\"type\":\"scatter3d\"}],\"scattercarpet\":[{\"marker\":{\"colorbar\":{\"outlinewidth\":0,\"ticks\":\"\"}},\"type\":\"scattercarpet\"}],\"scattergeo\":[{\"marker\":{\"colorbar\":{\"outlinewidth\":0,\"ticks\":\"\"}},\"type\":\"scattergeo\"}],\"scattergl\":[{\"marker\":{\"colorbar\":{\"outlinewidth\":0,\"ticks\":\"\"}},\"type\":\"scattergl\"}],\"scattermapbox\":[{\"marker\":{\"colorbar\":{\"outlinewidth\":0,\"ticks\":\"\"}},\"type\":\"scattermapbox\"}],\"scatterpolar\":[{\"marker\":{\"colorbar\":{\"outlinewidth\":0,\"ticks\":\"\"}},\"type\":\"scatterpolar\"}],\"scatterpolargl\":[{\"marker\":{\"colorbar\":{\"outlinewidth\":0,\"ticks\":\"\"}},\"type\":\"scatterpolargl\"}],\"scatterternary\":[{\"marker\":{\"colorbar\":{\"outlinewidth\":0,\"ticks\":\"\"}},\"type\":\"scatterternary\"}],\"surface\":[{\"colorbar\":{\"outlinewidth\":0,\"ticks\":\"\"},\"colorscale\":[[0.0,\"#0d0887\"],[0.1111111111111111,\"#46039f\"],[0.2222222222222222,\"#7201a8\"],[0.3333333333333333,\"#9c179e\"],[0.4444444444444444,\"#bd3786\"],[0.5555555555555556,\"#d8576b\"],[0.6666666666666666,\"#ed7953\"],[0.7777777777777778,\"#fb9f3a\"],[0.8888888888888888,\"#fdca26\"],[1.0,\"#f0f921\"]],\"type\":\"surface\"}],\"table\":[{\"cells\":{\"fill\":{\"color\":\"#EBF0F8\"},\"line\":{\"color\":\"white\"}},\"header\":{\"fill\":{\"color\":\"#C8D4E3\"},\"line\":{\"color\":\"white\"}},\"type\":\"table\"}]},\"layout\":{\"annotationdefaults\":{\"arrowcolor\":\"#2a3f5f\",\"arrowhead\":0,\"arrowwidth\":1},\"autotypenumbers\":\"strict\",\"coloraxis\":{\"colorbar\":{\"outlinewidth\":0,\"ticks\":\"\"}},\"colorscale\":{\"diverging\":[[0,\"#8e0152\"],[0.1,\"#c51b7d\"],[0.2,\"#de77ae\"],[0.3,\"#f1b6da\"],[0.4,\"#fde0ef\"],[0.5,\"#f7f7f7\"],[0.6,\"#e6f5d0\"],[0.7,\"#b8e186\"],[0.8,\"#7fbc41\"],[0.9,\"#4d9221\"],[1,\"#276419\"]],\"sequential\":[[0.0,\"#0d0887\"],[0.1111111111111111,\"#46039f\"],[0.2222222222222222,\"#7201a8\"],[0.3333333333333333,\"#9c179e\"],[0.4444444444444444,\"#bd3786\"],[0.5555555555555556,\"#d8576b\"],[0.6666666666666666,\"#ed7953\"],[0.7777777777777778,\"#fb9f3a\"],[0.8888888888888888,\"#fdca26\"],[1.0,\"#f0f921\"]],\"sequentialminus\":[[0.0,\"#0d0887\"],[0.1111111111111111,\"#46039f\"],[0.2222222222222222,\"#7201a8\"],[0.3333333333333333,\"#9c179e\"],[0.4444444444444444,\"#bd3786\"],[0.5555555555555556,\"#d8576b\"],[0.6666666666666666,\"#ed7953\"],[0.7777777777777778,\"#fb9f3a\"],[0.8888888888888888,\"#fdca26\"],[1.0,\"#f0f921\"]]},\"colorway\":[\"#636efa\",\"#EF553B\",\"#00cc96\",\"#ab63fa\",\"#FFA15A\",\"#19d3f3\",\"#FF6692\",\"#B6E880\",\"#FF97FF\",\"#FECB52\"],\"font\":{\"color\":\"#2a3f5f\"},\"geo\":{\"bgcolor\":\"white\",\"lakecolor\":\"white\",\"landcolor\":\"#E5ECF6\",\"showlakes\":true,\"showland\":true,\"subunitcolor\":\"white\"},\"hoverlabel\":{\"align\":\"left\"},\"hovermode\":\"closest\",\"mapbox\":{\"style\":\"light\"},\"paper_bgcolor\":\"white\",\"plot_bgcolor\":\"#E5ECF6\",\"polar\":{\"angularaxis\":{\"gridcolor\":\"white\",\"linecolor\":\"white\",\"ticks\":\"\"},\"bgcolor\":\"#E5ECF6\",\"radialaxis\":{\"gridcolor\":\"white\",\"linecolor\":\"white\",\"ticks\":\"\"}},\"scene\":{\"xaxis\":{\"backgroundcolor\":\"#E5ECF6\",\"gridcolor\":\"white\",\"gridwidth\":2,\"linecolor\":\"white\",\"showbackground\":true,\"ticks\":\"\",\"zerolinecolor\":\"white\"},\"yaxis\":{\"backgroundcolor\":\"#E5ECF6\",\"gridcolor\":\"white\",\"gridwidth\":2,\"linecolor\":\"white\",\"showbackground\":true,\"ticks\":\"\",\"zerolinecolor\":\"white\"},\"zaxis\":{\"backgroundcolor\":\"#E5ECF6\",\"gridcolor\":\"white\",\"gridwidth\":2,\"linecolor\":\"white\",\"showbackground\":true,\"ticks\":\"\",\"zerolinecolor\":\"white\"}},\"shapedefaults\":{\"line\":{\"color\":\"#2a3f5f\"}},\"ternary\":{\"aaxis\":{\"gridcolor\":\"white\",\"linecolor\":\"white\",\"ticks\":\"\"},\"baxis\":{\"gridcolor\":\"white\",\"linecolor\":\"white\",\"ticks\":\"\"},\"bgcolor\":\"#E5ECF6\",\"caxis\":{\"gridcolor\":\"white\",\"linecolor\":\"white\",\"ticks\":\"\"}},\"title\":{\"x\":0.05},\"xaxis\":{\"automargin\":true,\"gridcolor\":\"white\",\"linecolor\":\"white\",\"ticks\":\"\",\"title\":{\"standoff\":15},\"zerolinecolor\":\"white\",\"zerolinewidth\":2},\"yaxis\":{\"automargin\":true,\"gridcolor\":\"white\",\"linecolor\":\"white\",\"ticks\":\"\",\"title\":{\"standoff\":15},\"zerolinecolor\":\"white\",\"zerolinewidth\":2}}},\"xaxis\":{\"anchor\":\"y\",\"domain\":[0.0,1.0],\"title\":{\"text\":\"Date\"}},\"yaxis\":{\"anchor\":\"x\",\"domain\":[0.0,1.0],\"title\":{\"text\":\"house_price\"}}},                        {\"responsive\": true}                    ).then(function(){\n",
       "                            \n",
       "var gd = document.getElementById('0db242ff-3d0d-4a3e-8c21-f6180db62345');\n",
       "var x = new MutationObserver(function (mutations, observer) {{\n",
       "        var display = window.getComputedStyle(gd).display;\n",
       "        if (!display || display === 'none') {{\n",
       "            console.log([gd, 'removed!']);\n",
       "            Plotly.purge(gd);\n",
       "            observer.disconnect();\n",
       "        }}\n",
       "}});\n",
       "\n",
       "// Listen for the removal of the full notebook cells\n",
       "var notebookContainer = gd.closest('#notebook-container');\n",
       "if (notebookContainer) {{\n",
       "    x.observe(notebookContainer, {childList: true});\n",
       "}}\n",
       "\n",
       "// Listen for the clearing of the current output cell\n",
       "var outputEl = gd.closest('.output');\n",
       "if (outputEl) {{\n",
       "    x.observe(outputEl, {childList: true});\n",
       "}}\n",
       "\n",
       "                        })                };                });            </script>        </div>"
      ]
     },
     "metadata": {},
     "output_type": "display_data"
    }
   ],
   "source": [
    "import plotly.express as px\n",
    "\n",
    "fig = px.bar(df, x=\"Date\", y=\"house_price\", barmode=\"group\")\n",
    "fig.show()"
   ]
  },
  {
   "cell_type": "markdown",
   "id": "46776a81",
   "metadata": {},
   "source": [
    "#### plotly express 3d dimension"
   ]
  },
  {
   "cell_type": "code",
   "execution_count": 240,
   "id": "9eaf167f",
   "metadata": {},
   "outputs": [
    {
     "data": {
      "application/vnd.plotly.v1+json": {
       "config": {
        "plotlyServerURL": "https://plot.ly"
       },
       "data": [
        {
         "hovertemplate": "<b>%{hovertext}</b><br><br>winner=Joly<br>result=plurality<br>Joly=%{x}<br>Coderre=%{y}<br>Bergeron=%{z}<br>total=%{marker.size}<extra></extra>",
         "hovertext": [
          "101-Bois-de-Liesse",
          "102-Cap-Saint-Jacques",
          "161-Saint-HenriPetite-BourgognePointe-Saint-Charles",
          "172-Desmarchais-Crawford",
          "181-Peter-McGill",
          "182-Saint-Jacques",
          "33-Snowdon",
          "34-Notre-Dame-de-Grâce",
          "35-Loyola",
          "41-du Canal",
          "43-Fort-Rolland",
          "63-Jacques-Bizard"
         ],
         "legendgroup": "Joly, plurality",
         "marker": {
          "color": "blue",
          "size": [
           7334,
           6363,
           9378,
           7956,
           4099,
           6357,
           4687,
           7688,
           6125,
           3263,
           4438,
           1432
          ],
          "sizemode": "area",
          "sizeref": 27.625,
          "symbol": "circle"
         },
         "mode": "markers",
         "name": "Joly, plurality",
         "scene": "scene",
         "showlegend": true,
         "type": "scatter3d",
         "x": [
          3024,
          2675,
          3578,
          2849,
          1894,
          2282,
          1636,
          3262,
          2648,
          1266,
          1908,
          690
         ],
         "y": [
          2481,
          2525,
          2432,
          2476,
          1451,
          1906,
          1548,
          1773,
          2040,
          1165,
          1325,
          518
         ],
         "z": [
          1829,
          1163,
          3368,
          2631,
          754,
          2169,
          1503,
          2653,
          1437,
          832,
          1205,
          224
         ]
        },
        {
         "hovertemplate": "<b>%{hovertext}</b><br><br>winner=Joly<br>result=majority<br>Joly=%{x}<br>Coderre=%{y}<br>Bergeron=%{z}<br>total=%{marker.size}<extra></extra>",
         "hovertext": [
          "61-Pierre-Foretier",
          "62-Denis-Benjamin-Viger"
         ],
         "legendgroup": "Joly, majority",
         "marker": {
          "color": "blue",
          "size": [
           1887,
           1889
          ],
          "sizemode": "area",
          "sizeref": 27.625,
          "symbol": "diamond"
         },
         "mode": "markers",
         "name": "Joly, majority",
         "scene": "scene",
         "showlegend": true,
         "type": "scatter3d",
         "x": [
          998,
          1068
         ],
         "y": [
          631,
          595
         ],
         "z": [
          258,
          226
         ]
        },
        {
         "hovertemplate": "<b>%{hovertext}</b><br><br>winner=Coderre<br>result=plurality<br>Joly=%{x}<br>Coderre=%{y}<br>Bergeron=%{z}<br>total=%{marker.size}<extra></extra>",
         "hovertext": [
          "11-Sault-au-Récollet",
          "12-Saint-Sulpice",
          "134-Marie-Victorin",
          "14-Bordeaux-Cartierville",
          "141-Côte-de-Liesse",
          "142-Norman-McLaren",
          "162-Saint-PaulÉmard",
          "171-ChamplainL'Île-des-Soeurs",
          "192-François-Perrault",
          "194-Parc-Extension",
          "22-Est",
          "31-Darlington",
          "42-J.-Émery-Provost",
          "51-Sault-Saint-Louis",
          "52-Cecil-P.-Newman",
          "64-Sainte-Geneviève",
          "71-Tétreaultville",
          "74-Louis-Riel",
          "91-Claude-Ryan"
         ],
         "legendgroup": "Coderre, plurality",
         "marker": {
          "color": "red",
          "size": [
           8650,
           8316,
           9259,
           7247,
           9587,
           8385,
           7096,
           9200,
           7583,
           5615,
           3469,
           4287,
           3003,
           9560,
           7809,
           789,
           9737,
           8025,
           2062
          ],
          "sizemode": "area",
          "sizeref": 27.625,
          "symbol": "circle"
         },
         "mode": "markers",
         "name": "Coderre, plurality",
         "scene": "scene",
         "showlegend": true,
         "type": "scatter3d",
         "x": [
          2532,
          2543,
          2431,
          2081,
          3959,
          2822,
          2438,
          3291,
          2039,
          1402,
          1172,
          1232,
          1157,
          3717,
          2943,
          326,
          3454,
          2338,
          423
         ],
         "y": [
          3348,
          3252,
          3673,
          3612,
          4308,
          4104,
          2566,
          3347,
          2878,
          2420,
          1589,
          1873,
          1193,
          4201,
          3536,
          332,
          3694,
          3509,
          996
         ],
         "z": [
          2770,
          2521,
          3155,
          1554,
          1320,
          1459,
          2092,
          2562,
          2666,
          1793,
          708,
          1182,
          653,
          1642,
          1330,
          131,
          2589,
          2178,
          643
         ]
        },
        {
         "hovertemplate": "<b>%{hovertext}</b><br><br>winner=Coderre<br>result=majority<br>Joly=%{x}<br>Coderre=%{y}<br>Bergeron=%{z}<br>total=%{marker.size}<extra></extra>",
         "hovertext": [
          "121-La Pointe-aux-Prairies",
          "122-Pointe-aux-Trembles",
          "123-Rivière-des-Prairies",
          "151-Saint-Léonard-Est",
          "152-Saint-Léonard-Ouest",
          "191-Saint-Michel",
          "21-Ouest",
          "23-Centre",
          "81-Marie-Clarac",
          "82-Ovide-Clermont"
         ],
         "legendgroup": "Coderre, majority",
         "marker": {
          "color": "red",
          "size": [
           10546,
           9465,
           8351,
           6454,
           8479,
           5872,
           3951,
           4663,
           9111,
           8060
          ],
          "sizemode": "area",
          "sizeref": 27.625,
          "symbol": "diamond"
         },
         "mode": "markers",
         "name": "Coderre, majority",
         "scene": "scene",
         "showlegend": true,
         "type": "scatter3d",
         "x": [
          3330,
          2852,
          1656,
          1641,
          1908,
          1220,
          1076,
          1286,
          1435,
          1051
         ],
         "y": [
          5456,
          4734,
          5737,
          3931,
          5387,
          3668,
          2184,
          2526,
          6591,
          6229
         ],
         "z": [
          1760,
          1879,
          958,
          882,
          1184,
          984,
          691,
          851,
          1085,
          780
         ]
        },
        {
         "hovertemplate": "<b>%{hovertext}</b><br><br>winner=Bergeron<br>result=plurality<br>Joly=%{x}<br>Coderre=%{y}<br>Bergeron=%{z}<br>total=%{marker.size}<extra></extra>",
         "hovertext": [
          "113-Jeanne-Mance",
          "13-Ahuntsic",
          "133-Vieux-Rosemont",
          "183-Sainte-Marie",
          "32-Côte-des-Neiges",
          "72-MaisonneuveLongue-Pointe",
          "73-Hochelaga",
          "92-Joseph-Beaubien",
          "93-Robert-Bourassa",
          "94-Jeanne-Sauvé"
         ],
         "legendgroup": "Bergeron, plurality",
         "marker": {
          "color": "green",
          "size": [
           7370,
           9282,
           10866,
           6445,
           5172,
           9135,
           7900,
           1965,
           1330,
           1678
          ],
          "sizemode": "area",
          "sizeref": 27.625,
          "symbol": "circle"
         },
         "mode": "markers",
         "name": "Bergeron, plurality",
         "scene": "scene",
         "showlegend": true,
         "type": "scatter3d",
         "x": [
          2316,
          2873,
          3234,
          2271,
          1578,
          3139,
          2675,
          592,
          419,
          489
         ],
         "y": [
          1455,
          2979,
          2670,
          1347,
          1644,
          2746,
          1546,
          540,
          446,
          491
         ],
         "z": [
          3599,
          3430,
          4962,
          2827,
          1950,
          3250,
          3679,
          833,
          465,
          698
         ]
        },
        {
         "hovertemplate": "<b>%{hovertext}</b><br><br>winner=Bergeron<br>result=majority<br>Joly=%{x}<br>Coderre=%{y}<br>Bergeron=%{z}<br>total=%{marker.size}<extra></extra>",
         "hovertext": [
          "111-Mile-End",
          "112-DeLorimier",
          "131-Saint-Édouard",
          "132-Étienne-Desmarteau",
          "193-Villeray"
         ],
         "legendgroup": "Bergeron, majority",
         "marker": {
          "color": "green",
          "size": [
           9030,
           10747,
           11050,
           10867,
           10802
          ],
          "sizemode": "area",
          "sizeref": 27.625,
          "symbol": "diamond"
         },
         "mode": "markers",
         "name": "Bergeron, majority",
         "scene": "scene",
         "showlegend": true,
         "type": "scatter3d",
         "x": [
          2514,
          3044,
          2815,
          2788,
          2782
         ],
         "y": [
          1734,
          1770,
          1827,
          2331,
          2201
         ],
         "z": [
          4782,
          5933,
          6408,
          5748,
          5819
         ]
        }
       ],
       "layout": {
        "legend": {
         "itemsizing": "constant",
         "title": {
          "text": "winner, result"
         },
         "tracegroupgap": 0
        },
        "margin": {
         "t": 60
        },
        "scene": {
         "domain": {
          "x": [
           0,
           1
          ],
          "y": [
           0,
           1
          ]
         },
         "xaxis": {
          "title": {
           "text": "Joly"
          }
         },
         "yaxis": {
          "title": {
           "text": "Coderre"
          }
         },
         "zaxis": {
          "title": {
           "text": "Bergeron"
          }
         }
        },
        "template": {
         "data": {
          "bar": [
           {
            "error_x": {
             "color": "#2a3f5f"
            },
            "error_y": {
             "color": "#2a3f5f"
            },
            "marker": {
             "line": {
              "color": "#E5ECF6",
              "width": 0.5
             },
             "pattern": {
              "fillmode": "overlay",
              "size": 10,
              "solidity": 0.2
             }
            },
            "type": "bar"
           }
          ],
          "barpolar": [
           {
            "marker": {
             "line": {
              "color": "#E5ECF6",
              "width": 0.5
             },
             "pattern": {
              "fillmode": "overlay",
              "size": 10,
              "solidity": 0.2
             }
            },
            "type": "barpolar"
           }
          ],
          "carpet": [
           {
            "aaxis": {
             "endlinecolor": "#2a3f5f",
             "gridcolor": "white",
             "linecolor": "white",
             "minorgridcolor": "white",
             "startlinecolor": "#2a3f5f"
            },
            "baxis": {
             "endlinecolor": "#2a3f5f",
             "gridcolor": "white",
             "linecolor": "white",
             "minorgridcolor": "white",
             "startlinecolor": "#2a3f5f"
            },
            "type": "carpet"
           }
          ],
          "choropleth": [
           {
            "colorbar": {
             "outlinewidth": 0,
             "ticks": ""
            },
            "type": "choropleth"
           }
          ],
          "contour": [
           {
            "colorbar": {
             "outlinewidth": 0,
             "ticks": ""
            },
            "colorscale": [
             [
              0,
              "#0d0887"
             ],
             [
              0.1111111111111111,
              "#46039f"
             ],
             [
              0.2222222222222222,
              "#7201a8"
             ],
             [
              0.3333333333333333,
              "#9c179e"
             ],
             [
              0.4444444444444444,
              "#bd3786"
             ],
             [
              0.5555555555555556,
              "#d8576b"
             ],
             [
              0.6666666666666666,
              "#ed7953"
             ],
             [
              0.7777777777777778,
              "#fb9f3a"
             ],
             [
              0.8888888888888888,
              "#fdca26"
             ],
             [
              1,
              "#f0f921"
             ]
            ],
            "type": "contour"
           }
          ],
          "contourcarpet": [
           {
            "colorbar": {
             "outlinewidth": 0,
             "ticks": ""
            },
            "type": "contourcarpet"
           }
          ],
          "heatmap": [
           {
            "colorbar": {
             "outlinewidth": 0,
             "ticks": ""
            },
            "colorscale": [
             [
              0,
              "#0d0887"
             ],
             [
              0.1111111111111111,
              "#46039f"
             ],
             [
              0.2222222222222222,
              "#7201a8"
             ],
             [
              0.3333333333333333,
              "#9c179e"
             ],
             [
              0.4444444444444444,
              "#bd3786"
             ],
             [
              0.5555555555555556,
              "#d8576b"
             ],
             [
              0.6666666666666666,
              "#ed7953"
             ],
             [
              0.7777777777777778,
              "#fb9f3a"
             ],
             [
              0.8888888888888888,
              "#fdca26"
             ],
             [
              1,
              "#f0f921"
             ]
            ],
            "type": "heatmap"
           }
          ],
          "heatmapgl": [
           {
            "colorbar": {
             "outlinewidth": 0,
             "ticks": ""
            },
            "colorscale": [
             [
              0,
              "#0d0887"
             ],
             [
              0.1111111111111111,
              "#46039f"
             ],
             [
              0.2222222222222222,
              "#7201a8"
             ],
             [
              0.3333333333333333,
              "#9c179e"
             ],
             [
              0.4444444444444444,
              "#bd3786"
             ],
             [
              0.5555555555555556,
              "#d8576b"
             ],
             [
              0.6666666666666666,
              "#ed7953"
             ],
             [
              0.7777777777777778,
              "#fb9f3a"
             ],
             [
              0.8888888888888888,
              "#fdca26"
             ],
             [
              1,
              "#f0f921"
             ]
            ],
            "type": "heatmapgl"
           }
          ],
          "histogram": [
           {
            "marker": {
             "pattern": {
              "fillmode": "overlay",
              "size": 10,
              "solidity": 0.2
             }
            },
            "type": "histogram"
           }
          ],
          "histogram2d": [
           {
            "colorbar": {
             "outlinewidth": 0,
             "ticks": ""
            },
            "colorscale": [
             [
              0,
              "#0d0887"
             ],
             [
              0.1111111111111111,
              "#46039f"
             ],
             [
              0.2222222222222222,
              "#7201a8"
             ],
             [
              0.3333333333333333,
              "#9c179e"
             ],
             [
              0.4444444444444444,
              "#bd3786"
             ],
             [
              0.5555555555555556,
              "#d8576b"
             ],
             [
              0.6666666666666666,
              "#ed7953"
             ],
             [
              0.7777777777777778,
              "#fb9f3a"
             ],
             [
              0.8888888888888888,
              "#fdca26"
             ],
             [
              1,
              "#f0f921"
             ]
            ],
            "type": "histogram2d"
           }
          ],
          "histogram2dcontour": [
           {
            "colorbar": {
             "outlinewidth": 0,
             "ticks": ""
            },
            "colorscale": [
             [
              0,
              "#0d0887"
             ],
             [
              0.1111111111111111,
              "#46039f"
             ],
             [
              0.2222222222222222,
              "#7201a8"
             ],
             [
              0.3333333333333333,
              "#9c179e"
             ],
             [
              0.4444444444444444,
              "#bd3786"
             ],
             [
              0.5555555555555556,
              "#d8576b"
             ],
             [
              0.6666666666666666,
              "#ed7953"
             ],
             [
              0.7777777777777778,
              "#fb9f3a"
             ],
             [
              0.8888888888888888,
              "#fdca26"
             ],
             [
              1,
              "#f0f921"
             ]
            ],
            "type": "histogram2dcontour"
           }
          ],
          "mesh3d": [
           {
            "colorbar": {
             "outlinewidth": 0,
             "ticks": ""
            },
            "type": "mesh3d"
           }
          ],
          "parcoords": [
           {
            "line": {
             "colorbar": {
              "outlinewidth": 0,
              "ticks": ""
             }
            },
            "type": "parcoords"
           }
          ],
          "pie": [
           {
            "automargin": true,
            "type": "pie"
           }
          ],
          "scatter": [
           {
            "marker": {
             "colorbar": {
              "outlinewidth": 0,
              "ticks": ""
             }
            },
            "type": "scatter"
           }
          ],
          "scatter3d": [
           {
            "line": {
             "colorbar": {
              "outlinewidth": 0,
              "ticks": ""
             }
            },
            "marker": {
             "colorbar": {
              "outlinewidth": 0,
              "ticks": ""
             }
            },
            "type": "scatter3d"
           }
          ],
          "scattercarpet": [
           {
            "marker": {
             "colorbar": {
              "outlinewidth": 0,
              "ticks": ""
             }
            },
            "type": "scattercarpet"
           }
          ],
          "scattergeo": [
           {
            "marker": {
             "colorbar": {
              "outlinewidth": 0,
              "ticks": ""
             }
            },
            "type": "scattergeo"
           }
          ],
          "scattergl": [
           {
            "marker": {
             "colorbar": {
              "outlinewidth": 0,
              "ticks": ""
             }
            },
            "type": "scattergl"
           }
          ],
          "scattermapbox": [
           {
            "marker": {
             "colorbar": {
              "outlinewidth": 0,
              "ticks": ""
             }
            },
            "type": "scattermapbox"
           }
          ],
          "scatterpolar": [
           {
            "marker": {
             "colorbar": {
              "outlinewidth": 0,
              "ticks": ""
             }
            },
            "type": "scatterpolar"
           }
          ],
          "scatterpolargl": [
           {
            "marker": {
             "colorbar": {
              "outlinewidth": 0,
              "ticks": ""
             }
            },
            "type": "scatterpolargl"
           }
          ],
          "scatterternary": [
           {
            "marker": {
             "colorbar": {
              "outlinewidth": 0,
              "ticks": ""
             }
            },
            "type": "scatterternary"
           }
          ],
          "surface": [
           {
            "colorbar": {
             "outlinewidth": 0,
             "ticks": ""
            },
            "colorscale": [
             [
              0,
              "#0d0887"
             ],
             [
              0.1111111111111111,
              "#46039f"
             ],
             [
              0.2222222222222222,
              "#7201a8"
             ],
             [
              0.3333333333333333,
              "#9c179e"
             ],
             [
              0.4444444444444444,
              "#bd3786"
             ],
             [
              0.5555555555555556,
              "#d8576b"
             ],
             [
              0.6666666666666666,
              "#ed7953"
             ],
             [
              0.7777777777777778,
              "#fb9f3a"
             ],
             [
              0.8888888888888888,
              "#fdca26"
             ],
             [
              1,
              "#f0f921"
             ]
            ],
            "type": "surface"
           }
          ],
          "table": [
           {
            "cells": {
             "fill": {
              "color": "#EBF0F8"
             },
             "line": {
              "color": "white"
             }
            },
            "header": {
             "fill": {
              "color": "#C8D4E3"
             },
             "line": {
              "color": "white"
             }
            },
            "type": "table"
           }
          ]
         },
         "layout": {
          "annotationdefaults": {
           "arrowcolor": "#2a3f5f",
           "arrowhead": 0,
           "arrowwidth": 1
          },
          "autotypenumbers": "strict",
          "coloraxis": {
           "colorbar": {
            "outlinewidth": 0,
            "ticks": ""
           }
          },
          "colorscale": {
           "diverging": [
            [
             0,
             "#8e0152"
            ],
            [
             0.1,
             "#c51b7d"
            ],
            [
             0.2,
             "#de77ae"
            ],
            [
             0.3,
             "#f1b6da"
            ],
            [
             0.4,
             "#fde0ef"
            ],
            [
             0.5,
             "#f7f7f7"
            ],
            [
             0.6,
             "#e6f5d0"
            ],
            [
             0.7,
             "#b8e186"
            ],
            [
             0.8,
             "#7fbc41"
            ],
            [
             0.9,
             "#4d9221"
            ],
            [
             1,
             "#276419"
            ]
           ],
           "sequential": [
            [
             0,
             "#0d0887"
            ],
            [
             0.1111111111111111,
             "#46039f"
            ],
            [
             0.2222222222222222,
             "#7201a8"
            ],
            [
             0.3333333333333333,
             "#9c179e"
            ],
            [
             0.4444444444444444,
             "#bd3786"
            ],
            [
             0.5555555555555556,
             "#d8576b"
            ],
            [
             0.6666666666666666,
             "#ed7953"
            ],
            [
             0.7777777777777778,
             "#fb9f3a"
            ],
            [
             0.8888888888888888,
             "#fdca26"
            ],
            [
             1,
             "#f0f921"
            ]
           ],
           "sequentialminus": [
            [
             0,
             "#0d0887"
            ],
            [
             0.1111111111111111,
             "#46039f"
            ],
            [
             0.2222222222222222,
             "#7201a8"
            ],
            [
             0.3333333333333333,
             "#9c179e"
            ],
            [
             0.4444444444444444,
             "#bd3786"
            ],
            [
             0.5555555555555556,
             "#d8576b"
            ],
            [
             0.6666666666666666,
             "#ed7953"
            ],
            [
             0.7777777777777778,
             "#fb9f3a"
            ],
            [
             0.8888888888888888,
             "#fdca26"
            ],
            [
             1,
             "#f0f921"
            ]
           ]
          },
          "colorway": [
           "#636efa",
           "#EF553B",
           "#00cc96",
           "#ab63fa",
           "#FFA15A",
           "#19d3f3",
           "#FF6692",
           "#B6E880",
           "#FF97FF",
           "#FECB52"
          ],
          "font": {
           "color": "#2a3f5f"
          },
          "geo": {
           "bgcolor": "white",
           "lakecolor": "white",
           "landcolor": "#E5ECF6",
           "showlakes": true,
           "showland": true,
           "subunitcolor": "white"
          },
          "hoverlabel": {
           "align": "left"
          },
          "hovermode": "closest",
          "mapbox": {
           "style": "light"
          },
          "paper_bgcolor": "white",
          "plot_bgcolor": "#E5ECF6",
          "polar": {
           "angularaxis": {
            "gridcolor": "white",
            "linecolor": "white",
            "ticks": ""
           },
           "bgcolor": "#E5ECF6",
           "radialaxis": {
            "gridcolor": "white",
            "linecolor": "white",
            "ticks": ""
           }
          },
          "scene": {
           "xaxis": {
            "backgroundcolor": "#E5ECF6",
            "gridcolor": "white",
            "gridwidth": 2,
            "linecolor": "white",
            "showbackground": true,
            "ticks": "",
            "zerolinecolor": "white"
           },
           "yaxis": {
            "backgroundcolor": "#E5ECF6",
            "gridcolor": "white",
            "gridwidth": 2,
            "linecolor": "white",
            "showbackground": true,
            "ticks": "",
            "zerolinecolor": "white"
           },
           "zaxis": {
            "backgroundcolor": "#E5ECF6",
            "gridcolor": "white",
            "gridwidth": 2,
            "linecolor": "white",
            "showbackground": true,
            "ticks": "",
            "zerolinecolor": "white"
           }
          },
          "shapedefaults": {
           "line": {
            "color": "#2a3f5f"
           }
          },
          "ternary": {
           "aaxis": {
            "gridcolor": "white",
            "linecolor": "white",
            "ticks": ""
           },
           "baxis": {
            "gridcolor": "white",
            "linecolor": "white",
            "ticks": ""
           },
           "bgcolor": "#E5ECF6",
           "caxis": {
            "gridcolor": "white",
            "linecolor": "white",
            "ticks": ""
           }
          },
          "title": {
           "x": 0.05
          },
          "xaxis": {
           "automargin": true,
           "gridcolor": "white",
           "linecolor": "white",
           "ticks": "",
           "title": {
            "standoff": 15
           },
           "zerolinecolor": "white",
           "zerolinewidth": 2
          },
          "yaxis": {
           "automargin": true,
           "gridcolor": "white",
           "linecolor": "white",
           "ticks": "",
           "title": {
            "standoff": 15
           },
           "zerolinecolor": "white",
           "zerolinewidth": 2
          }
         }
        }
       }
      },
      "text/html": [
       "<div>                            <div id=\"348151b9-91a4-4017-a3c8-68a06cdd9862\" class=\"plotly-graph-div\" style=\"height:525px; width:100%;\"></div>            <script type=\"text/javascript\">                require([\"plotly\"], function(Plotly) {                    window.PLOTLYENV=window.PLOTLYENV || {};                                    if (document.getElementById(\"348151b9-91a4-4017-a3c8-68a06cdd9862\")) {                    Plotly.newPlot(                        \"348151b9-91a4-4017-a3c8-68a06cdd9862\",                        [{\"hovertemplate\":\"<b>%{hovertext}</b><br><br>winner=Joly<br>result=plurality<br>Joly=%{x}<br>Coderre=%{y}<br>Bergeron=%{z}<br>total=%{marker.size}<extra></extra>\",\"hovertext\":[\"101-Bois-de-Liesse\",\"102-Cap-Saint-Jacques\",\"161-Saint-HenriPetite-BourgognePointe-Saint-Charles\",\"172-Desmarchais-Crawford\",\"181-Peter-McGill\",\"182-Saint-Jacques\",\"33-Snowdon\",\"34-Notre-Dame-de-Gr\\u00e2ce\",\"35-Loyola\",\"41-du Canal\",\"43-Fort-Rolland\",\"63-Jacques-Bizard\"],\"legendgroup\":\"Joly, plurality\",\"marker\":{\"color\":\"blue\",\"size\":[7334,6363,9378,7956,4099,6357,4687,7688,6125,3263,4438,1432],\"sizemode\":\"area\",\"sizeref\":27.625,\"symbol\":\"circle\"},\"mode\":\"markers\",\"name\":\"Joly, plurality\",\"scene\":\"scene\",\"showlegend\":true,\"type\":\"scatter3d\",\"x\":[3024,2675,3578,2849,1894,2282,1636,3262,2648,1266,1908,690],\"y\":[2481,2525,2432,2476,1451,1906,1548,1773,2040,1165,1325,518],\"z\":[1829,1163,3368,2631,754,2169,1503,2653,1437,832,1205,224]},{\"hovertemplate\":\"<b>%{hovertext}</b><br><br>winner=Joly<br>result=majority<br>Joly=%{x}<br>Coderre=%{y}<br>Bergeron=%{z}<br>total=%{marker.size}<extra></extra>\",\"hovertext\":[\"61-Pierre-Foretier\",\"62-Denis-Benjamin-Viger\"],\"legendgroup\":\"Joly, majority\",\"marker\":{\"color\":\"blue\",\"size\":[1887,1889],\"sizemode\":\"area\",\"sizeref\":27.625,\"symbol\":\"diamond\"},\"mode\":\"markers\",\"name\":\"Joly, majority\",\"scene\":\"scene\",\"showlegend\":true,\"type\":\"scatter3d\",\"x\":[998,1068],\"y\":[631,595],\"z\":[258,226]},{\"hovertemplate\":\"<b>%{hovertext}</b><br><br>winner=Coderre<br>result=plurality<br>Joly=%{x}<br>Coderre=%{y}<br>Bergeron=%{z}<br>total=%{marker.size}<extra></extra>\",\"hovertext\":[\"11-Sault-au-R\\u00e9collet\",\"12-Saint-Sulpice\",\"134-Marie-Victorin\",\"14-Bordeaux-Cartierville\",\"141-C\\u00f4te-de-Liesse\",\"142-Norman-McLaren\",\"162-Saint-Paul\\u00c9mard\",\"171-ChamplainL'\\u00cele-des-Soeurs\",\"192-Fran\\u00e7ois-Perrault\",\"194-Parc-Extension\",\"22-Est\",\"31-Darlington\",\"42-J.-\\u00c9mery-Provost\",\"51-Sault-Saint-Louis\",\"52-Cecil-P.-Newman\",\"64-Sainte-Genevi\\u00e8ve\",\"71-T\\u00e9treaultville\",\"74-Louis-Riel\",\"91-Claude-Ryan\"],\"legendgroup\":\"Coderre, plurality\",\"marker\":{\"color\":\"red\",\"size\":[8650,8316,9259,7247,9587,8385,7096,9200,7583,5615,3469,4287,3003,9560,7809,789,9737,8025,2062],\"sizemode\":\"area\",\"sizeref\":27.625,\"symbol\":\"circle\"},\"mode\":\"markers\",\"name\":\"Coderre, plurality\",\"scene\":\"scene\",\"showlegend\":true,\"type\":\"scatter3d\",\"x\":[2532,2543,2431,2081,3959,2822,2438,3291,2039,1402,1172,1232,1157,3717,2943,326,3454,2338,423],\"y\":[3348,3252,3673,3612,4308,4104,2566,3347,2878,2420,1589,1873,1193,4201,3536,332,3694,3509,996],\"z\":[2770,2521,3155,1554,1320,1459,2092,2562,2666,1793,708,1182,653,1642,1330,131,2589,2178,643]},{\"hovertemplate\":\"<b>%{hovertext}</b><br><br>winner=Coderre<br>result=majority<br>Joly=%{x}<br>Coderre=%{y}<br>Bergeron=%{z}<br>total=%{marker.size}<extra></extra>\",\"hovertext\":[\"121-La Pointe-aux-Prairies\",\"122-Pointe-aux-Trembles\",\"123-Rivi\\u00e8re-des-Prairies\",\"151-Saint-L\\u00e9onard-Est\",\"152-Saint-L\\u00e9onard-Ouest\",\"191-Saint-Michel\",\"21-Ouest\",\"23-Centre\",\"81-Marie-Clarac\",\"82-Ovide-Clermont\"],\"legendgroup\":\"Coderre, majority\",\"marker\":{\"color\":\"red\",\"size\":[10546,9465,8351,6454,8479,5872,3951,4663,9111,8060],\"sizemode\":\"area\",\"sizeref\":27.625,\"symbol\":\"diamond\"},\"mode\":\"markers\",\"name\":\"Coderre, majority\",\"scene\":\"scene\",\"showlegend\":true,\"type\":\"scatter3d\",\"x\":[3330,2852,1656,1641,1908,1220,1076,1286,1435,1051],\"y\":[5456,4734,5737,3931,5387,3668,2184,2526,6591,6229],\"z\":[1760,1879,958,882,1184,984,691,851,1085,780]},{\"hovertemplate\":\"<b>%{hovertext}</b><br><br>winner=Bergeron<br>result=plurality<br>Joly=%{x}<br>Coderre=%{y}<br>Bergeron=%{z}<br>total=%{marker.size}<extra></extra>\",\"hovertext\":[\"113-Jeanne-Mance\",\"13-Ahuntsic\",\"133-Vieux-Rosemont\",\"183-Sainte-Marie\",\"32-C\\u00f4te-des-Neiges\",\"72-MaisonneuveLongue-Pointe\",\"73-Hochelaga\",\"92-Joseph-Beaubien\",\"93-Robert-Bourassa\",\"94-Jeanne-Sauv\\u00e9\"],\"legendgroup\":\"Bergeron, plurality\",\"marker\":{\"color\":\"green\",\"size\":[7370,9282,10866,6445,5172,9135,7900,1965,1330,1678],\"sizemode\":\"area\",\"sizeref\":27.625,\"symbol\":\"circle\"},\"mode\":\"markers\",\"name\":\"Bergeron, plurality\",\"scene\":\"scene\",\"showlegend\":true,\"type\":\"scatter3d\",\"x\":[2316,2873,3234,2271,1578,3139,2675,592,419,489],\"y\":[1455,2979,2670,1347,1644,2746,1546,540,446,491],\"z\":[3599,3430,4962,2827,1950,3250,3679,833,465,698]},{\"hovertemplate\":\"<b>%{hovertext}</b><br><br>winner=Bergeron<br>result=majority<br>Joly=%{x}<br>Coderre=%{y}<br>Bergeron=%{z}<br>total=%{marker.size}<extra></extra>\",\"hovertext\":[\"111-Mile-End\",\"112-DeLorimier\",\"131-Saint-\\u00c9douard\",\"132-\\u00c9tienne-Desmarteau\",\"193-Villeray\"],\"legendgroup\":\"Bergeron, majority\",\"marker\":{\"color\":\"green\",\"size\":[9030,10747,11050,10867,10802],\"sizemode\":\"area\",\"sizeref\":27.625,\"symbol\":\"diamond\"},\"mode\":\"markers\",\"name\":\"Bergeron, majority\",\"scene\":\"scene\",\"showlegend\":true,\"type\":\"scatter3d\",\"x\":[2514,3044,2815,2788,2782],\"y\":[1734,1770,1827,2331,2201],\"z\":[4782,5933,6408,5748,5819]}],                        {\"legend\":{\"itemsizing\":\"constant\",\"title\":{\"text\":\"winner, result\"},\"tracegroupgap\":0},\"margin\":{\"t\":60},\"scene\":{\"domain\":{\"x\":[0.0,1.0],\"y\":[0.0,1.0]},\"xaxis\":{\"title\":{\"text\":\"Joly\"}},\"yaxis\":{\"title\":{\"text\":\"Coderre\"}},\"zaxis\":{\"title\":{\"text\":\"Bergeron\"}}},\"template\":{\"data\":{\"bar\":[{\"error_x\":{\"color\":\"#2a3f5f\"},\"error_y\":{\"color\":\"#2a3f5f\"},\"marker\":{\"line\":{\"color\":\"#E5ECF6\",\"width\":0.5},\"pattern\":{\"fillmode\":\"overlay\",\"size\":10,\"solidity\":0.2}},\"type\":\"bar\"}],\"barpolar\":[{\"marker\":{\"line\":{\"color\":\"#E5ECF6\",\"width\":0.5},\"pattern\":{\"fillmode\":\"overlay\",\"size\":10,\"solidity\":0.2}},\"type\":\"barpolar\"}],\"carpet\":[{\"aaxis\":{\"endlinecolor\":\"#2a3f5f\",\"gridcolor\":\"white\",\"linecolor\":\"white\",\"minorgridcolor\":\"white\",\"startlinecolor\":\"#2a3f5f\"},\"baxis\":{\"endlinecolor\":\"#2a3f5f\",\"gridcolor\":\"white\",\"linecolor\":\"white\",\"minorgridcolor\":\"white\",\"startlinecolor\":\"#2a3f5f\"},\"type\":\"carpet\"}],\"choropleth\":[{\"colorbar\":{\"outlinewidth\":0,\"ticks\":\"\"},\"type\":\"choropleth\"}],\"contour\":[{\"colorbar\":{\"outlinewidth\":0,\"ticks\":\"\"},\"colorscale\":[[0.0,\"#0d0887\"],[0.1111111111111111,\"#46039f\"],[0.2222222222222222,\"#7201a8\"],[0.3333333333333333,\"#9c179e\"],[0.4444444444444444,\"#bd3786\"],[0.5555555555555556,\"#d8576b\"],[0.6666666666666666,\"#ed7953\"],[0.7777777777777778,\"#fb9f3a\"],[0.8888888888888888,\"#fdca26\"],[1.0,\"#f0f921\"]],\"type\":\"contour\"}],\"contourcarpet\":[{\"colorbar\":{\"outlinewidth\":0,\"ticks\":\"\"},\"type\":\"contourcarpet\"}],\"heatmap\":[{\"colorbar\":{\"outlinewidth\":0,\"ticks\":\"\"},\"colorscale\":[[0.0,\"#0d0887\"],[0.1111111111111111,\"#46039f\"],[0.2222222222222222,\"#7201a8\"],[0.3333333333333333,\"#9c179e\"],[0.4444444444444444,\"#bd3786\"],[0.5555555555555556,\"#d8576b\"],[0.6666666666666666,\"#ed7953\"],[0.7777777777777778,\"#fb9f3a\"],[0.8888888888888888,\"#fdca26\"],[1.0,\"#f0f921\"]],\"type\":\"heatmap\"}],\"heatmapgl\":[{\"colorbar\":{\"outlinewidth\":0,\"ticks\":\"\"},\"colorscale\":[[0.0,\"#0d0887\"],[0.1111111111111111,\"#46039f\"],[0.2222222222222222,\"#7201a8\"],[0.3333333333333333,\"#9c179e\"],[0.4444444444444444,\"#bd3786\"],[0.5555555555555556,\"#d8576b\"],[0.6666666666666666,\"#ed7953\"],[0.7777777777777778,\"#fb9f3a\"],[0.8888888888888888,\"#fdca26\"],[1.0,\"#f0f921\"]],\"type\":\"heatmapgl\"}],\"histogram\":[{\"marker\":{\"pattern\":{\"fillmode\":\"overlay\",\"size\":10,\"solidity\":0.2}},\"type\":\"histogram\"}],\"histogram2d\":[{\"colorbar\":{\"outlinewidth\":0,\"ticks\":\"\"},\"colorscale\":[[0.0,\"#0d0887\"],[0.1111111111111111,\"#46039f\"],[0.2222222222222222,\"#7201a8\"],[0.3333333333333333,\"#9c179e\"],[0.4444444444444444,\"#bd3786\"],[0.5555555555555556,\"#d8576b\"],[0.6666666666666666,\"#ed7953\"],[0.7777777777777778,\"#fb9f3a\"],[0.8888888888888888,\"#fdca26\"],[1.0,\"#f0f921\"]],\"type\":\"histogram2d\"}],\"histogram2dcontour\":[{\"colorbar\":{\"outlinewidth\":0,\"ticks\":\"\"},\"colorscale\":[[0.0,\"#0d0887\"],[0.1111111111111111,\"#46039f\"],[0.2222222222222222,\"#7201a8\"],[0.3333333333333333,\"#9c179e\"],[0.4444444444444444,\"#bd3786\"],[0.5555555555555556,\"#d8576b\"],[0.6666666666666666,\"#ed7953\"],[0.7777777777777778,\"#fb9f3a\"],[0.8888888888888888,\"#fdca26\"],[1.0,\"#f0f921\"]],\"type\":\"histogram2dcontour\"}],\"mesh3d\":[{\"colorbar\":{\"outlinewidth\":0,\"ticks\":\"\"},\"type\":\"mesh3d\"}],\"parcoords\":[{\"line\":{\"colorbar\":{\"outlinewidth\":0,\"ticks\":\"\"}},\"type\":\"parcoords\"}],\"pie\":[{\"automargin\":true,\"type\":\"pie\"}],\"scatter\":[{\"marker\":{\"colorbar\":{\"outlinewidth\":0,\"ticks\":\"\"}},\"type\":\"scatter\"}],\"scatter3d\":[{\"line\":{\"colorbar\":{\"outlinewidth\":0,\"ticks\":\"\"}},\"marker\":{\"colorbar\":{\"outlinewidth\":0,\"ticks\":\"\"}},\"type\":\"scatter3d\"}],\"scattercarpet\":[{\"marker\":{\"colorbar\":{\"outlinewidth\":0,\"ticks\":\"\"}},\"type\":\"scattercarpet\"}],\"scattergeo\":[{\"marker\":{\"colorbar\":{\"outlinewidth\":0,\"ticks\":\"\"}},\"type\":\"scattergeo\"}],\"scattergl\":[{\"marker\":{\"colorbar\":{\"outlinewidth\":0,\"ticks\":\"\"}},\"type\":\"scattergl\"}],\"scattermapbox\":[{\"marker\":{\"colorbar\":{\"outlinewidth\":0,\"ticks\":\"\"}},\"type\":\"scattermapbox\"}],\"scatterpolar\":[{\"marker\":{\"colorbar\":{\"outlinewidth\":0,\"ticks\":\"\"}},\"type\":\"scatterpolar\"}],\"scatterpolargl\":[{\"marker\":{\"colorbar\":{\"outlinewidth\":0,\"ticks\":\"\"}},\"type\":\"scatterpolargl\"}],\"scatterternary\":[{\"marker\":{\"colorbar\":{\"outlinewidth\":0,\"ticks\":\"\"}},\"type\":\"scatterternary\"}],\"surface\":[{\"colorbar\":{\"outlinewidth\":0,\"ticks\":\"\"},\"colorscale\":[[0.0,\"#0d0887\"],[0.1111111111111111,\"#46039f\"],[0.2222222222222222,\"#7201a8\"],[0.3333333333333333,\"#9c179e\"],[0.4444444444444444,\"#bd3786\"],[0.5555555555555556,\"#d8576b\"],[0.6666666666666666,\"#ed7953\"],[0.7777777777777778,\"#fb9f3a\"],[0.8888888888888888,\"#fdca26\"],[1.0,\"#f0f921\"]],\"type\":\"surface\"}],\"table\":[{\"cells\":{\"fill\":{\"color\":\"#EBF0F8\"},\"line\":{\"color\":\"white\"}},\"header\":{\"fill\":{\"color\":\"#C8D4E3\"},\"line\":{\"color\":\"white\"}},\"type\":\"table\"}]},\"layout\":{\"annotationdefaults\":{\"arrowcolor\":\"#2a3f5f\",\"arrowhead\":0,\"arrowwidth\":1},\"autotypenumbers\":\"strict\",\"coloraxis\":{\"colorbar\":{\"outlinewidth\":0,\"ticks\":\"\"}},\"colorscale\":{\"diverging\":[[0,\"#8e0152\"],[0.1,\"#c51b7d\"],[0.2,\"#de77ae\"],[0.3,\"#f1b6da\"],[0.4,\"#fde0ef\"],[0.5,\"#f7f7f7\"],[0.6,\"#e6f5d0\"],[0.7,\"#b8e186\"],[0.8,\"#7fbc41\"],[0.9,\"#4d9221\"],[1,\"#276419\"]],\"sequential\":[[0.0,\"#0d0887\"],[0.1111111111111111,\"#46039f\"],[0.2222222222222222,\"#7201a8\"],[0.3333333333333333,\"#9c179e\"],[0.4444444444444444,\"#bd3786\"],[0.5555555555555556,\"#d8576b\"],[0.6666666666666666,\"#ed7953\"],[0.7777777777777778,\"#fb9f3a\"],[0.8888888888888888,\"#fdca26\"],[1.0,\"#f0f921\"]],\"sequentialminus\":[[0.0,\"#0d0887\"],[0.1111111111111111,\"#46039f\"],[0.2222222222222222,\"#7201a8\"],[0.3333333333333333,\"#9c179e\"],[0.4444444444444444,\"#bd3786\"],[0.5555555555555556,\"#d8576b\"],[0.6666666666666666,\"#ed7953\"],[0.7777777777777778,\"#fb9f3a\"],[0.8888888888888888,\"#fdca26\"],[1.0,\"#f0f921\"]]},\"colorway\":[\"#636efa\",\"#EF553B\",\"#00cc96\",\"#ab63fa\",\"#FFA15A\",\"#19d3f3\",\"#FF6692\",\"#B6E880\",\"#FF97FF\",\"#FECB52\"],\"font\":{\"color\":\"#2a3f5f\"},\"geo\":{\"bgcolor\":\"white\",\"lakecolor\":\"white\",\"landcolor\":\"#E5ECF6\",\"showlakes\":true,\"showland\":true,\"subunitcolor\":\"white\"},\"hoverlabel\":{\"align\":\"left\"},\"hovermode\":\"closest\",\"mapbox\":{\"style\":\"light\"},\"paper_bgcolor\":\"white\",\"plot_bgcolor\":\"#E5ECF6\",\"polar\":{\"angularaxis\":{\"gridcolor\":\"white\",\"linecolor\":\"white\",\"ticks\":\"\"},\"bgcolor\":\"#E5ECF6\",\"radialaxis\":{\"gridcolor\":\"white\",\"linecolor\":\"white\",\"ticks\":\"\"}},\"scene\":{\"xaxis\":{\"backgroundcolor\":\"#E5ECF6\",\"gridcolor\":\"white\",\"gridwidth\":2,\"linecolor\":\"white\",\"showbackground\":true,\"ticks\":\"\",\"zerolinecolor\":\"white\"},\"yaxis\":{\"backgroundcolor\":\"#E5ECF6\",\"gridcolor\":\"white\",\"gridwidth\":2,\"linecolor\":\"white\",\"showbackground\":true,\"ticks\":\"\",\"zerolinecolor\":\"white\"},\"zaxis\":{\"backgroundcolor\":\"#E5ECF6\",\"gridcolor\":\"white\",\"gridwidth\":2,\"linecolor\":\"white\",\"showbackground\":true,\"ticks\":\"\",\"zerolinecolor\":\"white\"}},\"shapedefaults\":{\"line\":{\"color\":\"#2a3f5f\"}},\"ternary\":{\"aaxis\":{\"gridcolor\":\"white\",\"linecolor\":\"white\",\"ticks\":\"\"},\"baxis\":{\"gridcolor\":\"white\",\"linecolor\":\"white\",\"ticks\":\"\"},\"bgcolor\":\"#E5ECF6\",\"caxis\":{\"gridcolor\":\"white\",\"linecolor\":\"white\",\"ticks\":\"\"}},\"title\":{\"x\":0.05},\"xaxis\":{\"automargin\":true,\"gridcolor\":\"white\",\"linecolor\":\"white\",\"ticks\":\"\",\"title\":{\"standoff\":15},\"zerolinecolor\":\"white\",\"zerolinewidth\":2},\"yaxis\":{\"automargin\":true,\"gridcolor\":\"white\",\"linecolor\":\"white\",\"ticks\":\"\",\"title\":{\"standoff\":15},\"zerolinecolor\":\"white\",\"zerolinewidth\":2}}}},                        {\"responsive\": true}                    ).then(function(){\n",
       "                            \n",
       "var gd = document.getElementById('348151b9-91a4-4017-a3c8-68a06cdd9862');\n",
       "var x = new MutationObserver(function (mutations, observer) {{\n",
       "        var display = window.getComputedStyle(gd).display;\n",
       "        if (!display || display === 'none') {{\n",
       "            console.log([gd, 'removed!']);\n",
       "            Plotly.purge(gd);\n",
       "            observer.disconnect();\n",
       "        }}\n",
       "}});\n",
       "\n",
       "// Listen for the removal of the full notebook cells\n",
       "var notebookContainer = gd.closest('#notebook-container');\n",
       "if (notebookContainer) {{\n",
       "    x.observe(notebookContainer, {childList: true});\n",
       "}}\n",
       "\n",
       "// Listen for the clearing of the current output cell\n",
       "var outputEl = gd.closest('.output');\n",
       "if (outputEl) {{\n",
       "    x.observe(outputEl, {childList: true});\n",
       "}}\n",
       "\n",
       "                        })                };                });            </script>        </div>"
      ]
     },
     "metadata": {},
     "output_type": "display_data"
    }
   ],
   "source": [
    "import plotly.express as px\n",
    "df = px.data.election()\n",
    "fig = px.scatter_3d(df, x=\"Joly\", y=\"Coderre\", z=\"Bergeron\", color=\"winner\", size=\"total\", hover_name=\"district\",\n",
    "                  symbol=\"result\", color_discrete_map = {\"Joly\": \"blue\", \"Bergeron\": \"green\", \"Coderre\":\"red\"})\n",
    "fig.show()"
   ]
  },
  {
   "cell_type": "code",
   "execution_count": null,
   "id": "a30bf3a5",
   "metadata": {},
   "outputs": [],
   "source": []
  },
  {
   "cell_type": "code",
   "execution_count": 156,
   "id": "d76332de",
   "metadata": {},
   "outputs": [
    {
     "data": {
      "application/vnd.plotly.v1+json": {
       "config": {
        "plotlyServerURL": "https://plot.ly"
       },
       "data": [],
       "layout": {
        "coloraxis": {
         "colorbar": {
          "title": {
           "text": "lifeExp"
          }
         },
         "colorscale": [
          [
           0,
           "#0d0887"
          ],
          [
           0.1111111111111111,
           "#46039f"
          ],
          [
           0.2222222222222222,
           "#7201a8"
          ],
          [
           0.3333333333333333,
           "#9c179e"
          ],
          [
           0.4444444444444444,
           "#bd3786"
          ],
          [
           0.5555555555555556,
           "#d8576b"
          ],
          [
           0.6666666666666666,
           "#ed7953"
          ],
          [
           0.7777777777777778,
           "#fb9f3a"
          ],
          [
           0.8888888888888888,
           "#fdca26"
          ],
          [
           1,
           "#f0f921"
          ]
         ]
        },
        "legend": {
         "tracegroupgap": 0
        },
        "margin": {
         "t": 60
        },
        "template": {
         "data": {
          "bar": [
           {
            "error_x": {
             "color": "#2a3f5f"
            },
            "error_y": {
             "color": "#2a3f5f"
            },
            "marker": {
             "line": {
              "color": "#E5ECF6",
              "width": 0.5
             },
             "pattern": {
              "fillmode": "overlay",
              "size": 10,
              "solidity": 0.2
             }
            },
            "type": "bar"
           }
          ],
          "barpolar": [
           {
            "marker": {
             "line": {
              "color": "#E5ECF6",
              "width": 0.5
             },
             "pattern": {
              "fillmode": "overlay",
              "size": 10,
              "solidity": 0.2
             }
            },
            "type": "barpolar"
           }
          ],
          "carpet": [
           {
            "aaxis": {
             "endlinecolor": "#2a3f5f",
             "gridcolor": "white",
             "linecolor": "white",
             "minorgridcolor": "white",
             "startlinecolor": "#2a3f5f"
            },
            "baxis": {
             "endlinecolor": "#2a3f5f",
             "gridcolor": "white",
             "linecolor": "white",
             "minorgridcolor": "white",
             "startlinecolor": "#2a3f5f"
            },
            "type": "carpet"
           }
          ],
          "choropleth": [
           {
            "colorbar": {
             "outlinewidth": 0,
             "ticks": ""
            },
            "type": "choropleth"
           }
          ],
          "contour": [
           {
            "colorbar": {
             "outlinewidth": 0,
             "ticks": ""
            },
            "colorscale": [
             [
              0,
              "#0d0887"
             ],
             [
              0.1111111111111111,
              "#46039f"
             ],
             [
              0.2222222222222222,
              "#7201a8"
             ],
             [
              0.3333333333333333,
              "#9c179e"
             ],
             [
              0.4444444444444444,
              "#bd3786"
             ],
             [
              0.5555555555555556,
              "#d8576b"
             ],
             [
              0.6666666666666666,
              "#ed7953"
             ],
             [
              0.7777777777777778,
              "#fb9f3a"
             ],
             [
              0.8888888888888888,
              "#fdca26"
             ],
             [
              1,
              "#f0f921"
             ]
            ],
            "type": "contour"
           }
          ],
          "contourcarpet": [
           {
            "colorbar": {
             "outlinewidth": 0,
             "ticks": ""
            },
            "type": "contourcarpet"
           }
          ],
          "heatmap": [
           {
            "colorbar": {
             "outlinewidth": 0,
             "ticks": ""
            },
            "colorscale": [
             [
              0,
              "#0d0887"
             ],
             [
              0.1111111111111111,
              "#46039f"
             ],
             [
              0.2222222222222222,
              "#7201a8"
             ],
             [
              0.3333333333333333,
              "#9c179e"
             ],
             [
              0.4444444444444444,
              "#bd3786"
             ],
             [
              0.5555555555555556,
              "#d8576b"
             ],
             [
              0.6666666666666666,
              "#ed7953"
             ],
             [
              0.7777777777777778,
              "#fb9f3a"
             ],
             [
              0.8888888888888888,
              "#fdca26"
             ],
             [
              1,
              "#f0f921"
             ]
            ],
            "type": "heatmap"
           }
          ],
          "heatmapgl": [
           {
            "colorbar": {
             "outlinewidth": 0,
             "ticks": ""
            },
            "colorscale": [
             [
              0,
              "#0d0887"
             ],
             [
              0.1111111111111111,
              "#46039f"
             ],
             [
              0.2222222222222222,
              "#7201a8"
             ],
             [
              0.3333333333333333,
              "#9c179e"
             ],
             [
              0.4444444444444444,
              "#bd3786"
             ],
             [
              0.5555555555555556,
              "#d8576b"
             ],
             [
              0.6666666666666666,
              "#ed7953"
             ],
             [
              0.7777777777777778,
              "#fb9f3a"
             ],
             [
              0.8888888888888888,
              "#fdca26"
             ],
             [
              1,
              "#f0f921"
             ]
            ],
            "type": "heatmapgl"
           }
          ],
          "histogram": [
           {
            "marker": {
             "pattern": {
              "fillmode": "overlay",
              "size": 10,
              "solidity": 0.2
             }
            },
            "type": "histogram"
           }
          ],
          "histogram2d": [
           {
            "colorbar": {
             "outlinewidth": 0,
             "ticks": ""
            },
            "colorscale": [
             [
              0,
              "#0d0887"
             ],
             [
              0.1111111111111111,
              "#46039f"
             ],
             [
              0.2222222222222222,
              "#7201a8"
             ],
             [
              0.3333333333333333,
              "#9c179e"
             ],
             [
              0.4444444444444444,
              "#bd3786"
             ],
             [
              0.5555555555555556,
              "#d8576b"
             ],
             [
              0.6666666666666666,
              "#ed7953"
             ],
             [
              0.7777777777777778,
              "#fb9f3a"
             ],
             [
              0.8888888888888888,
              "#fdca26"
             ],
             [
              1,
              "#f0f921"
             ]
            ],
            "type": "histogram2d"
           }
          ],
          "histogram2dcontour": [
           {
            "colorbar": {
             "outlinewidth": 0,
             "ticks": ""
            },
            "colorscale": [
             [
              0,
              "#0d0887"
             ],
             [
              0.1111111111111111,
              "#46039f"
             ],
             [
              0.2222222222222222,
              "#7201a8"
             ],
             [
              0.3333333333333333,
              "#9c179e"
             ],
             [
              0.4444444444444444,
              "#bd3786"
             ],
             [
              0.5555555555555556,
              "#d8576b"
             ],
             [
              0.6666666666666666,
              "#ed7953"
             ],
             [
              0.7777777777777778,
              "#fb9f3a"
             ],
             [
              0.8888888888888888,
              "#fdca26"
             ],
             [
              1,
              "#f0f921"
             ]
            ],
            "type": "histogram2dcontour"
           }
          ],
          "mesh3d": [
           {
            "colorbar": {
             "outlinewidth": 0,
             "ticks": ""
            },
            "type": "mesh3d"
           }
          ],
          "parcoords": [
           {
            "line": {
             "colorbar": {
              "outlinewidth": 0,
              "ticks": ""
             }
            },
            "type": "parcoords"
           }
          ],
          "pie": [
           {
            "automargin": true,
            "type": "pie"
           }
          ],
          "scatter": [
           {
            "marker": {
             "colorbar": {
              "outlinewidth": 0,
              "ticks": ""
             }
            },
            "type": "scatter"
           }
          ],
          "scatter3d": [
           {
            "line": {
             "colorbar": {
              "outlinewidth": 0,
              "ticks": ""
             }
            },
            "marker": {
             "colorbar": {
              "outlinewidth": 0,
              "ticks": ""
             }
            },
            "type": "scatter3d"
           }
          ],
          "scattercarpet": [
           {
            "marker": {
             "colorbar": {
              "outlinewidth": 0,
              "ticks": ""
             }
            },
            "type": "scattercarpet"
           }
          ],
          "scattergeo": [
           {
            "marker": {
             "colorbar": {
              "outlinewidth": 0,
              "ticks": ""
             }
            },
            "type": "scattergeo"
           }
          ],
          "scattergl": [
           {
            "marker": {
             "colorbar": {
              "outlinewidth": 0,
              "ticks": ""
             }
            },
            "type": "scattergl"
           }
          ],
          "scattermapbox": [
           {
            "marker": {
             "colorbar": {
              "outlinewidth": 0,
              "ticks": ""
             }
            },
            "type": "scattermapbox"
           }
          ],
          "scatterpolar": [
           {
            "marker": {
             "colorbar": {
              "outlinewidth": 0,
              "ticks": ""
             }
            },
            "type": "scatterpolar"
           }
          ],
          "scatterpolargl": [
           {
            "marker": {
             "colorbar": {
              "outlinewidth": 0,
              "ticks": ""
             }
            },
            "type": "scatterpolargl"
           }
          ],
          "scatterternary": [
           {
            "marker": {
             "colorbar": {
              "outlinewidth": 0,
              "ticks": ""
             }
            },
            "type": "scatterternary"
           }
          ],
          "surface": [
           {
            "colorbar": {
             "outlinewidth": 0,
             "ticks": ""
            },
            "colorscale": [
             [
              0,
              "#0d0887"
             ],
             [
              0.1111111111111111,
              "#46039f"
             ],
             [
              0.2222222222222222,
              "#7201a8"
             ],
             [
              0.3333333333333333,
              "#9c179e"
             ],
             [
              0.4444444444444444,
              "#bd3786"
             ],
             [
              0.5555555555555556,
              "#d8576b"
             ],
             [
              0.6666666666666666,
              "#ed7953"
             ],
             [
              0.7777777777777778,
              "#fb9f3a"
             ],
             [
              0.8888888888888888,
              "#fdca26"
             ],
             [
              1,
              "#f0f921"
             ]
            ],
            "type": "surface"
           }
          ],
          "table": [
           {
            "cells": {
             "fill": {
              "color": "#EBF0F8"
             },
             "line": {
              "color": "white"
             }
            },
            "header": {
             "fill": {
              "color": "#C8D4E3"
             },
             "line": {
              "color": "white"
             }
            },
            "type": "table"
           }
          ]
         },
         "layout": {
          "annotationdefaults": {
           "arrowcolor": "#2a3f5f",
           "arrowhead": 0,
           "arrowwidth": 1
          },
          "autotypenumbers": "strict",
          "coloraxis": {
           "colorbar": {
            "outlinewidth": 0,
            "ticks": ""
           }
          },
          "colorscale": {
           "diverging": [
            [
             0,
             "#8e0152"
            ],
            [
             0.1,
             "#c51b7d"
            ],
            [
             0.2,
             "#de77ae"
            ],
            [
             0.3,
             "#f1b6da"
            ],
            [
             0.4,
             "#fde0ef"
            ],
            [
             0.5,
             "#f7f7f7"
            ],
            [
             0.6,
             "#e6f5d0"
            ],
            [
             0.7,
             "#b8e186"
            ],
            [
             0.8,
             "#7fbc41"
            ],
            [
             0.9,
             "#4d9221"
            ],
            [
             1,
             "#276419"
            ]
           ],
           "sequential": [
            [
             0,
             "#0d0887"
            ],
            [
             0.1111111111111111,
             "#46039f"
            ],
            [
             0.2222222222222222,
             "#7201a8"
            ],
            [
             0.3333333333333333,
             "#9c179e"
            ],
            [
             0.4444444444444444,
             "#bd3786"
            ],
            [
             0.5555555555555556,
             "#d8576b"
            ],
            [
             0.6666666666666666,
             "#ed7953"
            ],
            [
             0.7777777777777778,
             "#fb9f3a"
            ],
            [
             0.8888888888888888,
             "#fdca26"
            ],
            [
             1,
             "#f0f921"
            ]
           ],
           "sequentialminus": [
            [
             0,
             "#0d0887"
            ],
            [
             0.1111111111111111,
             "#46039f"
            ],
            [
             0.2222222222222222,
             "#7201a8"
            ],
            [
             0.3333333333333333,
             "#9c179e"
            ],
            [
             0.4444444444444444,
             "#bd3786"
            ],
            [
             0.5555555555555556,
             "#d8576b"
            ],
            [
             0.6666666666666666,
             "#ed7953"
            ],
            [
             0.7777777777777778,
             "#fb9f3a"
            ],
            [
             0.8888888888888888,
             "#fdca26"
            ],
            [
             1,
             "#f0f921"
            ]
           ]
          },
          "colorway": [
           "#636efa",
           "#EF553B",
           "#00cc96",
           "#ab63fa",
           "#FFA15A",
           "#19d3f3",
           "#FF6692",
           "#B6E880",
           "#FF97FF",
           "#FECB52"
          ],
          "font": {
           "color": "#2a3f5f"
          },
          "geo": {
           "bgcolor": "white",
           "lakecolor": "white",
           "landcolor": "#E5ECF6",
           "showlakes": true,
           "showland": true,
           "subunitcolor": "white"
          },
          "hoverlabel": {
           "align": "left"
          },
          "hovermode": "closest",
          "mapbox": {
           "style": "light"
          },
          "paper_bgcolor": "white",
          "plot_bgcolor": "#E5ECF6",
          "polar": {
           "angularaxis": {
            "gridcolor": "white",
            "linecolor": "white",
            "ticks": ""
           },
           "bgcolor": "#E5ECF6",
           "radialaxis": {
            "gridcolor": "white",
            "linecolor": "white",
            "ticks": ""
           }
          },
          "scene": {
           "xaxis": {
            "backgroundcolor": "#E5ECF6",
            "gridcolor": "white",
            "gridwidth": 2,
            "linecolor": "white",
            "showbackground": true,
            "ticks": "",
            "zerolinecolor": "white"
           },
           "yaxis": {
            "backgroundcolor": "#E5ECF6",
            "gridcolor": "white",
            "gridwidth": 2,
            "linecolor": "white",
            "showbackground": true,
            "ticks": "",
            "zerolinecolor": "white"
           },
           "zaxis": {
            "backgroundcolor": "#E5ECF6",
            "gridcolor": "white",
            "gridwidth": 2,
            "linecolor": "white",
            "showbackground": true,
            "ticks": "",
            "zerolinecolor": "white"
           }
          },
          "shapedefaults": {
           "line": {
            "color": "#2a3f5f"
           }
          },
          "ternary": {
           "aaxis": {
            "gridcolor": "white",
            "linecolor": "white",
            "ticks": ""
           },
           "baxis": {
            "gridcolor": "white",
            "linecolor": "white",
            "ticks": ""
           },
           "bgcolor": "#E5ECF6",
           "caxis": {
            "gridcolor": "white",
            "linecolor": "white",
            "ticks": ""
           }
          },
          "title": {
           "x": 0.05
          },
          "xaxis": {
           "automargin": true,
           "gridcolor": "white",
           "linecolor": "white",
           "ticks": "",
           "title": {
            "standoff": 15
           },
           "zerolinecolor": "white",
           "zerolinewidth": 2
          },
          "yaxis": {
           "automargin": true,
           "gridcolor": "white",
           "linecolor": "white",
           "ticks": "",
           "title": {
            "standoff": 15
           },
           "zerolinecolor": "white",
           "zerolinewidth": 2
          }
         }
        }
       }
      },
      "text/html": [
       "<div>                            <div id=\"6fede27d-7fd7-4da8-a1a6-b2f246bfe1b2\" class=\"plotly-graph-div\" style=\"height:525px; width:100%;\"></div>            <script type=\"text/javascript\">                require([\"plotly\"], function(Plotly) {                    window.PLOTLYENV=window.PLOTLYENV || {};                                    if (document.getElementById(\"6fede27d-7fd7-4da8-a1a6-b2f246bfe1b2\")) {                    Plotly.newPlot(                        \"6fede27d-7fd7-4da8-a1a6-b2f246bfe1b2\",                        [],                        {\"coloraxis\":{\"colorbar\":{\"title\":{\"text\":\"lifeExp\"}},\"colorscale\":[[0.0,\"#0d0887\"],[0.1111111111111111,\"#46039f\"],[0.2222222222222222,\"#7201a8\"],[0.3333333333333333,\"#9c179e\"],[0.4444444444444444,\"#bd3786\"],[0.5555555555555556,\"#d8576b\"],[0.6666666666666666,\"#ed7953\"],[0.7777777777777778,\"#fb9f3a\"],[0.8888888888888888,\"#fdca26\"],[1.0,\"#f0f921\"]]},\"legend\":{\"tracegroupgap\":0},\"margin\":{\"t\":60},\"template\":{\"data\":{\"bar\":[{\"error_x\":{\"color\":\"#2a3f5f\"},\"error_y\":{\"color\":\"#2a3f5f\"},\"marker\":{\"line\":{\"color\":\"#E5ECF6\",\"width\":0.5},\"pattern\":{\"fillmode\":\"overlay\",\"size\":10,\"solidity\":0.2}},\"type\":\"bar\"}],\"barpolar\":[{\"marker\":{\"line\":{\"color\":\"#E5ECF6\",\"width\":0.5},\"pattern\":{\"fillmode\":\"overlay\",\"size\":10,\"solidity\":0.2}},\"type\":\"barpolar\"}],\"carpet\":[{\"aaxis\":{\"endlinecolor\":\"#2a3f5f\",\"gridcolor\":\"white\",\"linecolor\":\"white\",\"minorgridcolor\":\"white\",\"startlinecolor\":\"#2a3f5f\"},\"baxis\":{\"endlinecolor\":\"#2a3f5f\",\"gridcolor\":\"white\",\"linecolor\":\"white\",\"minorgridcolor\":\"white\",\"startlinecolor\":\"#2a3f5f\"},\"type\":\"carpet\"}],\"choropleth\":[{\"colorbar\":{\"outlinewidth\":0,\"ticks\":\"\"},\"type\":\"choropleth\"}],\"contour\":[{\"colorbar\":{\"outlinewidth\":0,\"ticks\":\"\"},\"colorscale\":[[0.0,\"#0d0887\"],[0.1111111111111111,\"#46039f\"],[0.2222222222222222,\"#7201a8\"],[0.3333333333333333,\"#9c179e\"],[0.4444444444444444,\"#bd3786\"],[0.5555555555555556,\"#d8576b\"],[0.6666666666666666,\"#ed7953\"],[0.7777777777777778,\"#fb9f3a\"],[0.8888888888888888,\"#fdca26\"],[1.0,\"#f0f921\"]],\"type\":\"contour\"}],\"contourcarpet\":[{\"colorbar\":{\"outlinewidth\":0,\"ticks\":\"\"},\"type\":\"contourcarpet\"}],\"heatmap\":[{\"colorbar\":{\"outlinewidth\":0,\"ticks\":\"\"},\"colorscale\":[[0.0,\"#0d0887\"],[0.1111111111111111,\"#46039f\"],[0.2222222222222222,\"#7201a8\"],[0.3333333333333333,\"#9c179e\"],[0.4444444444444444,\"#bd3786\"],[0.5555555555555556,\"#d8576b\"],[0.6666666666666666,\"#ed7953\"],[0.7777777777777778,\"#fb9f3a\"],[0.8888888888888888,\"#fdca26\"],[1.0,\"#f0f921\"]],\"type\":\"heatmap\"}],\"heatmapgl\":[{\"colorbar\":{\"outlinewidth\":0,\"ticks\":\"\"},\"colorscale\":[[0.0,\"#0d0887\"],[0.1111111111111111,\"#46039f\"],[0.2222222222222222,\"#7201a8\"],[0.3333333333333333,\"#9c179e\"],[0.4444444444444444,\"#bd3786\"],[0.5555555555555556,\"#d8576b\"],[0.6666666666666666,\"#ed7953\"],[0.7777777777777778,\"#fb9f3a\"],[0.8888888888888888,\"#fdca26\"],[1.0,\"#f0f921\"]],\"type\":\"heatmapgl\"}],\"histogram\":[{\"marker\":{\"pattern\":{\"fillmode\":\"overlay\",\"size\":10,\"solidity\":0.2}},\"type\":\"histogram\"}],\"histogram2d\":[{\"colorbar\":{\"outlinewidth\":0,\"ticks\":\"\"},\"colorscale\":[[0.0,\"#0d0887\"],[0.1111111111111111,\"#46039f\"],[0.2222222222222222,\"#7201a8\"],[0.3333333333333333,\"#9c179e\"],[0.4444444444444444,\"#bd3786\"],[0.5555555555555556,\"#d8576b\"],[0.6666666666666666,\"#ed7953\"],[0.7777777777777778,\"#fb9f3a\"],[0.8888888888888888,\"#fdca26\"],[1.0,\"#f0f921\"]],\"type\":\"histogram2d\"}],\"histogram2dcontour\":[{\"colorbar\":{\"outlinewidth\":0,\"ticks\":\"\"},\"colorscale\":[[0.0,\"#0d0887\"],[0.1111111111111111,\"#46039f\"],[0.2222222222222222,\"#7201a8\"],[0.3333333333333333,\"#9c179e\"],[0.4444444444444444,\"#bd3786\"],[0.5555555555555556,\"#d8576b\"],[0.6666666666666666,\"#ed7953\"],[0.7777777777777778,\"#fb9f3a\"],[0.8888888888888888,\"#fdca26\"],[1.0,\"#f0f921\"]],\"type\":\"histogram2dcontour\"}],\"mesh3d\":[{\"colorbar\":{\"outlinewidth\":0,\"ticks\":\"\"},\"type\":\"mesh3d\"}],\"parcoords\":[{\"line\":{\"colorbar\":{\"outlinewidth\":0,\"ticks\":\"\"}},\"type\":\"parcoords\"}],\"pie\":[{\"automargin\":true,\"type\":\"pie\"}],\"scatter\":[{\"marker\":{\"colorbar\":{\"outlinewidth\":0,\"ticks\":\"\"}},\"type\":\"scatter\"}],\"scatter3d\":[{\"line\":{\"colorbar\":{\"outlinewidth\":0,\"ticks\":\"\"}},\"marker\":{\"colorbar\":{\"outlinewidth\":0,\"ticks\":\"\"}},\"type\":\"scatter3d\"}],\"scattercarpet\":[{\"marker\":{\"colorbar\":{\"outlinewidth\":0,\"ticks\":\"\"}},\"type\":\"scattercarpet\"}],\"scattergeo\":[{\"marker\":{\"colorbar\":{\"outlinewidth\":0,\"ticks\":\"\"}},\"type\":\"scattergeo\"}],\"scattergl\":[{\"marker\":{\"colorbar\":{\"outlinewidth\":0,\"ticks\":\"\"}},\"type\":\"scattergl\"}],\"scattermapbox\":[{\"marker\":{\"colorbar\":{\"outlinewidth\":0,\"ticks\":\"\"}},\"type\":\"scattermapbox\"}],\"scatterpolar\":[{\"marker\":{\"colorbar\":{\"outlinewidth\":0,\"ticks\":\"\"}},\"type\":\"scatterpolar\"}],\"scatterpolargl\":[{\"marker\":{\"colorbar\":{\"outlinewidth\":0,\"ticks\":\"\"}},\"type\":\"scatterpolargl\"}],\"scatterternary\":[{\"marker\":{\"colorbar\":{\"outlinewidth\":0,\"ticks\":\"\"}},\"type\":\"scatterternary\"}],\"surface\":[{\"colorbar\":{\"outlinewidth\":0,\"ticks\":\"\"},\"colorscale\":[[0.0,\"#0d0887\"],[0.1111111111111111,\"#46039f\"],[0.2222222222222222,\"#7201a8\"],[0.3333333333333333,\"#9c179e\"],[0.4444444444444444,\"#bd3786\"],[0.5555555555555556,\"#d8576b\"],[0.6666666666666666,\"#ed7953\"],[0.7777777777777778,\"#fb9f3a\"],[0.8888888888888888,\"#fdca26\"],[1.0,\"#f0f921\"]],\"type\":\"surface\"}],\"table\":[{\"cells\":{\"fill\":{\"color\":\"#EBF0F8\"},\"line\":{\"color\":\"white\"}},\"header\":{\"fill\":{\"color\":\"#C8D4E3\"},\"line\":{\"color\":\"white\"}},\"type\":\"table\"}]},\"layout\":{\"annotationdefaults\":{\"arrowcolor\":\"#2a3f5f\",\"arrowhead\":0,\"arrowwidth\":1},\"autotypenumbers\":\"strict\",\"coloraxis\":{\"colorbar\":{\"outlinewidth\":0,\"ticks\":\"\"}},\"colorscale\":{\"diverging\":[[0,\"#8e0152\"],[0.1,\"#c51b7d\"],[0.2,\"#de77ae\"],[0.3,\"#f1b6da\"],[0.4,\"#fde0ef\"],[0.5,\"#f7f7f7\"],[0.6,\"#e6f5d0\"],[0.7,\"#b8e186\"],[0.8,\"#7fbc41\"],[0.9,\"#4d9221\"],[1,\"#276419\"]],\"sequential\":[[0.0,\"#0d0887\"],[0.1111111111111111,\"#46039f\"],[0.2222222222222222,\"#7201a8\"],[0.3333333333333333,\"#9c179e\"],[0.4444444444444444,\"#bd3786\"],[0.5555555555555556,\"#d8576b\"],[0.6666666666666666,\"#ed7953\"],[0.7777777777777778,\"#fb9f3a\"],[0.8888888888888888,\"#fdca26\"],[1.0,\"#f0f921\"]],\"sequentialminus\":[[0.0,\"#0d0887\"],[0.1111111111111111,\"#46039f\"],[0.2222222222222222,\"#7201a8\"],[0.3333333333333333,\"#9c179e\"],[0.4444444444444444,\"#bd3786\"],[0.5555555555555556,\"#d8576b\"],[0.6666666666666666,\"#ed7953\"],[0.7777777777777778,\"#fb9f3a\"],[0.8888888888888888,\"#fdca26\"],[1.0,\"#f0f921\"]]},\"colorway\":[\"#636efa\",\"#EF553B\",\"#00cc96\",\"#ab63fa\",\"#FFA15A\",\"#19d3f3\",\"#FF6692\",\"#B6E880\",\"#FF97FF\",\"#FECB52\"],\"font\":{\"color\":\"#2a3f5f\"},\"geo\":{\"bgcolor\":\"white\",\"lakecolor\":\"white\",\"landcolor\":\"#E5ECF6\",\"showlakes\":true,\"showland\":true,\"subunitcolor\":\"white\"},\"hoverlabel\":{\"align\":\"left\"},\"hovermode\":\"closest\",\"mapbox\":{\"style\":\"light\"},\"paper_bgcolor\":\"white\",\"plot_bgcolor\":\"#E5ECF6\",\"polar\":{\"angularaxis\":{\"gridcolor\":\"white\",\"linecolor\":\"white\",\"ticks\":\"\"},\"bgcolor\":\"#E5ECF6\",\"radialaxis\":{\"gridcolor\":\"white\",\"linecolor\":\"white\",\"ticks\":\"\"}},\"scene\":{\"xaxis\":{\"backgroundcolor\":\"#E5ECF6\",\"gridcolor\":\"white\",\"gridwidth\":2,\"linecolor\":\"white\",\"showbackground\":true,\"ticks\":\"\",\"zerolinecolor\":\"white\"},\"yaxis\":{\"backgroundcolor\":\"#E5ECF6\",\"gridcolor\":\"white\",\"gridwidth\":2,\"linecolor\":\"white\",\"showbackground\":true,\"ticks\":\"\",\"zerolinecolor\":\"white\"},\"zaxis\":{\"backgroundcolor\":\"#E5ECF6\",\"gridcolor\":\"white\",\"gridwidth\":2,\"linecolor\":\"white\",\"showbackground\":true,\"ticks\":\"\",\"zerolinecolor\":\"white\"}},\"shapedefaults\":{\"line\":{\"color\":\"#2a3f5f\"}},\"ternary\":{\"aaxis\":{\"gridcolor\":\"white\",\"linecolor\":\"white\",\"ticks\":\"\"},\"baxis\":{\"gridcolor\":\"white\",\"linecolor\":\"white\",\"ticks\":\"\"},\"bgcolor\":\"#E5ECF6\",\"caxis\":{\"gridcolor\":\"white\",\"linecolor\":\"white\",\"ticks\":\"\"}},\"title\":{\"x\":0.05},\"xaxis\":{\"automargin\":true,\"gridcolor\":\"white\",\"linecolor\":\"white\",\"ticks\":\"\",\"title\":{\"standoff\":15},\"zerolinecolor\":\"white\",\"zerolinewidth\":2},\"yaxis\":{\"automargin\":true,\"gridcolor\":\"white\",\"linecolor\":\"white\",\"ticks\":\"\",\"title\":{\"standoff\":15},\"zerolinecolor\":\"white\",\"zerolinewidth\":2}}}},                        {\"responsive\": true}                    ).then(function(){\n",
       "                            \n",
       "var gd = document.getElementById('6fede27d-7fd7-4da8-a1a6-b2f246bfe1b2');\n",
       "var x = new MutationObserver(function (mutations, observer) {{\n",
       "        var display = window.getComputedStyle(gd).display;\n",
       "        if (!display || display === 'none') {{\n",
       "            console.log([gd, 'removed!']);\n",
       "            Plotly.purge(gd);\n",
       "            observer.disconnect();\n",
       "        }}\n",
       "}});\n",
       "\n",
       "// Listen for the removal of the full notebook cells\n",
       "var notebookContainer = gd.closest('#notebook-container');\n",
       "if (notebookContainer) {{\n",
       "    x.observe(notebookContainer, {childList: true});\n",
       "}}\n",
       "\n",
       "// Listen for the clearing of the current output cell\n",
       "var outputEl = gd.closest('.output');\n",
       "if (outputEl) {{\n",
       "    x.observe(outputEl, {childList: true});\n",
       "}}\n",
       "\n",
       "                        })                };                });            </script>        </div>"
      ]
     },
     "metadata": {},
     "output_type": "display_data"
    }
   ],
   "source": [
    "import plotly.express as px\n",
    "\n",
    "df = px.data.gapminder().query(\"year == 2005\")\n",
    "fig = px.sunburst(df, path=['continent', 'country'], values='pop',\n",
    "                  color='lifeExp', hover_data=['iso_alpha'])\n",
    "fig.show()"
   ]
  },
  {
   "cell_type": "code",
   "execution_count": null,
   "id": "bc51f547",
   "metadata": {},
   "outputs": [],
   "source": []
  }
 ],
 "metadata": {
  "kernelspec": {
   "display_name": "Python 3 (ipykernel)",
   "language": "python",
   "name": "python3"
  },
  "language_info": {
   "codemirror_mode": {
    "name": "ipython",
    "version": 3
   },
   "file_extension": ".py",
   "mimetype": "text/x-python",
   "name": "python",
   "nbconvert_exporter": "python",
   "pygments_lexer": "ipython3",
   "version": "3.8.8"
  }
 },
 "nbformat": 4,
 "nbformat_minor": 5
}
