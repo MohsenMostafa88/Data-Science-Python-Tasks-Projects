{
 "cells": [
  {
   "cell_type": "markdown",
   "id": "87e95385",
   "metadata": {},
   "source": [
    "### Import Necessary Libraries"
   ]
  },
  {
   "cell_type": "code",
   "execution_count": 1,
   "id": "72ad7d81",
   "metadata": {
    "execution": {
     "iopub.execute_input": "2023-05-10T13:28:58.548867Z",
     "iopub.status.busy": "2023-05-10T13:28:58.548460Z",
     "iopub.status.idle": "2023-05-10T13:29:00.075265Z",
     "shell.execute_reply": "2023-05-10T13:29:00.074317Z"
    },
    "papermill": {
     "duration": 1.539616,
     "end_time": "2023-05-10T13:29:00.078030",
     "exception": false,
     "start_time": "2023-05-10T13:28:58.538414",
     "status": "completed"
    },
    "tags": []
   },
   "outputs": [],
   "source": [
    "import pandas as pd\n",
    "import matplotlib.pyplot as plt\n",
    "import seaborn as sns\n",
    "import plotly.express as px\n",
    "%matplotlib inline"
   ]
  },
  {
   "cell_type": "code",
   "execution_count": 2,
   "id": "79c2d2a2",
   "metadata": {
    "execution": {
     "iopub.execute_input": "2023-05-10T13:29:00.092662Z",
     "iopub.status.busy": "2023-05-10T13:29:00.092352Z",
     "iopub.status.idle": "2023-05-10T13:29:03.588645Z",
     "shell.execute_reply": "2023-05-10T13:29:03.587660Z"
    },
    "papermill": {
     "duration": 3.506215,
     "end_time": "2023-05-10T13:29:03.591074",
     "exception": false,
     "start_time": "2023-05-10T13:29:00.084859",
     "status": "completed"
    },
    "tags": []
   },
   "outputs": [
    {
     "name": "stderr",
     "output_type": "stream",
     "text": [
      "/tmp/ipykernel_161510/3733755785.py:1: DtypeWarning: Columns (8,9,10,11,12) have mixed types. Specify dtype option on import or set low_memory=False.\n",
      "  df = pd.read_csv('Real_Estate_Sales_2001-2020_GL.csv')\n"
     ]
    },
    {
     "data": {
      "text/html": [
       "<div>\n",
       "<style scoped>\n",
       "    .dataframe tbody tr th:only-of-type {\n",
       "        vertical-align: middle;\n",
       "    }\n",
       "\n",
       "    .dataframe tbody tr th {\n",
       "        vertical-align: top;\n",
       "    }\n",
       "\n",
       "    .dataframe thead th {\n",
       "        text-align: right;\n",
       "    }\n",
       "</style>\n",
       "<table border=\"1\" class=\"dataframe\">\n",
       "  <thead>\n",
       "    <tr style=\"text-align: right;\">\n",
       "      <th></th>\n",
       "      <th>Serial Number</th>\n",
       "      <th>List Year</th>\n",
       "      <th>Date Recorded</th>\n",
       "      <th>Town</th>\n",
       "      <th>Address</th>\n",
       "      <th>Assessed Value</th>\n",
       "      <th>Sale Amount</th>\n",
       "      <th>Sales Ratio</th>\n",
       "      <th>Property Type</th>\n",
       "      <th>Residential Type</th>\n",
       "      <th>Non Use Code</th>\n",
       "      <th>Assessor Remarks</th>\n",
       "      <th>OPM remarks</th>\n",
       "      <th>Location</th>\n",
       "    </tr>\n",
       "  </thead>\n",
       "  <tbody>\n",
       "    <tr>\n",
       "      <th>0</th>\n",
       "      <td>2020348</td>\n",
       "      <td>2020</td>\n",
       "      <td>09/13/2021</td>\n",
       "      <td>Ansonia</td>\n",
       "      <td>230 WAKELEE AVE</td>\n",
       "      <td>150500.0</td>\n",
       "      <td>325000.0</td>\n",
       "      <td>0.4630</td>\n",
       "      <td>Commercial</td>\n",
       "      <td>NaN</td>\n",
       "      <td>NaN</td>\n",
       "      <td>NaN</td>\n",
       "      <td>NaN</td>\n",
       "      <td>NaN</td>\n",
       "    </tr>\n",
       "    <tr>\n",
       "      <th>1</th>\n",
       "      <td>20002</td>\n",
       "      <td>2020</td>\n",
       "      <td>10/02/2020</td>\n",
       "      <td>Ashford</td>\n",
       "      <td>390 TURNPIKE RD</td>\n",
       "      <td>253000.0</td>\n",
       "      <td>430000.0</td>\n",
       "      <td>0.5883</td>\n",
       "      <td>Residential</td>\n",
       "      <td>Single Family</td>\n",
       "      <td>NaN</td>\n",
       "      <td>NaN</td>\n",
       "      <td>NaN</td>\n",
       "      <td>NaN</td>\n",
       "    </tr>\n",
       "    <tr>\n",
       "      <th>2</th>\n",
       "      <td>200212</td>\n",
       "      <td>2020</td>\n",
       "      <td>03/09/2021</td>\n",
       "      <td>Avon</td>\n",
       "      <td>5 CHESTNUT DRIVE</td>\n",
       "      <td>130400.0</td>\n",
       "      <td>179900.0</td>\n",
       "      <td>0.7248</td>\n",
       "      <td>Residential</td>\n",
       "      <td>Condo</td>\n",
       "      <td>NaN</td>\n",
       "      <td>NaN</td>\n",
       "      <td>NaN</td>\n",
       "      <td>NaN</td>\n",
       "    </tr>\n",
       "    <tr>\n",
       "      <th>3</th>\n",
       "      <td>200243</td>\n",
       "      <td>2020</td>\n",
       "      <td>04/13/2021</td>\n",
       "      <td>Avon</td>\n",
       "      <td>111 NORTHINGTON DRIVE</td>\n",
       "      <td>619290.0</td>\n",
       "      <td>890000.0</td>\n",
       "      <td>0.6958</td>\n",
       "      <td>Residential</td>\n",
       "      <td>Single Family</td>\n",
       "      <td>NaN</td>\n",
       "      <td>NaN</td>\n",
       "      <td>NaN</td>\n",
       "      <td>NaN</td>\n",
       "    </tr>\n",
       "    <tr>\n",
       "      <th>4</th>\n",
       "      <td>200377</td>\n",
       "      <td>2020</td>\n",
       "      <td>07/02/2021</td>\n",
       "      <td>Avon</td>\n",
       "      <td>70 FAR HILLS DRIVE</td>\n",
       "      <td>862330.0</td>\n",
       "      <td>1447500.0</td>\n",
       "      <td>0.5957</td>\n",
       "      <td>Residential</td>\n",
       "      <td>Single Family</td>\n",
       "      <td>NaN</td>\n",
       "      <td>NaN</td>\n",
       "      <td>NaN</td>\n",
       "      <td>NaN</td>\n",
       "    </tr>\n",
       "  </tbody>\n",
       "</table>\n",
       "</div>"
      ],
      "text/plain": [
       "   Serial Number  List Year Date Recorded     Town                Address   \n",
       "0        2020348       2020    09/13/2021  Ansonia        230 WAKELEE AVE  \\\n",
       "1          20002       2020    10/02/2020  Ashford        390 TURNPIKE RD   \n",
       "2         200212       2020    03/09/2021     Avon       5 CHESTNUT DRIVE   \n",
       "3         200243       2020    04/13/2021     Avon  111 NORTHINGTON DRIVE   \n",
       "4         200377       2020    07/02/2021     Avon     70 FAR HILLS DRIVE   \n",
       "\n",
       "   Assessed Value  Sale Amount  Sales Ratio Property Type Residential Type   \n",
       "0        150500.0     325000.0       0.4630    Commercial              NaN  \\\n",
       "1        253000.0     430000.0       0.5883   Residential    Single Family   \n",
       "2        130400.0     179900.0       0.7248   Residential            Condo   \n",
       "3        619290.0     890000.0       0.6958   Residential    Single Family   \n",
       "4        862330.0    1447500.0       0.5957   Residential    Single Family   \n",
       "\n",
       "  Non Use Code Assessor Remarks OPM remarks Location  \n",
       "0          NaN              NaN         NaN      NaN  \n",
       "1          NaN              NaN         NaN      NaN  \n",
       "2          NaN              NaN         NaN      NaN  \n",
       "3          NaN              NaN         NaN      NaN  \n",
       "4          NaN              NaN         NaN      NaN  "
      ]
     },
     "execution_count": 2,
     "metadata": {},
     "output_type": "execute_result"
    }
   ],
   "source": [
    "df = pd.read_csv('Real_Estate_Sales_2001-2020_GL.csv')\n",
    "df.head()"
   ]
  },
  {
   "cell_type": "code",
   "execution_count": 3,
   "id": "942178e4",
   "metadata": {
    "execution": {
     "iopub.execute_input": "2023-05-10T13:29:03.606056Z",
     "iopub.status.busy": "2023-05-10T13:29:03.605762Z",
     "iopub.status.idle": "2023-05-10T13:29:05.678836Z",
     "shell.execute_reply": "2023-05-10T13:29:05.677851Z"
    },
    "papermill": {
     "duration": 2.083309,
     "end_time": "2023-05-10T13:29:05.681242",
     "exception": false,
     "start_time": "2023-05-10T13:29:03.597933",
     "status": "completed"
    },
    "tags": []
   },
   "outputs": [
    {
     "name": "stdout",
     "output_type": "stream",
     "text": [
      "<class 'pandas.core.frame.DataFrame'>\n",
      "RangeIndex: 997213 entries, 0 to 997212\n",
      "Data columns (total 14 columns):\n",
      " #   Column            Non-Null Count   Dtype  \n",
      "---  ------            --------------   -----  \n",
      " 0   Serial Number     997213 non-null  int64  \n",
      " 1   List Year         997213 non-null  int64  \n",
      " 2   Date Recorded     997211 non-null  object \n",
      " 3   Town              997213 non-null  object \n",
      " 4   Address           997162 non-null  object \n",
      " 5   Assessed Value    997213 non-null  float64\n",
      " 6   Sale Amount       997213 non-null  float64\n",
      " 7   Sales Ratio       997213 non-null  float64\n",
      " 8   Property Type     614767 non-null  object \n",
      " 9   Residential Type  608904 non-null  object \n",
      " 10  Non Use Code      289681 non-null  object \n",
      " 11  Assessor Remarks  149864 non-null  object \n",
      " 12  OPM remarks       9934 non-null    object \n",
      " 13  Location          197697 non-null  object \n",
      "dtypes: float64(3), int64(2), object(9)\n",
      "memory usage: 106.5+ MB\n"
     ]
    }
   ],
   "source": [
    "df.info()"
   ]
  },
  {
   "cell_type": "code",
   "execution_count": 4,
   "id": "6ca5fa70",
   "metadata": {
    "execution": {
     "iopub.execute_input": "2023-05-10T13:29:05.696133Z",
     "iopub.status.busy": "2023-05-10T13:29:05.695838Z",
     "iopub.status.idle": "2023-05-10T13:29:05.866822Z",
     "shell.execute_reply": "2023-05-10T13:29:05.865870Z"
    },
    "papermill": {
     "duration": 0.181047,
     "end_time": "2023-05-10T13:29:05.869035",
     "exception": false,
     "start_time": "2023-05-10T13:29:05.687988",
     "status": "completed"
    },
    "tags": []
   },
   "outputs": [
    {
     "data": {
      "text/html": [
       "<div>\n",
       "<style scoped>\n",
       "    .dataframe tbody tr th:only-of-type {\n",
       "        vertical-align: middle;\n",
       "    }\n",
       "\n",
       "    .dataframe tbody tr th {\n",
       "        vertical-align: top;\n",
       "    }\n",
       "\n",
       "    .dataframe thead th {\n",
       "        text-align: right;\n",
       "    }\n",
       "</style>\n",
       "<table border=\"1\" class=\"dataframe\">\n",
       "  <thead>\n",
       "    <tr style=\"text-align: right;\">\n",
       "      <th></th>\n",
       "      <th>Serial Number</th>\n",
       "      <th>List Year</th>\n",
       "      <th>Assessed Value</th>\n",
       "      <th>Sale Amount</th>\n",
       "      <th>Sales Ratio</th>\n",
       "    </tr>\n",
       "  </thead>\n",
       "  <tbody>\n",
       "    <tr>\n",
       "      <th>count</th>\n",
       "      <td>9.972130e+05</td>\n",
       "      <td>997213.000000</td>\n",
       "      <td>9.972130e+05</td>\n",
       "      <td>9.972130e+05</td>\n",
       "      <td>9.972130e+05</td>\n",
       "    </tr>\n",
       "    <tr>\n",
       "      <th>mean</th>\n",
       "      <td>4.311864e+05</td>\n",
       "      <td>2010.189829</td>\n",
       "      <td>2.791437e+05</td>\n",
       "      <td>3.911512e+05</td>\n",
       "      <td>1.044637e+01</td>\n",
       "    </tr>\n",
       "    <tr>\n",
       "      <th>std</th>\n",
       "      <td>6.549219e+06</td>\n",
       "      <td>6.237877</td>\n",
       "      <td>1.670610e+06</td>\n",
       "      <td>5.347270e+06</td>\n",
       "      <td>1.890192e+03</td>\n",
       "    </tr>\n",
       "    <tr>\n",
       "      <th>min</th>\n",
       "      <td>0.000000e+00</td>\n",
       "      <td>2001.000000</td>\n",
       "      <td>0.000000e+00</td>\n",
       "      <td>0.000000e+00</td>\n",
       "      <td>0.000000e+00</td>\n",
       "    </tr>\n",
       "    <tr>\n",
       "      <th>25%</th>\n",
       "      <td>3.044400e+04</td>\n",
       "      <td>2004.000000</td>\n",
       "      <td>8.760000e+04</td>\n",
       "      <td>1.400000e+05</td>\n",
       "      <td>4.867000e-01</td>\n",
       "    </tr>\n",
       "    <tr>\n",
       "      <th>50%</th>\n",
       "      <td>7.030300e+04</td>\n",
       "      <td>2010.000000</td>\n",
       "      <td>1.383900e+05</td>\n",
       "      <td>2.250000e+05</td>\n",
       "      <td>6.246000e-01</td>\n",
       "    </tr>\n",
       "    <tr>\n",
       "      <th>75%</th>\n",
       "      <td>1.518780e+05</td>\n",
       "      <td>2016.000000</td>\n",
       "      <td>2.255600e+05</td>\n",
       "      <td>3.650000e+05</td>\n",
       "      <td>7.852761e-01</td>\n",
       "    </tr>\n",
       "    <tr>\n",
       "      <th>max</th>\n",
       "      <td>2.000500e+09</td>\n",
       "      <td>2020.000000</td>\n",
       "      <td>8.815100e+08</td>\n",
       "      <td>5.000000e+09</td>\n",
       "      <td>1.226420e+06</td>\n",
       "    </tr>\n",
       "  </tbody>\n",
       "</table>\n",
       "</div>"
      ],
      "text/plain": [
       "       Serial Number      List Year  Assessed Value   Sale Amount   \n",
       "count   9.972130e+05  997213.000000    9.972130e+05  9.972130e+05  \\\n",
       "mean    4.311864e+05    2010.189829    2.791437e+05  3.911512e+05   \n",
       "std     6.549219e+06       6.237877    1.670610e+06  5.347270e+06   \n",
       "min     0.000000e+00    2001.000000    0.000000e+00  0.000000e+00   \n",
       "25%     3.044400e+04    2004.000000    8.760000e+04  1.400000e+05   \n",
       "50%     7.030300e+04    2010.000000    1.383900e+05  2.250000e+05   \n",
       "75%     1.518780e+05    2016.000000    2.255600e+05  3.650000e+05   \n",
       "max     2.000500e+09    2020.000000    8.815100e+08  5.000000e+09   \n",
       "\n",
       "        Sales Ratio  \n",
       "count  9.972130e+05  \n",
       "mean   1.044637e+01  \n",
       "std    1.890192e+03  \n",
       "min    0.000000e+00  \n",
       "25%    4.867000e-01  \n",
       "50%    6.246000e-01  \n",
       "75%    7.852761e-01  \n",
       "max    1.226420e+06  "
      ]
     },
     "execution_count": 4,
     "metadata": {},
     "output_type": "execute_result"
    }
   ],
   "source": [
    "#for numerical data\n",
    "df.describe()"
   ]
  },
  {
   "cell_type": "code",
   "execution_count": 5,
   "id": "e4d67dc5",
   "metadata": {
    "execution": {
     "iopub.execute_input": "2023-05-10T13:29:05.885912Z",
     "iopub.status.busy": "2023-05-10T13:29:05.885222Z",
     "iopub.status.idle": "2023-05-10T13:29:07.912289Z",
     "shell.execute_reply": "2023-05-10T13:29:07.911384Z"
    },
    "papermill": {
     "duration": 2.039154,
     "end_time": "2023-05-10T13:29:07.915979",
     "exception": false,
     "start_time": "2023-05-10T13:29:05.876825",
     "status": "completed"
    },
    "tags": []
   },
   "outputs": [
    {
     "data": {
      "text/html": [
       "<div>\n",
       "<style scoped>\n",
       "    .dataframe tbody tr th:only-of-type {\n",
       "        vertical-align: middle;\n",
       "    }\n",
       "\n",
       "    .dataframe tbody tr th {\n",
       "        vertical-align: top;\n",
       "    }\n",
       "\n",
       "    .dataframe thead th {\n",
       "        text-align: right;\n",
       "    }\n",
       "</style>\n",
       "<table border=\"1\" class=\"dataframe\">\n",
       "  <thead>\n",
       "    <tr style=\"text-align: right;\">\n",
       "      <th></th>\n",
       "      <th>Serial Number</th>\n",
       "      <th>List Year</th>\n",
       "      <th>Date Recorded</th>\n",
       "      <th>Town</th>\n",
       "      <th>Address</th>\n",
       "      <th>Assessed Value</th>\n",
       "      <th>Sale Amount</th>\n",
       "      <th>Sales Ratio</th>\n",
       "      <th>Property Type</th>\n",
       "      <th>Residential Type</th>\n",
       "      <th>Non Use Code</th>\n",
       "      <th>Assessor Remarks</th>\n",
       "      <th>OPM remarks</th>\n",
       "      <th>Location</th>\n",
       "    </tr>\n",
       "  </thead>\n",
       "  <tbody>\n",
       "    <tr>\n",
       "      <th>count</th>\n",
       "      <td>9.972130e+05</td>\n",
       "      <td>997213.000000</td>\n",
       "      <td>997211</td>\n",
       "      <td>997213</td>\n",
       "      <td>997162</td>\n",
       "      <td>9.972130e+05</td>\n",
       "      <td>9.972130e+05</td>\n",
       "      <td>9.972130e+05</td>\n",
       "      <td>614767</td>\n",
       "      <td>608904</td>\n",
       "      <td>289681</td>\n",
       "      <td>149864</td>\n",
       "      <td>9934</td>\n",
       "      <td>197697</td>\n",
       "    </tr>\n",
       "    <tr>\n",
       "      <th>unique</th>\n",
       "      <td>NaN</td>\n",
       "      <td>NaN</td>\n",
       "      <td>6387</td>\n",
       "      <td>170</td>\n",
       "      <td>714371</td>\n",
       "      <td>NaN</td>\n",
       "      <td>NaN</td>\n",
       "      <td>NaN</td>\n",
       "      <td>11</td>\n",
       "      <td>5</td>\n",
       "      <td>106</td>\n",
       "      <td>66508</td>\n",
       "      <td>4825</td>\n",
       "      <td>130529</td>\n",
       "    </tr>\n",
       "    <tr>\n",
       "      <th>top</th>\n",
       "      <td>NaN</td>\n",
       "      <td>NaN</td>\n",
       "      <td>07/01/2005</td>\n",
       "      <td>Bridgeport</td>\n",
       "      <td>MULTI ADDRESSES</td>\n",
       "      <td>NaN</td>\n",
       "      <td>NaN</td>\n",
       "      <td>NaN</td>\n",
       "      <td>Single Family</td>\n",
       "      <td>Single Family</td>\n",
       "      <td>25 - Other</td>\n",
       "      <td>ESTATE SALE</td>\n",
       "      <td>GOOD SALE PER MLS</td>\n",
       "      <td>POINT (-72.36336 41.97461)</td>\n",
       "    </tr>\n",
       "    <tr>\n",
       "      <th>freq</th>\n",
       "      <td>NaN</td>\n",
       "      <td>NaN</td>\n",
       "      <td>877</td>\n",
       "      <td>34201</td>\n",
       "      <td>620</td>\n",
       "      <td>NaN</td>\n",
       "      <td>NaN</td>\n",
       "      <td>NaN</td>\n",
       "      <td>401612</td>\n",
       "      <td>445016</td>\n",
       "      <td>59916</td>\n",
       "      <td>5044</td>\n",
       "      <td>978</td>\n",
       "      <td>181</td>\n",
       "    </tr>\n",
       "    <tr>\n",
       "      <th>mean</th>\n",
       "      <td>4.311864e+05</td>\n",
       "      <td>2010.189829</td>\n",
       "      <td>NaN</td>\n",
       "      <td>NaN</td>\n",
       "      <td>NaN</td>\n",
       "      <td>2.791437e+05</td>\n",
       "      <td>3.911512e+05</td>\n",
       "      <td>1.044637e+01</td>\n",
       "      <td>NaN</td>\n",
       "      <td>NaN</td>\n",
       "      <td>NaN</td>\n",
       "      <td>NaN</td>\n",
       "      <td>NaN</td>\n",
       "      <td>NaN</td>\n",
       "    </tr>\n",
       "    <tr>\n",
       "      <th>std</th>\n",
       "      <td>6.549219e+06</td>\n",
       "      <td>6.237877</td>\n",
       "      <td>NaN</td>\n",
       "      <td>NaN</td>\n",
       "      <td>NaN</td>\n",
       "      <td>1.670610e+06</td>\n",
       "      <td>5.347270e+06</td>\n",
       "      <td>1.890192e+03</td>\n",
       "      <td>NaN</td>\n",
       "      <td>NaN</td>\n",
       "      <td>NaN</td>\n",
       "      <td>NaN</td>\n",
       "      <td>NaN</td>\n",
       "      <td>NaN</td>\n",
       "    </tr>\n",
       "    <tr>\n",
       "      <th>min</th>\n",
       "      <td>0.000000e+00</td>\n",
       "      <td>2001.000000</td>\n",
       "      <td>NaN</td>\n",
       "      <td>NaN</td>\n",
       "      <td>NaN</td>\n",
       "      <td>0.000000e+00</td>\n",
       "      <td>0.000000e+00</td>\n",
       "      <td>0.000000e+00</td>\n",
       "      <td>NaN</td>\n",
       "      <td>NaN</td>\n",
       "      <td>NaN</td>\n",
       "      <td>NaN</td>\n",
       "      <td>NaN</td>\n",
       "      <td>NaN</td>\n",
       "    </tr>\n",
       "    <tr>\n",
       "      <th>25%</th>\n",
       "      <td>3.044400e+04</td>\n",
       "      <td>2004.000000</td>\n",
       "      <td>NaN</td>\n",
       "      <td>NaN</td>\n",
       "      <td>NaN</td>\n",
       "      <td>8.760000e+04</td>\n",
       "      <td>1.400000e+05</td>\n",
       "      <td>4.867000e-01</td>\n",
       "      <td>NaN</td>\n",
       "      <td>NaN</td>\n",
       "      <td>NaN</td>\n",
       "      <td>NaN</td>\n",
       "      <td>NaN</td>\n",
       "      <td>NaN</td>\n",
       "    </tr>\n",
       "    <tr>\n",
       "      <th>50%</th>\n",
       "      <td>7.030300e+04</td>\n",
       "      <td>2010.000000</td>\n",
       "      <td>NaN</td>\n",
       "      <td>NaN</td>\n",
       "      <td>NaN</td>\n",
       "      <td>1.383900e+05</td>\n",
       "      <td>2.250000e+05</td>\n",
       "      <td>6.246000e-01</td>\n",
       "      <td>NaN</td>\n",
       "      <td>NaN</td>\n",
       "      <td>NaN</td>\n",
       "      <td>NaN</td>\n",
       "      <td>NaN</td>\n",
       "      <td>NaN</td>\n",
       "    </tr>\n",
       "    <tr>\n",
       "      <th>75%</th>\n",
       "      <td>1.518780e+05</td>\n",
       "      <td>2016.000000</td>\n",
       "      <td>NaN</td>\n",
       "      <td>NaN</td>\n",
       "      <td>NaN</td>\n",
       "      <td>2.255600e+05</td>\n",
       "      <td>3.650000e+05</td>\n",
       "      <td>7.852761e-01</td>\n",
       "      <td>NaN</td>\n",
       "      <td>NaN</td>\n",
       "      <td>NaN</td>\n",
       "      <td>NaN</td>\n",
       "      <td>NaN</td>\n",
       "      <td>NaN</td>\n",
       "    </tr>\n",
       "    <tr>\n",
       "      <th>max</th>\n",
       "      <td>2.000500e+09</td>\n",
       "      <td>2020.000000</td>\n",
       "      <td>NaN</td>\n",
       "      <td>NaN</td>\n",
       "      <td>NaN</td>\n",
       "      <td>8.815100e+08</td>\n",
       "      <td>5.000000e+09</td>\n",
       "      <td>1.226420e+06</td>\n",
       "      <td>NaN</td>\n",
       "      <td>NaN</td>\n",
       "      <td>NaN</td>\n",
       "      <td>NaN</td>\n",
       "      <td>NaN</td>\n",
       "      <td>NaN</td>\n",
       "    </tr>\n",
       "  </tbody>\n",
       "</table>\n",
       "</div>"
      ],
      "text/plain": [
       "        Serial Number      List Year Date Recorded        Town   \n",
       "count    9.972130e+05  997213.000000        997211      997213  \\\n",
       "unique            NaN            NaN          6387         170   \n",
       "top               NaN            NaN    07/01/2005  Bridgeport   \n",
       "freq              NaN            NaN           877       34201   \n",
       "mean     4.311864e+05    2010.189829           NaN         NaN   \n",
       "std      6.549219e+06       6.237877           NaN         NaN   \n",
       "min      0.000000e+00    2001.000000           NaN         NaN   \n",
       "25%      3.044400e+04    2004.000000           NaN         NaN   \n",
       "50%      7.030300e+04    2010.000000           NaN         NaN   \n",
       "75%      1.518780e+05    2016.000000           NaN         NaN   \n",
       "max      2.000500e+09    2020.000000           NaN         NaN   \n",
       "\n",
       "                Address  Assessed Value   Sale Amount   Sales Ratio   \n",
       "count            997162    9.972130e+05  9.972130e+05  9.972130e+05  \\\n",
       "unique           714371             NaN           NaN           NaN   \n",
       "top     MULTI ADDRESSES             NaN           NaN           NaN   \n",
       "freq                620             NaN           NaN           NaN   \n",
       "mean                NaN    2.791437e+05  3.911512e+05  1.044637e+01   \n",
       "std                 NaN    1.670610e+06  5.347270e+06  1.890192e+03   \n",
       "min                 NaN    0.000000e+00  0.000000e+00  0.000000e+00   \n",
       "25%                 NaN    8.760000e+04  1.400000e+05  4.867000e-01   \n",
       "50%                 NaN    1.383900e+05  2.250000e+05  6.246000e-01   \n",
       "75%                 NaN    2.255600e+05  3.650000e+05  7.852761e-01   \n",
       "max                 NaN    8.815100e+08  5.000000e+09  1.226420e+06   \n",
       "\n",
       "        Property Type Residential Type Non Use Code Assessor Remarks   \n",
       "count          614767           608904       289681           149864  \\\n",
       "unique             11                5          106            66508   \n",
       "top     Single Family    Single Family   25 - Other      ESTATE SALE   \n",
       "freq           401612           445016        59916             5044   \n",
       "mean              NaN              NaN          NaN              NaN   \n",
       "std               NaN              NaN          NaN              NaN   \n",
       "min               NaN              NaN          NaN              NaN   \n",
       "25%               NaN              NaN          NaN              NaN   \n",
       "50%               NaN              NaN          NaN              NaN   \n",
       "75%               NaN              NaN          NaN              NaN   \n",
       "max               NaN              NaN          NaN              NaN   \n",
       "\n",
       "              OPM remarks                    Location  \n",
       "count                9934                      197697  \n",
       "unique               4825                      130529  \n",
       "top     GOOD SALE PER MLS  POINT (-72.36336 41.97461)  \n",
       "freq                  978                         181  \n",
       "mean                  NaN                         NaN  \n",
       "std                   NaN                         NaN  \n",
       "min                   NaN                         NaN  \n",
       "25%                   NaN                         NaN  \n",
       "50%                   NaN                         NaN  \n",
       "75%                   NaN                         NaN  \n",
       "max                   NaN                         NaN  "
      ]
     },
     "execution_count": 5,
     "metadata": {},
     "output_type": "execute_result"
    }
   ],
   "source": [
    "#for categorical data\n",
    "df.describe(include='all')"
   ]
  },
  {
   "cell_type": "code",
   "execution_count": 6,
   "id": "1e490e13",
   "metadata": {
    "execution": {
     "iopub.execute_input": "2023-05-10T13:29:07.945817Z",
     "iopub.status.busy": "2023-05-10T13:29:07.945442Z",
     "iopub.status.idle": "2023-05-10T13:29:08.008620Z",
     "shell.execute_reply": "2023-05-10T13:29:08.005940Z"
    },
    "papermill": {
     "duration": 0.080848,
     "end_time": "2023-05-10T13:29:08.011828",
     "exception": false,
     "start_time": "2023-05-10T13:29:07.930980",
     "status": "completed"
    },
    "tags": []
   },
   "outputs": [
    {
     "data": {
      "text/html": [
       "<div>\n",
       "<style scoped>\n",
       "    .dataframe tbody tr th:only-of-type {\n",
       "        vertical-align: middle;\n",
       "    }\n",
       "\n",
       "    .dataframe tbody tr th {\n",
       "        vertical-align: top;\n",
       "    }\n",
       "\n",
       "    .dataframe thead th {\n",
       "        text-align: right;\n",
       "    }\n",
       "</style>\n",
       "<table border=\"1\" class=\"dataframe\">\n",
       "  <thead>\n",
       "    <tr style=\"text-align: right;\">\n",
       "      <th></th>\n",
       "      <th>Serial Number</th>\n",
       "      <th>List Year</th>\n",
       "      <th>Date Recorded</th>\n",
       "      <th>Town</th>\n",
       "      <th>Address</th>\n",
       "      <th>Assessed Value</th>\n",
       "      <th>Sale Amount</th>\n",
       "      <th>Sales Ratio</th>\n",
       "      <th>Property Type</th>\n",
       "      <th>Residential Type</th>\n",
       "      <th>Non Use Code</th>\n",
       "      <th>Assessor Remarks</th>\n",
       "      <th>OPM remarks</th>\n",
       "      <th>Location</th>\n",
       "    </tr>\n",
       "  </thead>\n",
       "  <tbody>\n",
       "    <tr>\n",
       "      <th>318255</th>\n",
       "      <td>40095</td>\n",
       "      <td>2004</td>\n",
       "      <td>11/03/2004</td>\n",
       "      <td>Naugatuck</td>\n",
       "      <td>38 2D ANN ST</td>\n",
       "      <td>53860.0</td>\n",
       "      <td>110725.0</td>\n",
       "      <td>0.486430</td>\n",
       "      <td>NaN</td>\n",
       "      <td>NaN</td>\n",
       "      <td>NaN</td>\n",
       "      <td>NaN</td>\n",
       "      <td>NaN</td>\n",
       "      <td>NaN</td>\n",
       "    </tr>\n",
       "    <tr>\n",
       "      <th>103907</th>\n",
       "      <td>10691</td>\n",
       "      <td>2001</td>\n",
       "      <td>05/13/2002</td>\n",
       "      <td>New Britain</td>\n",
       "      <td>289 CHERRY ST</td>\n",
       "      <td>42500.0</td>\n",
       "      <td>109000.0</td>\n",
       "      <td>0.389908</td>\n",
       "      <td>NaN</td>\n",
       "      <td>NaN</td>\n",
       "      <td>NaN</td>\n",
       "      <td>NaN</td>\n",
       "      <td>NaN</td>\n",
       "      <td>NaN</td>\n",
       "    </tr>\n",
       "  </tbody>\n",
       "</table>\n",
       "</div>"
      ],
      "text/plain": [
       "        Serial Number  List Year Date Recorded         Town        Address   \n",
       "318255          40095       2004    11/03/2004    Naugatuck   38 2D ANN ST  \\\n",
       "103907          10691       2001    05/13/2002  New Britain  289 CHERRY ST   \n",
       "\n",
       "        Assessed Value  Sale Amount  Sales Ratio Property Type   \n",
       "318255         53860.0     110725.0     0.486430           NaN  \\\n",
       "103907         42500.0     109000.0     0.389908           NaN   \n",
       "\n",
       "       Residential Type Non Use Code Assessor Remarks OPM remarks Location  \n",
       "318255              NaN          NaN              NaN         NaN      NaN  \n",
       "103907              NaN          NaN              NaN         NaN      NaN  "
      ]
     },
     "execution_count": 6,
     "metadata": {},
     "output_type": "execute_result"
    }
   ],
   "source": [
    "df.sample(2)"
   ]
  },
  {
   "cell_type": "code",
   "execution_count": 7,
   "id": "91f1b111",
   "metadata": {
    "execution": {
     "iopub.execute_input": "2023-05-10T13:29:08.033611Z",
     "iopub.status.busy": "2023-05-10T13:29:08.033315Z",
     "iopub.status.idle": "2023-05-10T13:29:08.069664Z",
     "shell.execute_reply": "2023-05-10T13:29:08.068657Z"
    },
    "papermill": {
     "duration": 0.047281,
     "end_time": "2023-05-10T13:29:08.071837",
     "exception": false,
     "start_time": "2023-05-10T13:29:08.024556",
     "status": "completed"
    },
    "tags": []
   },
   "outputs": [
    {
     "data": {
      "text/plain": [
       "OPM remarks\n",
       "GOOD SALE PER MLS                                                   978\n",
       "NO MLS                                                              500\n",
       "NEW CONSTRUCTION                                                    345\n",
       "SHORT SALE PER MLS                                                  326\n",
       "TOTAL RENOVATION PER MLS                                            316\n",
       "                                                                   ... \n",
       "REMODELED PER MLS - SEE PREVIOUS SALE #170076                         1\n",
       "REO SALE - CASH ONLY SOLD AS IS                                       1\n",
       "TWO SALES - ALSO SEE #1700209                                         1\n",
       "NOT A VALID SALE PER TOWN SITE AND PER MLS SALE PRICE = $345,000      1\n",
       "PER MLS CLOSING PRICE = $1,145,000                                    1\n",
       "Name: count, Length: 4825, dtype: int64"
      ]
     },
     "execution_count": 7,
     "metadata": {},
     "output_type": "execute_result"
    }
   ],
   "source": [
    "df['OPM remarks'].value_counts()"
   ]
  },
  {
   "cell_type": "code",
   "execution_count": 8,
   "id": "41ea6f2d",
   "metadata": {
    "execution": {
     "iopub.execute_input": "2023-05-10T13:29:08.087901Z",
     "iopub.status.busy": "2023-05-10T13:29:08.087624Z",
     "iopub.status.idle": "2023-05-10T13:29:08.232470Z",
     "shell.execute_reply": "2023-05-10T13:29:08.231529Z"
    },
    "papermill": {
     "duration": 0.155468,
     "end_time": "2023-05-10T13:29:08.234832",
     "exception": false,
     "start_time": "2023-05-10T13:29:08.079364",
     "status": "completed"
    },
    "tags": []
   },
   "outputs": [],
   "source": [
    "df = df.drop('OPM remarks',axis=1)"
   ]
  },
  {
   "cell_type": "code",
   "execution_count": 9,
   "id": "216fae5c",
   "metadata": {
    "execution": {
     "iopub.execute_input": "2023-05-10T13:29:08.251632Z",
     "iopub.status.busy": "2023-05-10T13:29:08.251319Z",
     "iopub.status.idle": "2023-05-10T13:29:10.141177Z",
     "shell.execute_reply": "2023-05-10T13:29:10.140235Z"
    },
    "papermill": {
     "duration": 1.900876,
     "end_time": "2023-05-10T13:29:10.143506",
     "exception": false,
     "start_time": "2023-05-10T13:29:08.242630",
     "status": "completed"
    },
    "tags": []
   },
   "outputs": [],
   "source": [
    "df = df.dropna()"
   ]
  },
  {
   "cell_type": "code",
   "execution_count": 10,
   "id": "7d19ead2",
   "metadata": {
    "execution": {
     "iopub.execute_input": "2023-05-10T13:29:10.160512Z",
     "iopub.status.busy": "2023-05-10T13:29:10.160219Z",
     "iopub.status.idle": "2023-05-10T13:29:10.210462Z",
     "shell.execute_reply": "2023-05-10T13:29:10.209206Z"
    },
    "papermill": {
     "duration": 0.060999,
     "end_time": "2023-05-10T13:29:10.212540",
     "exception": false,
     "start_time": "2023-05-10T13:29:10.151541",
     "status": "completed"
    },
    "tags": []
   },
   "outputs": [
    {
     "name": "stdout",
     "output_type": "stream",
     "text": [
      "<class 'pandas.core.frame.DataFrame'>\n",
      "Index: 18528 entries, 100 to 997187\n",
      "Data columns (total 13 columns):\n",
      " #   Column            Non-Null Count  Dtype  \n",
      "---  ------            --------------  -----  \n",
      " 0   Serial Number     18528 non-null  int64  \n",
      " 1   List Year         18528 non-null  int64  \n",
      " 2   Date Recorded     18528 non-null  object \n",
      " 3   Town              18528 non-null  object \n",
      " 4   Address           18528 non-null  object \n",
      " 5   Assessed Value    18528 non-null  float64\n",
      " 6   Sale Amount       18528 non-null  float64\n",
      " 7   Sales Ratio       18528 non-null  float64\n",
      " 8   Property Type     18528 non-null  object \n",
      " 9   Residential Type  18528 non-null  object \n",
      " 10  Non Use Code      18528 non-null  object \n",
      " 11  Assessor Remarks  18528 non-null  object \n",
      " 12  Location          18528 non-null  object \n",
      "dtypes: float64(3), int64(2), object(8)\n",
      "memory usage: 2.0+ MB\n"
     ]
    }
   ],
   "source": [
    "df.info()"
   ]
  },
  {
   "cell_type": "code",
   "execution_count": 11,
   "id": "5c9f3f79",
   "metadata": {
    "execution": {
     "iopub.execute_input": "2023-05-10T13:29:10.228861Z",
     "iopub.status.busy": "2023-05-10T13:29:10.228606Z",
     "iopub.status.idle": "2023-05-10T13:29:10.234062Z",
     "shell.execute_reply": "2023-05-10T13:29:10.233244Z"
    },
    "papermill": {
     "duration": 0.015569,
     "end_time": "2023-05-10T13:29:10.235877",
     "exception": false,
     "start_time": "2023-05-10T13:29:10.220308",
     "status": "completed"
    },
    "tags": []
   },
   "outputs": [
    {
     "data": {
      "text/plain": [
       "array(['10/06/2020', '06/02/2021', '12/14/2020', ..., '09/16/2020',\n",
       "       '02/11/2020', '02/14/2020'], dtype=object)"
      ]
     },
     "execution_count": 11,
     "metadata": {},
     "output_type": "execute_result"
    }
   ],
   "source": [
    "df['Date Recorded'].values"
   ]
  },
  {
   "cell_type": "markdown",
   "id": "a3bcb95c",
   "metadata": {
    "papermill": {
     "duration": 0.00731,
     "end_time": "2023-05-10T13:29:10.250709",
     "exception": false,
     "start_time": "2023-05-10T13:29:10.243399",
     "status": "completed"
    },
    "tags": []
   },
   "source": [
    "# **Time series analysis**"
   ]
  },
  {
   "cell_type": "markdown",
   "id": "a534881d",
   "metadata": {
    "papermill": {
     "duration": 0.007302,
     "end_time": "2023-05-10T13:29:10.265640",
     "exception": false,
     "start_time": "2023-05-10T13:29:10.258338",
     "status": "completed"
    },
    "tags": []
   },
   "source": [
    "**convert type (object) to datetime**"
   ]
  },
  {
   "cell_type": "code",
   "execution_count": 12,
   "id": "b43b4d38",
   "metadata": {
    "execution": {
     "iopub.execute_input": "2023-05-10T13:29:10.282303Z",
     "iopub.status.busy": "2023-05-10T13:29:10.281514Z",
     "iopub.status.idle": "2023-05-10T13:29:10.298405Z",
     "shell.execute_reply": "2023-05-10T13:29:10.297427Z"
    },
    "papermill": {
     "duration": 0.02756,
     "end_time": "2023-05-10T13:29:10.300767",
     "exception": false,
     "start_time": "2023-05-10T13:29:10.273207",
     "status": "completed"
    },
    "tags": []
   },
   "outputs": [],
   "source": [
    "df['Date Recorded'] = pd.to_datetime(df['Date Recorded'])"
   ]
  },
  {
   "cell_type": "code",
   "execution_count": 13,
   "id": "c93f6913",
   "metadata": {
    "execution": {
     "iopub.execute_input": "2023-05-10T13:29:10.317367Z",
     "iopub.status.busy": "2023-05-10T13:29:10.317100Z",
     "iopub.status.idle": "2023-05-10T13:29:10.323296Z",
     "shell.execute_reply": "2023-05-10T13:29:10.322398Z"
    },
    "papermill": {
     "duration": 0.016409,
     "end_time": "2023-05-10T13:29:10.325224",
     "exception": false,
     "start_time": "2023-05-10T13:29:10.308815",
     "status": "completed"
    },
    "tags": []
   },
   "outputs": [
    {
     "data": {
      "text/plain": [
       "array(['2020-10-06T00:00:00.000000000', '2021-06-02T00:00:00.000000000',\n",
       "       '2020-12-14T00:00:00.000000000', ...,\n",
       "       '2020-09-16T00:00:00.000000000', '2020-02-11T00:00:00.000000000',\n",
       "       '2020-02-14T00:00:00.000000000'], dtype='datetime64[ns]')"
      ]
     },
     "execution_count": 13,
     "metadata": {},
     "output_type": "execute_result"
    }
   ],
   "source": [
    "df['Date Recorded'].values"
   ]
  },
  {
   "cell_type": "markdown",
   "id": "e82bcca1",
   "metadata": {
    "papermill": {
     "duration": 0.007468,
     "end_time": "2023-05-10T13:29:10.340300",
     "exception": false,
     "start_time": "2023-05-10T13:29:10.332832",
     "status": "completed"
    },
    "tags": []
   },
   "source": [
    "**Make column for year**"
   ]
  },
  {
   "cell_type": "code",
   "execution_count": 14,
   "id": "e223f72f",
   "metadata": {
    "execution": {
     "iopub.execute_input": "2023-05-10T13:29:10.357112Z",
     "iopub.status.busy": "2023-05-10T13:29:10.356540Z",
     "iopub.status.idle": "2023-05-10T13:29:10.363081Z",
     "shell.execute_reply": "2023-05-10T13:29:10.362294Z"
    },
    "papermill": {
     "duration": 0.016923,
     "end_time": "2023-05-10T13:29:10.365019",
     "exception": false,
     "start_time": "2023-05-10T13:29:10.348096",
     "status": "completed"
    },
    "tags": []
   },
   "outputs": [],
   "source": [
    "df['Year'] = df['Date Recorded'].dt.year"
   ]
  },
  {
   "cell_type": "markdown",
   "id": "a4932d85",
   "metadata": {
    "papermill": {
     "duration": 0.007517,
     "end_time": "2023-05-10T13:29:10.380299",
     "exception": false,
     "start_time": "2023-05-10T13:29:10.372782",
     "status": "completed"
    },
    "tags": []
   },
   "source": [
    "**Make column for month name**\n"
   ]
  },
  {
   "cell_type": "code",
   "execution_count": 15,
   "id": "c4c5d544",
   "metadata": {
    "execution": {
     "iopub.execute_input": "2023-05-10T13:29:10.397160Z",
     "iopub.status.busy": "2023-05-10T13:29:10.396479Z",
     "iopub.status.idle": "2023-05-10T13:29:10.407208Z",
     "shell.execute_reply": "2023-05-10T13:29:10.406434Z"
    },
    "papermill": {
     "duration": 0.020993,
     "end_time": "2023-05-10T13:29:10.409096",
     "exception": false,
     "start_time": "2023-05-10T13:29:10.388103",
     "status": "completed"
    },
    "tags": []
   },
   "outputs": [],
   "source": [
    "df['Month'] = df['Date Recorded'].dt.month_name()"
   ]
  },
  {
   "cell_type": "markdown",
   "id": "48e74437",
   "metadata": {
    "papermill": {
     "duration": 0.007451,
     "end_time": "2023-05-10T13:29:10.424197",
     "exception": false,
     "start_time": "2023-05-10T13:29:10.416746",
     "status": "completed"
    },
    "tags": []
   },
   "source": [
    "**Make column for day name**"
   ]
  },
  {
   "cell_type": "code",
   "execution_count": 16,
   "id": "3f252fa2",
   "metadata": {
    "execution": {
     "iopub.execute_input": "2023-05-10T13:29:10.441077Z",
     "iopub.status.busy": "2023-05-10T13:29:10.440324Z",
     "iopub.status.idle": "2023-05-10T13:29:10.451377Z",
     "shell.execute_reply": "2023-05-10T13:29:10.450567Z"
    },
    "papermill": {
     "duration": 0.021313,
     "end_time": "2023-05-10T13:29:10.453242",
     "exception": false,
     "start_time": "2023-05-10T13:29:10.431929",
     "status": "completed"
    },
    "tags": []
   },
   "outputs": [],
   "source": [
    "df['Day'] = df['Date Recorded'].dt.day_name()"
   ]
  },
  {
   "cell_type": "markdown",
   "id": "e8b5498c",
   "metadata": {
    "papermill": {
     "duration": 0.007516,
     "end_time": "2023-05-10T13:29:10.468315",
     "exception": false,
     "start_time": "2023-05-10T13:29:10.460799",
     "status": "completed"
    },
    "tags": []
   },
   "source": [
    "**Make column for quarter (1,2,3,4)**"
   ]
  },
  {
   "cell_type": "code",
   "execution_count": 17,
   "id": "4579524f",
   "metadata": {
    "execution": {
     "iopub.execute_input": "2023-05-10T13:29:10.485157Z",
     "iopub.status.busy": "2023-05-10T13:29:10.484454Z",
     "iopub.status.idle": "2023-05-10T13:29:10.491247Z",
     "shell.execute_reply": "2023-05-10T13:29:10.490465Z"
    },
    "papermill": {
     "duration": 0.017186,
     "end_time": "2023-05-10T13:29:10.493167",
     "exception": false,
     "start_time": "2023-05-10T13:29:10.475981",
     "status": "completed"
    },
    "tags": []
   },
   "outputs": [],
   "source": [
    "df['Quarter'] = df['Date Recorded'].dt.quarter"
   ]
  },
  {
   "cell_type": "markdown",
   "id": "549bec3a",
   "metadata": {
    "papermill": {
     "duration": 0.007443,
     "end_time": "2023-05-10T13:29:10.508217",
     "exception": false,
     "start_time": "2023-05-10T13:29:10.500774",
     "status": "completed"
    },
    "tags": []
   },
   "source": [
    "**it looks perfect now**"
   ]
  },
  {
   "cell_type": "code",
   "execution_count": 18,
   "id": "2b5de992",
   "metadata": {
    "execution": {
     "iopub.execute_input": "2023-05-10T13:29:10.525374Z",
     "iopub.status.busy": "2023-05-10T13:29:10.524728Z",
     "iopub.status.idle": "2023-05-10T13:29:10.549727Z",
     "shell.execute_reply": "2023-05-10T13:29:10.548780Z"
    },
    "papermill": {
     "duration": 0.035794,
     "end_time": "2023-05-10T13:29:10.551792",
     "exception": false,
     "start_time": "2023-05-10T13:29:10.515998",
     "status": "completed"
    },
    "tags": []
   },
   "outputs": [
    {
     "data": {
      "text/html": [
       "<div>\n",
       "<style scoped>\n",
       "    .dataframe tbody tr th:only-of-type {\n",
       "        vertical-align: middle;\n",
       "    }\n",
       "\n",
       "    .dataframe tbody tr th {\n",
       "        vertical-align: top;\n",
       "    }\n",
       "\n",
       "    .dataframe thead th {\n",
       "        text-align: right;\n",
       "    }\n",
       "</style>\n",
       "<table border=\"1\" class=\"dataframe\">\n",
       "  <thead>\n",
       "    <tr style=\"text-align: right;\">\n",
       "      <th></th>\n",
       "      <th>Serial Number</th>\n",
       "      <th>List Year</th>\n",
       "      <th>Date Recorded</th>\n",
       "      <th>Town</th>\n",
       "      <th>Address</th>\n",
       "      <th>Assessed Value</th>\n",
       "      <th>Sale Amount</th>\n",
       "      <th>Sales Ratio</th>\n",
       "      <th>Property Type</th>\n",
       "      <th>Residential Type</th>\n",
       "      <th>Non Use Code</th>\n",
       "      <th>Assessor Remarks</th>\n",
       "      <th>Location</th>\n",
       "      <th>Year</th>\n",
       "      <th>Month</th>\n",
       "      <th>Day</th>\n",
       "      <th>Quarter</th>\n",
       "    </tr>\n",
       "  </thead>\n",
       "  <tbody>\n",
       "    <tr>\n",
       "      <th>609112</th>\n",
       "      <td>110311</td>\n",
       "      <td>2011</td>\n",
       "      <td>2012-05-29</td>\n",
       "      <td>Wallingford</td>\n",
       "      <td>17 RIDGEFIELD RD</td>\n",
       "      <td>158900.0</td>\n",
       "      <td>195000.0</td>\n",
       "      <td>0.814872</td>\n",
       "      <td>Single Family</td>\n",
       "      <td>Single Family</td>\n",
       "      <td>25 - Other</td>\n",
       "      <td>NO REMARKS LISTED</td>\n",
       "      <td>POINT (-72.85162 41.48362)</td>\n",
       "      <td>2012</td>\n",
       "      <td>May</td>\n",
       "      <td>Tuesday</td>\n",
       "      <td>2</td>\n",
       "    </tr>\n",
       "    <tr>\n",
       "      <th>570169</th>\n",
       "      <td>100337</td>\n",
       "      <td>2010</td>\n",
       "      <td>2011-08-30</td>\n",
       "      <td>New London</td>\n",
       "      <td>292 PEQUOT AVE I1</td>\n",
       "      <td>84700.0</td>\n",
       "      <td>70000.0</td>\n",
       "      <td>1.210000</td>\n",
       "      <td>Condo</td>\n",
       "      <td>Condo</td>\n",
       "      <td>25 - Other</td>\n",
       "      <td>SALES RATIO</td>\n",
       "      <td>POINT (-72.09699 41.33356)</td>\n",
       "      <td>2011</td>\n",
       "      <td>August</td>\n",
       "      <td>Tuesday</td>\n",
       "      <td>3</td>\n",
       "    </tr>\n",
       "    <tr>\n",
       "      <th>839142</th>\n",
       "      <td>170258</td>\n",
       "      <td>2017</td>\n",
       "      <td>2018-03-15</td>\n",
       "      <td>Branford</td>\n",
       "      <td>3 SWIFT ST</td>\n",
       "      <td>159400.0</td>\n",
       "      <td>230000.0</td>\n",
       "      <td>0.693043</td>\n",
       "      <td>Single Family</td>\n",
       "      <td>Single Family</td>\n",
       "      <td>14 - Foreclosure</td>\n",
       "      <td>SALE OF BANK OWNED PROPERTY</td>\n",
       "      <td>POINT (-72.825 41.27454)</td>\n",
       "      <td>2018</td>\n",
       "      <td>March</td>\n",
       "      <td>Thursday</td>\n",
       "      <td>1</td>\n",
       "    </tr>\n",
       "  </tbody>\n",
       "</table>\n",
       "</div>"
      ],
      "text/plain": [
       "        Serial Number  List Year Date Recorded         Town   \n",
       "609112         110311       2011    2012-05-29  Wallingford  \\\n",
       "570169         100337       2010    2011-08-30   New London   \n",
       "839142         170258       2017    2018-03-15     Branford   \n",
       "\n",
       "                  Address  Assessed Value  Sale Amount  Sales Ratio   \n",
       "609112   17 RIDGEFIELD RD        158900.0     195000.0     0.814872  \\\n",
       "570169  292 PEQUOT AVE I1         84700.0      70000.0     1.210000   \n",
       "839142         3 SWIFT ST        159400.0     230000.0     0.693043   \n",
       "\n",
       "        Property Type Residential Type      Non Use Code   \n",
       "609112  Single Family    Single Family        25 - Other  \\\n",
       "570169          Condo            Condo        25 - Other   \n",
       "839142  Single Family    Single Family  14 - Foreclosure   \n",
       "\n",
       "                   Assessor Remarks                    Location  Year   Month   \n",
       "609112            NO REMARKS LISTED  POINT (-72.85162 41.48362)  2012     May  \\\n",
       "570169                  SALES RATIO  POINT (-72.09699 41.33356)  2011  August   \n",
       "839142  SALE OF BANK OWNED PROPERTY    POINT (-72.825 41.27454)  2018   March   \n",
       "\n",
       "             Day  Quarter  \n",
       "609112   Tuesday        2  \n",
       "570169   Tuesday        3  \n",
       "839142  Thursday        1  "
      ]
     },
     "execution_count": 18,
     "metadata": {},
     "output_type": "execute_result"
    }
   ],
   "source": [
    "df.sample(3)"
   ]
  }
 ],
 "metadata": {
  "kernelspec": {
   "display_name": "Python 3 (ipykernel)",
   "language": "python",
   "name": "python3"
  },
  "language_info": {
   "codemirror_mode": {
    "name": "ipython",
    "version": 3
   },
   "file_extension": ".py",
   "mimetype": "text/x-python",
   "name": "python",
   "nbconvert_exporter": "python",
   "pygments_lexer": "ipython3",
   "version": "3.10.6"
  },
  "papermill": {
   "default_parameters": {},
   "duration": 23.523697,
   "end_time": "2023-05-10T13:29:11.295501",
   "environment_variables": {},
   "exception": null,
   "input_path": "__notebook__.ipynb",
   "output_path": "__notebook__.ipynb",
   "parameters": {},
   "start_time": "2023-05-10T13:28:47.771804",
   "version": "2.4.0"
  }
 },
 "nbformat": 4,
 "nbformat_minor": 5
}
