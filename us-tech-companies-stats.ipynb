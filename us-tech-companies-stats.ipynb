{
 "cells": [
  {
   "cell_type": "markdown",
   "metadata": {},
   "source": [
    "# US Tech Company Stats"
   ]
  },
  {
   "cell_type": "code",
   "execution_count": 1,
   "metadata": {
    "execution": {
     "iopub.execute_input": "2023-05-08T11:49:14.572393Z",
     "iopub.status.busy": "2023-05-08T11:49:14.571489Z",
     "iopub.status.idle": "2023-05-08T11:49:16.034315Z",
     "shell.execute_reply": "2023-05-08T11:49:16.033132Z",
     "shell.execute_reply.started": "2023-05-08T11:49:14.572342Z"
    }
   },
   "outputs": [],
   "source": [
    "import pandas as pd\n",
    "%matplotlib inline \n",
    "import matplotlib as mpl\n",
    "import matplotlib.pyplot as plt\n",
    "from plotly.express import *\n",
    "import plotly.express as px\n",
    "import seaborn as sns\n",
    "from sklearn.linear_model import LinearRegression\n",
    "from sklearn.model_selection import train_test_split\n",
    "from sklearn.metrics import r2_score"
   ]
  },
  {
   "cell_type": "code",
   "execution_count": 2,
   "metadata": {
    "execution": {
     "iopub.execute_input": "2023-05-08T11:49:16.037144Z",
     "iopub.status.busy": "2023-05-08T11:49:16.036399Z",
     "iopub.status.idle": "2023-05-08T11:49:16.114509Z",
     "shell.execute_reply": "2023-05-08T11:49:16.112898Z",
     "shell.execute_reply.started": "2023-05-08T11:49:16.037097Z"
    }
   },
   "outputs": [
    {
     "data": {
      "text/html": [
       "<div>\n",
       "<style scoped>\n",
       "    .dataframe tbody tr th:only-of-type {\n",
       "        vertical-align: middle;\n",
       "    }\n",
       "\n",
       "    .dataframe tbody tr th {\n",
       "        vertical-align: top;\n",
       "    }\n",
       "\n",
       "    .dataframe thead th {\n",
       "        text-align: right;\n",
       "    }\n",
       "</style>\n",
       "<table border=\"1\" class=\"dataframe\">\n",
       "  <thead>\n",
       "    <tr style=\"text-align: right;\">\n",
       "      <th></th>\n",
       "      <th>Company Name</th>\n",
       "      <th>Industry</th>\n",
       "      <th>Sector</th>\n",
       "      <th>HQ State</th>\n",
       "      <th>Founding Year</th>\n",
       "      <th>Annual Revenue 2022-2023 (USD in Billions)</th>\n",
       "      <th>Market Cap (USD in Trillions)</th>\n",
       "      <th>Stock Name</th>\n",
       "      <th>Annual Income Tax in 2022-2023 (USD in Billions)</th>\n",
       "      <th>Employee Size</th>\n",
       "    </tr>\n",
       "  </thead>\n",
       "  <tbody>\n",
       "    <tr>\n",
       "      <th>0</th>\n",
       "      <td>Apple Inc.</td>\n",
       "      <td>Technology</td>\n",
       "      <td>Consumer Electronics</td>\n",
       "      <td>California</td>\n",
       "      <td>1976</td>\n",
       "      <td>387.53</td>\n",
       "      <td>2.520</td>\n",
       "      <td>AAPL</td>\n",
       "      <td>18.314</td>\n",
       "      <td>164000</td>\n",
       "    </tr>\n",
       "    <tr>\n",
       "      <th>1</th>\n",
       "      <td>Microsoft Corporation</td>\n",
       "      <td>Technology</td>\n",
       "      <td>Software Infrastructure</td>\n",
       "      <td>Washington</td>\n",
       "      <td>1975</td>\n",
       "      <td>204.09</td>\n",
       "      <td>2.037</td>\n",
       "      <td>MSFT</td>\n",
       "      <td>15.139</td>\n",
       "      <td>221000</td>\n",
       "    </tr>\n",
       "    <tr>\n",
       "      <th>2</th>\n",
       "      <td>Alphabet (Google)</td>\n",
       "      <td>Technology</td>\n",
       "      <td>Software Infrastructure</td>\n",
       "      <td>California</td>\n",
       "      <td>1998</td>\n",
       "      <td>282.83</td>\n",
       "      <td>1.350</td>\n",
       "      <td>GOOG</td>\n",
       "      <td>11.356</td>\n",
       "      <td>190234</td>\n",
       "    </tr>\n",
       "    <tr>\n",
       "      <th>3</th>\n",
       "      <td>Amazon</td>\n",
       "      <td>Technology</td>\n",
       "      <td>Software Application</td>\n",
       "      <td>Washington</td>\n",
       "      <td>1994</td>\n",
       "      <td>513.98</td>\n",
       "      <td>1.030</td>\n",
       "      <td>AMZN</td>\n",
       "      <td>-3.217</td>\n",
       "      <td>1541000</td>\n",
       "    </tr>\n",
       "    <tr>\n",
       "      <th>4</th>\n",
       "      <td>NVIDIA Corporation</td>\n",
       "      <td>Technology</td>\n",
       "      <td>Semiconductors</td>\n",
       "      <td>California</td>\n",
       "      <td>1993</td>\n",
       "      <td>26.97</td>\n",
       "      <td>0.653</td>\n",
       "      <td>NVDA</td>\n",
       "      <td>0.189</td>\n",
       "      <td>22473</td>\n",
       "    </tr>\n",
       "    <tr>\n",
       "      <th>5</th>\n",
       "      <td>Tesla</td>\n",
       "      <td>Technology</td>\n",
       "      <td>Software Infrastructure</td>\n",
       "      <td>Texas</td>\n",
       "      <td>2003</td>\n",
       "      <td>81.46</td>\n",
       "      <td>0.625</td>\n",
       "      <td>TSLA</td>\n",
       "      <td>1.132</td>\n",
       "      <td>127855</td>\n",
       "    </tr>\n",
       "    <tr>\n",
       "      <th>6</th>\n",
       "      <td>Meta Platforms</td>\n",
       "      <td>Technology</td>\n",
       "      <td>Software Infrastructure</td>\n",
       "      <td>California</td>\n",
       "      <td>2004</td>\n",
       "      <td>116.60</td>\n",
       "      <td>0.524</td>\n",
       "      <td>META</td>\n",
       "      <td>5.619</td>\n",
       "      <td>86482</td>\n",
       "    </tr>\n",
       "    <tr>\n",
       "      <th>7</th>\n",
       "      <td>Broadcom Inc.</td>\n",
       "      <td>Technology</td>\n",
       "      <td>Semiconductors</td>\n",
       "      <td>California</td>\n",
       "      <td>1961</td>\n",
       "      <td>34.41</td>\n",
       "      <td>0.266</td>\n",
       "      <td>AVGO</td>\n",
       "      <td>0.939</td>\n",
       "      <td>20000</td>\n",
       "    </tr>\n",
       "    <tr>\n",
       "      <th>8</th>\n",
       "      <td>Oracle Corporation</td>\n",
       "      <td>Technology</td>\n",
       "      <td>Software Infrastructure</td>\n",
       "      <td>Texas</td>\n",
       "      <td>1977</td>\n",
       "      <td>46.07</td>\n",
       "      <td>0.236</td>\n",
       "      <td>ORCL</td>\n",
       "      <td>0.932</td>\n",
       "      <td>143000</td>\n",
       "    </tr>\n",
       "    <tr>\n",
       "      <th>9</th>\n",
       "      <td>Cisco Systems Inc.</td>\n",
       "      <td>Technology</td>\n",
       "      <td>Communication Equipments</td>\n",
       "      <td>California</td>\n",
       "      <td>1984</td>\n",
       "      <td>53.16</td>\n",
       "      <td>0.208</td>\n",
       "      <td>CSCO</td>\n",
       "      <td>2.665</td>\n",
       "      <td>83300</td>\n",
       "    </tr>\n",
       "  </tbody>\n",
       "</table>\n",
       "</div>"
      ],
      "text/plain": [
       "            Company Name    Industry                    Sector    HQ State  \\\n",
       "0             Apple Inc.  Technology      Consumer Electronics  California   \n",
       "1  Microsoft Corporation  Technology   Software Infrastructure  Washington   \n",
       "2      Alphabet (Google)  Technology   Software Infrastructure  California   \n",
       "3                 Amazon  Technology      Software Application  Washington   \n",
       "4     NVIDIA Corporation  Technology            Semiconductors  California   \n",
       "5                  Tesla  Technology   Software Infrastructure       Texas   \n",
       "6         Meta Platforms  Technology   Software Infrastructure  California   \n",
       "7          Broadcom Inc.  Technology            Semiconductors  California   \n",
       "8     Oracle Corporation  Technology   Software Infrastructure       Texas   \n",
       "9     Cisco Systems Inc.  Technology  Communication Equipments  California   \n",
       "\n",
       "   Founding Year  Annual Revenue 2022-2023 (USD in Billions)  \\\n",
       "0           1976                                      387.53   \n",
       "1           1975                                      204.09   \n",
       "2           1998                                      282.83   \n",
       "3           1994                                      513.98   \n",
       "4           1993                                       26.97   \n",
       "5           2003                                       81.46   \n",
       "6           2004                                      116.60   \n",
       "7           1961                                       34.41   \n",
       "8           1977                                       46.07   \n",
       "9           1984                                       53.16   \n",
       "\n",
       "   Market Cap (USD in Trillions) Stock Name  \\\n",
       "0                          2.520       AAPL   \n",
       "1                          2.037       MSFT   \n",
       "2                          1.350       GOOG   \n",
       "3                          1.030       AMZN   \n",
       "4                          0.653       NVDA   \n",
       "5                          0.625       TSLA   \n",
       "6                          0.524       META   \n",
       "7                          0.266       AVGO   \n",
       "8                          0.236       ORCL   \n",
       "9                          0.208       CSCO   \n",
       "\n",
       "   Annual Income Tax in 2022-2023 (USD in Billions)  Employee Size  \n",
       "0                                            18.314         164000  \n",
       "1                                            15.139         221000  \n",
       "2                                            11.356         190234  \n",
       "3                                            -3.217        1541000  \n",
       "4                                             0.189          22473  \n",
       "5                                             1.132         127855  \n",
       "6                                             5.619          86482  \n",
       "7                                             0.939          20000  \n",
       "8                                             0.932         143000  \n",
       "9                                             2.665          83300  "
      ]
     },
     "execution_count": 2,
     "metadata": {},
     "output_type": "execute_result"
    }
   ],
   "source": [
    "df = pd.read_csv('Tech-Companies2022-2023.csv')\n",
    "df.head(10)"
   ]
  },
  {
   "cell_type": "markdown",
   "metadata": {},
   "source": [
    "## Processing and Cleaning "
   ]
  },
  {
   "cell_type": "code",
   "execution_count": 3,
   "metadata": {
    "execution": {
     "iopub.execute_input": "2023-05-08T11:49:16.116955Z",
     "iopub.status.busy": "2023-05-08T11:49:16.116448Z",
     "iopub.status.idle": "2023-05-08T11:49:16.128011Z",
     "shell.execute_reply": "2023-05-08T11:49:16.126558Z",
     "shell.execute_reply.started": "2023-05-08T11:49:16.116906Z"
    }
   },
   "outputs": [
    {
     "data": {
      "text/plain": [
       "Company Name                                        0\n",
       "Industry                                            0\n",
       "Sector                                              0\n",
       "HQ State                                            0\n",
       "Founding Year                                       0\n",
       "Annual Revenue 2022-2023 (USD in Billions)          0\n",
       "Market Cap (USD in Trillions)                       0\n",
       "Stock Name                                          0\n",
       "Annual Income Tax in 2022-2023 (USD in Billions)    0\n",
       "Employee Size                                       0\n",
       "dtype: int64"
      ]
     },
     "execution_count": 3,
     "metadata": {},
     "output_type": "execute_result"
    }
   ],
   "source": [
    "df.isnull().sum()"
   ]
  },
  {
   "cell_type": "markdown",
   "metadata": {},
   "source": [
    "### Rename the columns so that they make sense. We can use rename() method by passing in a dictionary of old and new names"
   ]
  },
  {
   "cell_type": "code",
   "execution_count": 4,
   "metadata": {
    "execution": {
     "iopub.execute_input": "2023-05-08T11:49:16.132346Z",
     "iopub.status.busy": "2023-05-08T11:49:16.131854Z",
     "iopub.status.idle": "2023-05-08T11:49:16.144383Z",
     "shell.execute_reply": "2023-05-08T11:49:16.142728Z",
     "shell.execute_reply.started": "2023-05-08T11:49:16.132296Z"
    }
   },
   "outputs": [
    {
     "data": {
      "text/plain": [
       "Index(['Company', 'Industry', 'Sector', 'HQ State', 'Founding', 'Revenue_USD',\n",
       "       'MarketCap_with_Trillions', 'Stock_Name',\n",
       "       'Annual_Income_Tax_in_Billions', 'Employee'],\n",
       "      dtype='object')"
      ]
     },
     "execution_count": 4,
     "metadata": {},
     "output_type": "execute_result"
    }
   ],
   "source": [
    "df.rename(columns={'Company Name':'Company','Founding Year':'Founding','Annual Revenue 2022-2023 (USD in Billions)':'Revenue_USD','Market Cap (USD in Trillions)':'MarketCap_with_Trillions','Annual Income Tax in 2022-2023 (USD in Billions)':'Annual_Income_Tax_in_Billions','Employee Size':'Employee','Stock Name':'Stock_Name'}, inplace=True)\n",
    "df.columns"
   ]
  },
  {
   "cell_type": "markdown",
   "metadata": {},
   "source": [
    "# Data Wringling"
   ]
  },
  {
   "cell_type": "code",
   "execution_count": 5,
   "metadata": {
    "execution": {
     "iopub.execute_input": "2023-05-08T11:49:16.147097Z",
     "iopub.status.busy": "2023-05-08T11:49:16.146469Z",
     "iopub.status.idle": "2023-05-08T11:49:16.162621Z",
     "shell.execute_reply": "2023-05-08T11:49:16.161257Z",
     "shell.execute_reply.started": "2023-05-08T11:49:16.147054Z"
    }
   },
   "outputs": [
    {
     "data": {
      "text/plain": [
       "<bound method DataFrame.info of                  Company    Industry                   Sector    HQ State  \\\n",
       "0             Apple Inc.  Technology     Consumer Electronics  California   \n",
       "1  Microsoft Corporation  Technology  Software Infrastructure  Washington   \n",
       "2      Alphabet (Google)  Technology  Software Infrastructure  California   \n",
       "3                 Amazon  Technology     Software Application  Washington   \n",
       "4     NVIDIA Corporation  Technology           Semiconductors  California   \n",
       "\n",
       "   Founding  Revenue_USD  MarketCap_with_Trillions Stock_Name  \\\n",
       "0      1976       387.53                     2.520       AAPL   \n",
       "1      1975       204.09                     2.037       MSFT   \n",
       "2      1998       282.83                     1.350       GOOG   \n",
       "3      1994       513.98                     1.030       AMZN   \n",
       "4      1993        26.97                     0.653       NVDA   \n",
       "\n",
       "   Annual_Income_Tax_in_Billions  Employee  \n",
       "0                         18.314    164000  \n",
       "1                         15.139    221000  \n",
       "2                         11.356    190234  \n",
       "3                         -3.217   1541000  \n",
       "4                          0.189     22473  >"
      ]
     },
     "execution_count": 5,
     "metadata": {},
     "output_type": "execute_result"
    }
   ],
   "source": [
    "df.head().info"
   ]
  },
  {
   "cell_type": "code",
   "execution_count": 6,
   "metadata": {
    "execution": {
     "iopub.execute_input": "2023-05-08T11:49:16.164596Z",
     "iopub.status.busy": "2023-05-08T11:49:16.164216Z",
     "iopub.status.idle": "2023-05-08T11:49:16.195738Z",
     "shell.execute_reply": "2023-05-08T11:49:16.194459Z",
     "shell.execute_reply.started": "2023-05-08T11:49:16.164551Z"
    }
   },
   "outputs": [
    {
     "data": {
      "text/html": [
       "<div>\n",
       "<style scoped>\n",
       "    .dataframe tbody tr th:only-of-type {\n",
       "        vertical-align: middle;\n",
       "    }\n",
       "\n",
       "    .dataframe tbody tr th {\n",
       "        vertical-align: top;\n",
       "    }\n",
       "\n",
       "    .dataframe thead th {\n",
       "        text-align: right;\n",
       "    }\n",
       "</style>\n",
       "<table border=\"1\" class=\"dataframe\">\n",
       "  <thead>\n",
       "    <tr style=\"text-align: right;\">\n",
       "      <th></th>\n",
       "      <th>Founding</th>\n",
       "      <th>Revenue_USD</th>\n",
       "      <th>MarketCap_with_Trillions</th>\n",
       "      <th>Annual_Income_Tax_in_Billions</th>\n",
       "      <th>Employee</th>\n",
       "    </tr>\n",
       "  </thead>\n",
       "  <tbody>\n",
       "    <tr>\n",
       "      <th>count</th>\n",
       "      <td>50.000000</td>\n",
       "      <td>50.00000</td>\n",
       "      <td>50.000000</td>\n",
       "      <td>50.000000</td>\n",
       "      <td>5.000000e+01</td>\n",
       "    </tr>\n",
       "    <tr>\n",
       "      <th>mean</th>\n",
       "      <td>1984.140000</td>\n",
       "      <td>51.20440</td>\n",
       "      <td>0.252160</td>\n",
       "      <td>1.386780</td>\n",
       "      <td>8.324962e+04</td>\n",
       "    </tr>\n",
       "    <tr>\n",
       "      <th>std</th>\n",
       "      <td>24.988985</td>\n",
       "      <td>97.41288</td>\n",
       "      <td>0.490377</td>\n",
       "      <td>3.687916</td>\n",
       "      <td>2.205869e+05</td>\n",
       "    </tr>\n",
       "    <tr>\n",
       "      <th>min</th>\n",
       "      <td>1890.000000</td>\n",
       "      <td>2.06000</td>\n",
       "      <td>0.028000</td>\n",
       "      <td>-3.217000</td>\n",
       "      <td>2.993000e+03</td>\n",
       "    </tr>\n",
       "    <tr>\n",
       "      <th>25%</th>\n",
       "      <td>1977.250000</td>\n",
       "      <td>7.65250</td>\n",
       "      <td>0.051250</td>\n",
       "      <td>0.098750</td>\n",
       "      <td>1.415000e+04</td>\n",
       "    </tr>\n",
       "    <tr>\n",
       "      <th>50%</th>\n",
       "      <td>1988.500000</td>\n",
       "      <td>17.66500</td>\n",
       "      <td>0.082500</td>\n",
       "      <td>0.280500</td>\n",
       "      <td>2.472500e+04</td>\n",
       "    </tr>\n",
       "    <tr>\n",
       "      <th>75%</th>\n",
       "      <td>1999.750000</td>\n",
       "      <td>40.81500</td>\n",
       "      <td>0.160250</td>\n",
       "      <td>0.945000</td>\n",
       "      <td>7.015575e+04</td>\n",
       "    </tr>\n",
       "    <tr>\n",
       "      <th>max</th>\n",
       "      <td>2012.000000</td>\n",
       "      <td>513.98000</td>\n",
       "      <td>2.520000</td>\n",
       "      <td>18.314000</td>\n",
       "      <td>1.541000e+06</td>\n",
       "    </tr>\n",
       "  </tbody>\n",
       "</table>\n",
       "</div>"
      ],
      "text/plain": [
       "          Founding  Revenue_USD  MarketCap_with_Trillions  \\\n",
       "count    50.000000     50.00000                 50.000000   \n",
       "mean   1984.140000     51.20440                  0.252160   \n",
       "std      24.988985     97.41288                  0.490377   \n",
       "min    1890.000000      2.06000                  0.028000   \n",
       "25%    1977.250000      7.65250                  0.051250   \n",
       "50%    1988.500000     17.66500                  0.082500   \n",
       "75%    1999.750000     40.81500                  0.160250   \n",
       "max    2012.000000    513.98000                  2.520000   \n",
       "\n",
       "       Annual_Income_Tax_in_Billions      Employee  \n",
       "count                      50.000000  5.000000e+01  \n",
       "mean                        1.386780  8.324962e+04  \n",
       "std                         3.687916  2.205869e+05  \n",
       "min                        -3.217000  2.993000e+03  \n",
       "25%                         0.098750  1.415000e+04  \n",
       "50%                         0.280500  2.472500e+04  \n",
       "75%                         0.945000  7.015575e+04  \n",
       "max                        18.314000  1.541000e+06  "
      ]
     },
     "execution_count": 6,
     "metadata": {},
     "output_type": "execute_result"
    }
   ],
   "source": [
    "df.describe()"
   ]
  },
  {
   "cell_type": "code",
   "execution_count": 7,
   "metadata": {
    "execution": {
     "iopub.execute_input": "2023-05-08T11:49:16.198402Z",
     "iopub.status.busy": "2023-05-08T11:49:16.197878Z",
     "iopub.status.idle": "2023-05-08T11:49:16.205635Z",
     "shell.execute_reply": "2023-05-08T11:49:16.204077Z",
     "shell.execute_reply.started": "2023-05-08T11:49:16.198362Z"
    }
   },
   "outputs": [
    {
     "data": {
      "text/plain": [
       "(50, 10)"
      ]
     },
     "execution_count": 7,
     "metadata": {},
     "output_type": "execute_result"
    }
   ],
   "source": [
    "df.shape"
   ]
  },
  {
   "cell_type": "markdown",
   "metadata": {},
   "source": [
    "### Extracting profits (Annual Revenue 2022-2023 (USD in Billions)) for this Tech Companies"
   ]
  },
  {
   "cell_type": "code",
   "execution_count": 8,
   "metadata": {
    "execution": {
     "iopub.execute_input": "2023-05-08T11:49:16.207651Z",
     "iopub.status.busy": "2023-05-08T11:49:16.207228Z",
     "iopub.status.idle": "2023-05-08T11:49:16.232859Z",
     "shell.execute_reply": "2023-05-08T11:49:16.231273Z",
     "shell.execute_reply.started": "2023-05-08T11:49:16.207571Z"
    }
   },
   "outputs": [
    {
     "data": {
      "text/html": [
       "<div>\n",
       "<style scoped>\n",
       "    .dataframe tbody tr th:only-of-type {\n",
       "        vertical-align: middle;\n",
       "    }\n",
       "\n",
       "    .dataframe tbody tr th {\n",
       "        vertical-align: top;\n",
       "    }\n",
       "\n",
       "    .dataframe thead th {\n",
       "        text-align: right;\n",
       "    }\n",
       "</style>\n",
       "<table border=\"1\" class=\"dataframe\">\n",
       "  <thead>\n",
       "    <tr style=\"text-align: right;\">\n",
       "      <th></th>\n",
       "      <th>Company</th>\n",
       "      <th>Industry</th>\n",
       "      <th>Sector</th>\n",
       "      <th>HQ State</th>\n",
       "      <th>Founding</th>\n",
       "      <th>Revenue_USD</th>\n",
       "      <th>MarketCap_with_Trillions</th>\n",
       "      <th>Stock_Name</th>\n",
       "      <th>Annual_Income_Tax_in_Billions</th>\n",
       "      <th>Employee</th>\n",
       "    </tr>\n",
       "  </thead>\n",
       "  <tbody>\n",
       "    <tr>\n",
       "      <th>0</th>\n",
       "      <td>Apple Inc.</td>\n",
       "      <td>Technology</td>\n",
       "      <td>Consumer Electronics</td>\n",
       "      <td>California</td>\n",
       "      <td>1976</td>\n",
       "      <td>387.53</td>\n",
       "      <td>2.520</td>\n",
       "      <td>AAPL</td>\n",
       "      <td>18.314</td>\n",
       "      <td>164000</td>\n",
       "    </tr>\n",
       "    <tr>\n",
       "      <th>1</th>\n",
       "      <td>Microsoft Corporation</td>\n",
       "      <td>Technology</td>\n",
       "      <td>Software Infrastructure</td>\n",
       "      <td>Washington</td>\n",
       "      <td>1975</td>\n",
       "      <td>204.09</td>\n",
       "      <td>2.037</td>\n",
       "      <td>MSFT</td>\n",
       "      <td>15.139</td>\n",
       "      <td>221000</td>\n",
       "    </tr>\n",
       "    <tr>\n",
       "      <th>2</th>\n",
       "      <td>Alphabet (Google)</td>\n",
       "      <td>Technology</td>\n",
       "      <td>Software Infrastructure</td>\n",
       "      <td>California</td>\n",
       "      <td>1998</td>\n",
       "      <td>282.83</td>\n",
       "      <td>1.350</td>\n",
       "      <td>GOOG</td>\n",
       "      <td>11.356</td>\n",
       "      <td>190234</td>\n",
       "    </tr>\n",
       "    <tr>\n",
       "      <th>3</th>\n",
       "      <td>Amazon</td>\n",
       "      <td>Technology</td>\n",
       "      <td>Software Application</td>\n",
       "      <td>Washington</td>\n",
       "      <td>1994</td>\n",
       "      <td>513.98</td>\n",
       "      <td>1.030</td>\n",
       "      <td>AMZN</td>\n",
       "      <td>-3.217</td>\n",
       "      <td>1541000</td>\n",
       "    </tr>\n",
       "    <tr>\n",
       "      <th>4</th>\n",
       "      <td>NVIDIA Corporation</td>\n",
       "      <td>Technology</td>\n",
       "      <td>Semiconductors</td>\n",
       "      <td>California</td>\n",
       "      <td>1993</td>\n",
       "      <td>26.97</td>\n",
       "      <td>0.653</td>\n",
       "      <td>NVDA</td>\n",
       "      <td>0.189</td>\n",
       "      <td>22473</td>\n",
       "    </tr>\n",
       "    <tr>\n",
       "      <th>5</th>\n",
       "      <td>Tesla</td>\n",
       "      <td>Technology</td>\n",
       "      <td>Software Infrastructure</td>\n",
       "      <td>Texas</td>\n",
       "      <td>2003</td>\n",
       "      <td>81.46</td>\n",
       "      <td>0.625</td>\n",
       "      <td>TSLA</td>\n",
       "      <td>1.132</td>\n",
       "      <td>127855</td>\n",
       "    </tr>\n",
       "    <tr>\n",
       "      <th>6</th>\n",
       "      <td>Meta Platforms</td>\n",
       "      <td>Technology</td>\n",
       "      <td>Software Infrastructure</td>\n",
       "      <td>California</td>\n",
       "      <td>2004</td>\n",
       "      <td>116.60</td>\n",
       "      <td>0.524</td>\n",
       "      <td>META</td>\n",
       "      <td>5.619</td>\n",
       "      <td>86482</td>\n",
       "    </tr>\n",
       "    <tr>\n",
       "      <th>7</th>\n",
       "      <td>Broadcom Inc.</td>\n",
       "      <td>Technology</td>\n",
       "      <td>Semiconductors</td>\n",
       "      <td>California</td>\n",
       "      <td>1961</td>\n",
       "      <td>34.41</td>\n",
       "      <td>0.266</td>\n",
       "      <td>AVGO</td>\n",
       "      <td>0.939</td>\n",
       "      <td>20000</td>\n",
       "    </tr>\n",
       "    <tr>\n",
       "      <th>8</th>\n",
       "      <td>Oracle Corporation</td>\n",
       "      <td>Technology</td>\n",
       "      <td>Software Infrastructure</td>\n",
       "      <td>Texas</td>\n",
       "      <td>1977</td>\n",
       "      <td>46.07</td>\n",
       "      <td>0.236</td>\n",
       "      <td>ORCL</td>\n",
       "      <td>0.932</td>\n",
       "      <td>143000</td>\n",
       "    </tr>\n",
       "    <tr>\n",
       "      <th>9</th>\n",
       "      <td>Cisco Systems Inc.</td>\n",
       "      <td>Technology</td>\n",
       "      <td>Communication Equipments</td>\n",
       "      <td>California</td>\n",
       "      <td>1984</td>\n",
       "      <td>53.16</td>\n",
       "      <td>0.208</td>\n",
       "      <td>CSCO</td>\n",
       "      <td>2.665</td>\n",
       "      <td>83300</td>\n",
       "    </tr>\n",
       "  </tbody>\n",
       "</table>\n",
       "</div>"
      ],
      "text/plain": [
       "                 Company    Industry                    Sector    HQ State  \\\n",
       "0             Apple Inc.  Technology      Consumer Electronics  California   \n",
       "1  Microsoft Corporation  Technology   Software Infrastructure  Washington   \n",
       "2      Alphabet (Google)  Technology   Software Infrastructure  California   \n",
       "3                 Amazon  Technology      Software Application  Washington   \n",
       "4     NVIDIA Corporation  Technology            Semiconductors  California   \n",
       "5                  Tesla  Technology   Software Infrastructure       Texas   \n",
       "6         Meta Platforms  Technology   Software Infrastructure  California   \n",
       "7          Broadcom Inc.  Technology            Semiconductors  California   \n",
       "8     Oracle Corporation  Technology   Software Infrastructure       Texas   \n",
       "9     Cisco Systems Inc.  Technology  Communication Equipments  California   \n",
       "\n",
       "   Founding  Revenue_USD  MarketCap_with_Trillions Stock_Name  \\\n",
       "0      1976       387.53                     2.520       AAPL   \n",
       "1      1975       204.09                     2.037       MSFT   \n",
       "2      1998       282.83                     1.350       GOOG   \n",
       "3      1994       513.98                     1.030       AMZN   \n",
       "4      1993        26.97                     0.653       NVDA   \n",
       "5      2003        81.46                     0.625       TSLA   \n",
       "6      2004       116.60                     0.524       META   \n",
       "7      1961        34.41                     0.266       AVGO   \n",
       "8      1977        46.07                     0.236       ORCL   \n",
       "9      1984        53.16                     0.208       CSCO   \n",
       "\n",
       "   Annual_Income_Tax_in_Billions  Employee  \n",
       "0                         18.314    164000  \n",
       "1                         15.139    221000  \n",
       "2                         11.356    190234  \n",
       "3                         -3.217   1541000  \n",
       "4                          0.189     22473  \n",
       "5                          1.132    127855  \n",
       "6                          5.619     86482  \n",
       "7                          0.939     20000  \n",
       "8                          0.932    143000  \n",
       "9                          2.665     83300  "
      ]
     },
     "execution_count": 8,
     "metadata": {},
     "output_type": "execute_result"
    }
   ],
   "source": [
    "df.head(10)"
   ]
  },
  {
   "cell_type": "markdown",
   "metadata": {},
   "source": [
    "### Compare the trend of top 12 companies that contributed the most Revenue With US Dollars"
   ]
  },
  {
   "cell_type": "code",
   "execution_count": 9,
   "metadata": {
    "execution": {
     "iopub.execute_input": "2023-05-08T11:49:16.677090Z",
     "iopub.status.busy": "2023-05-08T11:49:16.676694Z",
     "iopub.status.idle": "2023-05-08T11:49:16.697361Z",
     "shell.execute_reply": "2023-05-08T11:49:16.695942Z",
     "shell.execute_reply.started": "2023-05-08T11:49:16.677052Z"
    }
   },
   "outputs": [
    {
     "data": {
      "text/html": [
       "<div>\n",
       "<style scoped>\n",
       "    .dataframe tbody tr th:only-of-type {\n",
       "        vertical-align: middle;\n",
       "    }\n",
       "\n",
       "    .dataframe tbody tr th {\n",
       "        vertical-align: top;\n",
       "    }\n",
       "\n",
       "    .dataframe thead th {\n",
       "        text-align: right;\n",
       "    }\n",
       "</style>\n",
       "<table border=\"1\" class=\"dataframe\">\n",
       "  <thead>\n",
       "    <tr style=\"text-align: right;\">\n",
       "      <th></th>\n",
       "      <th>Company</th>\n",
       "      <th>Industry</th>\n",
       "      <th>Sector</th>\n",
       "      <th>HQ State</th>\n",
       "      <th>Founding</th>\n",
       "      <th>Revenue_USD</th>\n",
       "      <th>MarketCap_with_Trillions</th>\n",
       "      <th>Stock_Name</th>\n",
       "      <th>Annual_Income_Tax_in_Billions</th>\n",
       "      <th>Employee</th>\n",
       "    </tr>\n",
       "  </thead>\n",
       "  <tbody>\n",
       "    <tr>\n",
       "      <th>3</th>\n",
       "      <td>Amazon</td>\n",
       "      <td>Technology</td>\n",
       "      <td>Software Application</td>\n",
       "      <td>Washington</td>\n",
       "      <td>1994</td>\n",
       "      <td>513.98</td>\n",
       "      <td>1.030</td>\n",
       "      <td>AMZN</td>\n",
       "      <td>-3.217</td>\n",
       "      <td>1541000</td>\n",
       "    </tr>\n",
       "    <tr>\n",
       "      <th>0</th>\n",
       "      <td>Apple Inc.</td>\n",
       "      <td>Technology</td>\n",
       "      <td>Consumer Electronics</td>\n",
       "      <td>California</td>\n",
       "      <td>1976</td>\n",
       "      <td>387.53</td>\n",
       "      <td>2.520</td>\n",
       "      <td>AAPL</td>\n",
       "      <td>18.314</td>\n",
       "      <td>164000</td>\n",
       "    </tr>\n",
       "    <tr>\n",
       "      <th>2</th>\n",
       "      <td>Alphabet (Google)</td>\n",
       "      <td>Technology</td>\n",
       "      <td>Software Infrastructure</td>\n",
       "      <td>California</td>\n",
       "      <td>1998</td>\n",
       "      <td>282.83</td>\n",
       "      <td>1.350</td>\n",
       "      <td>GOOG</td>\n",
       "      <td>11.356</td>\n",
       "      <td>190234</td>\n",
       "    </tr>\n",
       "    <tr>\n",
       "      <th>1</th>\n",
       "      <td>Microsoft Corporation</td>\n",
       "      <td>Technology</td>\n",
       "      <td>Software Infrastructure</td>\n",
       "      <td>Washington</td>\n",
       "      <td>1975</td>\n",
       "      <td>204.09</td>\n",
       "      <td>2.037</td>\n",
       "      <td>MSFT</td>\n",
       "      <td>15.139</td>\n",
       "      <td>221000</td>\n",
       "    </tr>\n",
       "    <tr>\n",
       "      <th>6</th>\n",
       "      <td>Meta Platforms</td>\n",
       "      <td>Technology</td>\n",
       "      <td>Software Infrastructure</td>\n",
       "      <td>California</td>\n",
       "      <td>2004</td>\n",
       "      <td>116.60</td>\n",
       "      <td>0.524</td>\n",
       "      <td>META</td>\n",
       "      <td>5.619</td>\n",
       "      <td>86482</td>\n",
       "    </tr>\n",
       "  </tbody>\n",
       "</table>\n",
       "</div>"
      ],
      "text/plain": [
       "                 Company    Industry                   Sector    HQ State  \\\n",
       "3                 Amazon  Technology     Software Application  Washington   \n",
       "0             Apple Inc.  Technology     Consumer Electronics  California   \n",
       "2      Alphabet (Google)  Technology  Software Infrastructure  California   \n",
       "1  Microsoft Corporation  Technology  Software Infrastructure  Washington   \n",
       "6         Meta Platforms  Technology  Software Infrastructure  California   \n",
       "\n",
       "   Founding  Revenue_USD  MarketCap_with_Trillions Stock_Name  \\\n",
       "3      1994       513.98                     1.030       AMZN   \n",
       "0      1976       387.53                     2.520       AAPL   \n",
       "2      1998       282.83                     1.350       GOOG   \n",
       "1      1975       204.09                     2.037       MSFT   \n",
       "6      2004       116.60                     0.524       META   \n",
       "\n",
       "   Annual_Income_Tax_in_Billions  Employee  \n",
       "3                         -3.217   1541000  \n",
       "0                         18.314    164000  \n",
       "2                         11.356    190234  \n",
       "1                         15.139    221000  \n",
       "6                          5.619     86482  "
      ]
     },
     "execution_count": 9,
     "metadata": {},
     "output_type": "execute_result"
    }
   ],
   "source": [
    "inplace = True \n",
    "df.sort_values(by=['Revenue_USD'], ascending=False, axis=0, inplace=True)\n",
    "df.head()"
   ]
  },
  {
   "cell_type": "code",
   "execution_count": 10,
   "metadata": {
    "execution": {
     "iopub.execute_input": "2023-05-08T11:49:16.700363Z",
     "iopub.status.busy": "2023-05-08T11:49:16.699382Z",
     "iopub.status.idle": "2023-05-08T11:49:16.766689Z",
     "shell.execute_reply": "2023-05-08T11:49:16.765489Z",
     "shell.execute_reply.started": "2023-05-08T11:49:16.700286Z"
    }
   },
   "outputs": [
    {
     "data": {
      "text/plain": [
       "<Axes: xlabel='Revenue_USD', ylabel='Company'>"
      ]
     },
     "execution_count": 10,
     "metadata": {},
     "output_type": "execute_result"
    },
    {
     "data": {
      "image/png": "[encoded data removed]",
      "text/plain": [
       "<Figure size 640x480 with 1 Axes>"
      ]
     },
     "metadata": {},
     "output_type": "display_data"
    }
   ],
   "source": [
    "sns.barplot(data=df.head(12), x=\"Revenue_USD\", y=\"Company\")"
   ]
  },
  {
   "cell_type": "markdown",
   "metadata": {},
   "source": [
    "### Numbers of Employees for the first 6 Companies in DataFrame"
   ]
  },
  {
   "cell_type": "code",
   "execution_count": 11,
   "metadata": {
    "execution": {
     "iopub.execute_input": "2023-05-08T11:49:16.768640Z",
     "iopub.status.busy": "2023-05-08T11:49:16.768205Z",
     "iopub.status.idle": "2023-05-08T11:49:17.049998Z",
     "shell.execute_reply": "2023-05-08T11:49:17.048353Z",
     "shell.execute_reply.started": "2023-05-08T11:49:16.768594Z"
    }
   },
   "outputs": [
    {
     "data": {
      "image/png": "[encoded data removed]",
      "text/plain": [
       "<Figure size 1100x600 with 1 Axes>"
      ]
     },
     "metadata": {},
     "output_type": "display_data"
    }
   ],
   "source": [
    "df.sort_values(by='Employee', ascending=False, inplace=True)\n",
    "\n",
    "plt.figure(figsize=(11, 6))\n",
    "sns.barplot(x='Company', y='Employee', data=df.head(6))\n",
    "plt.show()\n"
   ]
  },
  {
   "cell_type": "markdown",
   "metadata": {},
   "source": [
    "### Another Compare the trend of top 10 companies that contributed the most MarketCap with Trillions¶"
   ]
  },
  {
   "cell_type": "code",
   "execution_count": 12,
   "metadata": {
    "execution": {
     "iopub.execute_input": "2023-05-08T11:49:17.052992Z",
     "iopub.status.busy": "2023-05-08T11:49:17.051988Z",
     "iopub.status.idle": "2023-05-08T11:49:17.074997Z",
     "shell.execute_reply": "2023-05-08T11:49:17.073321Z",
     "shell.execute_reply.started": "2023-05-08T11:49:17.052951Z"
    }
   },
   "outputs": [
    {
     "data": {
      "text/html": [
       "<div>\n",
       "<style scoped>\n",
       "    .dataframe tbody tr th:only-of-type {\n",
       "        vertical-align: middle;\n",
       "    }\n",
       "\n",
       "    .dataframe tbody tr th {\n",
       "        vertical-align: top;\n",
       "    }\n",
       "\n",
       "    .dataframe thead th {\n",
       "        text-align: right;\n",
       "    }\n",
       "</style>\n",
       "<table border=\"1\" class=\"dataframe\">\n",
       "  <thead>\n",
       "    <tr style=\"text-align: right;\">\n",
       "      <th></th>\n",
       "      <th>Company</th>\n",
       "      <th>Industry</th>\n",
       "      <th>Sector</th>\n",
       "      <th>HQ State</th>\n",
       "      <th>Founding</th>\n",
       "      <th>Revenue_USD</th>\n",
       "      <th>MarketCap_with_Trillions</th>\n",
       "      <th>Stock_Name</th>\n",
       "      <th>Annual_Income_Tax_in_Billions</th>\n",
       "      <th>Employee</th>\n",
       "    </tr>\n",
       "  </thead>\n",
       "  <tbody>\n",
       "    <tr>\n",
       "      <th>0</th>\n",
       "      <td>Apple Inc.</td>\n",
       "      <td>Technology</td>\n",
       "      <td>Consumer Electronics</td>\n",
       "      <td>California</td>\n",
       "      <td>1976</td>\n",
       "      <td>387.53</td>\n",
       "      <td>2.520</td>\n",
       "      <td>AAPL</td>\n",
       "      <td>18.314</td>\n",
       "      <td>164000</td>\n",
       "    </tr>\n",
       "    <tr>\n",
       "      <th>1</th>\n",
       "      <td>Microsoft Corporation</td>\n",
       "      <td>Technology</td>\n",
       "      <td>Software Infrastructure</td>\n",
       "      <td>Washington</td>\n",
       "      <td>1975</td>\n",
       "      <td>204.09</td>\n",
       "      <td>2.037</td>\n",
       "      <td>MSFT</td>\n",
       "      <td>15.139</td>\n",
       "      <td>221000</td>\n",
       "    </tr>\n",
       "    <tr>\n",
       "      <th>2</th>\n",
       "      <td>Alphabet (Google)</td>\n",
       "      <td>Technology</td>\n",
       "      <td>Software Infrastructure</td>\n",
       "      <td>California</td>\n",
       "      <td>1998</td>\n",
       "      <td>282.83</td>\n",
       "      <td>1.350</td>\n",
       "      <td>GOOG</td>\n",
       "      <td>11.356</td>\n",
       "      <td>190234</td>\n",
       "    </tr>\n",
       "    <tr>\n",
       "      <th>3</th>\n",
       "      <td>Amazon</td>\n",
       "      <td>Technology</td>\n",
       "      <td>Software Application</td>\n",
       "      <td>Washington</td>\n",
       "      <td>1994</td>\n",
       "      <td>513.98</td>\n",
       "      <td>1.030</td>\n",
       "      <td>AMZN</td>\n",
       "      <td>-3.217</td>\n",
       "      <td>1541000</td>\n",
       "    </tr>\n",
       "    <tr>\n",
       "      <th>4</th>\n",
       "      <td>NVIDIA Corporation</td>\n",
       "      <td>Technology</td>\n",
       "      <td>Semiconductors</td>\n",
       "      <td>California</td>\n",
       "      <td>1993</td>\n",
       "      <td>26.97</td>\n",
       "      <td>0.653</td>\n",
       "      <td>NVDA</td>\n",
       "      <td>0.189</td>\n",
       "      <td>22473</td>\n",
       "    </tr>\n",
       "    <tr>\n",
       "      <th>5</th>\n",
       "      <td>Tesla</td>\n",
       "      <td>Technology</td>\n",
       "      <td>Software Infrastructure</td>\n",
       "      <td>Texas</td>\n",
       "      <td>2003</td>\n",
       "      <td>81.46</td>\n",
       "      <td>0.625</td>\n",
       "      <td>TSLA</td>\n",
       "      <td>1.132</td>\n",
       "      <td>127855</td>\n",
       "    </tr>\n",
       "    <tr>\n",
       "      <th>6</th>\n",
       "      <td>Meta Platforms</td>\n",
       "      <td>Technology</td>\n",
       "      <td>Software Infrastructure</td>\n",
       "      <td>California</td>\n",
       "      <td>2004</td>\n",
       "      <td>116.60</td>\n",
       "      <td>0.524</td>\n",
       "      <td>META</td>\n",
       "      <td>5.619</td>\n",
       "      <td>86482</td>\n",
       "    </tr>\n",
       "    <tr>\n",
       "      <th>7</th>\n",
       "      <td>Broadcom Inc.</td>\n",
       "      <td>Technology</td>\n",
       "      <td>Semiconductors</td>\n",
       "      <td>California</td>\n",
       "      <td>1961</td>\n",
       "      <td>34.41</td>\n",
       "      <td>0.266</td>\n",
       "      <td>AVGO</td>\n",
       "      <td>0.939</td>\n",
       "      <td>20000</td>\n",
       "    </tr>\n",
       "    <tr>\n",
       "      <th>8</th>\n",
       "      <td>Oracle Corporation</td>\n",
       "      <td>Technology</td>\n",
       "      <td>Software Infrastructure</td>\n",
       "      <td>Texas</td>\n",
       "      <td>1977</td>\n",
       "      <td>46.07</td>\n",
       "      <td>0.236</td>\n",
       "      <td>ORCL</td>\n",
       "      <td>0.932</td>\n",
       "      <td>143000</td>\n",
       "    </tr>\n",
       "    <tr>\n",
       "      <th>9</th>\n",
       "      <td>Cisco Systems Inc.</td>\n",
       "      <td>Technology</td>\n",
       "      <td>Communication Equipments</td>\n",
       "      <td>California</td>\n",
       "      <td>1984</td>\n",
       "      <td>53.16</td>\n",
       "      <td>0.208</td>\n",
       "      <td>CSCO</td>\n",
       "      <td>2.665</td>\n",
       "      <td>83300</td>\n",
       "    </tr>\n",
       "  </tbody>\n",
       "</table>\n",
       "</div>"
      ],
      "text/plain": [
       "                 Company    Industry                    Sector    HQ State  \\\n",
       "0             Apple Inc.  Technology      Consumer Electronics  California   \n",
       "1  Microsoft Corporation  Technology   Software Infrastructure  Washington   \n",
       "2      Alphabet (Google)  Technology   Software Infrastructure  California   \n",
       "3                 Amazon  Technology      Software Application  Washington   \n",
       "4     NVIDIA Corporation  Technology            Semiconductors  California   \n",
       "5                  Tesla  Technology   Software Infrastructure       Texas   \n",
       "6         Meta Platforms  Technology   Software Infrastructure  California   \n",
       "7          Broadcom Inc.  Technology            Semiconductors  California   \n",
       "8     Oracle Corporation  Technology   Software Infrastructure       Texas   \n",
       "9     Cisco Systems Inc.  Technology  Communication Equipments  California   \n",
       "\n",
       "   Founding  Revenue_USD  MarketCap_with_Trillions Stock_Name  \\\n",
       "0      1976       387.53                     2.520       AAPL   \n",
       "1      1975       204.09                     2.037       MSFT   \n",
       "2      1998       282.83                     1.350       GOOG   \n",
       "3      1994       513.98                     1.030       AMZN   \n",
       "4      1993        26.97                     0.653       NVDA   \n",
       "5      2003        81.46                     0.625       TSLA   \n",
       "6      2004       116.60                     0.524       META   \n",
       "7      1961        34.41                     0.266       AVGO   \n",
       "8      1977        46.07                     0.236       ORCL   \n",
       "9      1984        53.16                     0.208       CSCO   \n",
       "\n",
       "   Annual_Income_Tax_in_Billions  Employee  \n",
       "0                         18.314    164000  \n",
       "1                         15.139    221000  \n",
       "2                         11.356    190234  \n",
       "3                         -3.217   1541000  \n",
       "4                          0.189     22473  \n",
       "5                          1.132    127855  \n",
       "6                          5.619     86482  \n",
       "7                          0.939     20000  \n",
       "8                          0.932    143000  \n",
       "9                          2.665     83300  "
      ]
     },
     "execution_count": 12,
     "metadata": {},
     "output_type": "execute_result"
    }
   ],
   "source": [
    "inplace = True \n",
    "df.sort_values(by=['MarketCap_with_Trillions'], ascending=False, axis=0, inplace=True)\n",
    "df.head(10)"
   ]
  },
  {
   "cell_type": "code",
   "execution_count": 13,
   "metadata": {
    "execution": {
     "iopub.execute_input": "2023-05-08T11:49:17.077568Z",
     "iopub.status.busy": "2023-05-08T11:49:17.076947Z",
     "iopub.status.idle": "2023-05-08T11:49:17.365290Z",
     "shell.execute_reply": "2023-05-08T11:49:17.363710Z",
     "shell.execute_reply.started": "2023-05-08T11:49:17.077452Z"
    }
   },
   "outputs": [
    {
     "data": {
      "image/png": "[encoded data removed]",
      "text/plain": [
       "<Figure size 640x480 with 1 Axes>"
      ]
     },
     "metadata": {},
     "output_type": "display_data"
    }
   ],
   "source": [
    "sns.barplot(x='Company', y='MarketCap_with_Trillions', data=df.head(10))\n",
    "plt.xticks(rotation=90)\n",
    "plt.show()"
   ]
  },
  {
   "cell_type": "markdown",
   "metadata": {},
   "source": [
    "# Regression mode"
   ]
  },
  {
   "cell_type": "markdown",
   "metadata": {},
   "source": [
    "##### Befor Creating A regression Model we convert target columns from object to float using sklearn"
   ]
  },
  {
   "cell_type": "code",
   "execution_count": 14,
   "metadata": {},
   "outputs": [],
   "source": [
    "from sklearn.preprocessing import LabelEncoder\n",
    "\n",
    "# create a label encoder object\n",
    "le = LabelEncoder()\n",
    "\n",
    "# encode the categorical columns\n",
    "df['Company'] = le.fit_transform(df['Company'])\n",
    "df['Industry'] = le.fit_transform(df['Industry'])\n",
    "df['Sector'] = le.fit_transform(df['Sector'])\n",
    "df['HQ State'] = le.fit_transform(df['HQ State'])\n",
    "df['Stock_Name'] = le.fit_transform(df['Stock_Name'])\n"
   ]
  },
  {
   "cell_type": "code",
   "execution_count": 15,
   "metadata": {},
   "outputs": [
    {
     "name": "stdout",
     "output_type": "stream",
     "text": [
      "float64\n"
     ]
    }
   ],
   "source": [
    "print(df['MarketCap_with_Trillions'].dtype)\n"
   ]
  },
  {
   "cell_type": "code",
   "execution_count": 16,
   "metadata": {},
   "outputs": [],
   "source": [
    "df = df.dropna()\n"
   ]
  },
  {
   "cell_type": "markdown",
   "metadata": {},
   "source": [
    "#### Define independent and dependent variables"
   ]
  },
  {
   "cell_type": "code",
   "execution_count": 17,
   "metadata": {},
   "outputs": [],
   "source": [
    "X = df[['Founding', 'Revenue_USD', 'MarketCap_with_Trillions', 'Annual_Income_Tax_in_Billions', 'Employee']]\n",
    "y = df['Stock_Name']"
   ]
  },
  {
   "cell_type": "code",
   "execution_count": 18,
   "metadata": {},
   "outputs": [],
   "source": [
    "# Spliting the data into training and testing sets\n",
    "X_train, X_test, y_train, y_test = train_test_split(X, y, test_size=0.3, random_state=42)"
   ]
  },
  {
   "cell_type": "code",
   "execution_count": 19,
   "metadata": {},
   "outputs": [
    {
     "data": {
      "text/html": [
       "<style>#sk-container-id-1 {color: black;background-color: white;}#sk-container-id-1 pre{padding: 0;}#sk-container-id-1 div.sk-toggleable {background-color: white;}#sk-container-id-1 label.sk-toggleable__label {cursor: pointer;display: block;width: 100%;margin-bottom: 0;padding: 0.3em;box-sizing: border-box;text-align: center;}#sk-container-id-1 label.sk-toggleable__label-arrow:before {content: \"▸\";float: left;margin-right: 0.25em;color: #696969;}#sk-container-id-1 label.sk-toggleable__label-arrow:hover:before {color: black;}#sk-container-id-1 div.sk-estimator:hover label.sk-toggleable__label-arrow:before {color: black;}#sk-container-id-1 div.sk-toggleable__content {max-height: 0;max-width: 0;overflow: hidden;text-align: left;background-color: #f0f8ff;}#sk-container-id-1 div.sk-toggleable__content pre {margin: 0.2em;color: black;border-radius: 0.25em;background-color: #f0f8ff;}#sk-container-id-1 input.sk-toggleable__control:checked~div.sk-toggleable__content {max-height: 200px;max-width: 100%;overflow: auto;}#sk-container-id-1 input.sk-toggleable__control:checked~label.sk-toggleable__label-arrow:before {content: \"▾\";}#sk-container-id-1 div.sk-estimator input.sk-toggleable__control:checked~label.sk-toggleable__label {background-color: #d4ebff;}#sk-container-id-1 div.sk-label input.sk-toggleable__control:checked~label.sk-toggleable__label {background-color: #d4ebff;}#sk-container-id-1 input.sk-hidden--visually {border: 0;clip: rect(1px 1px 1px 1px);clip: rect(1px, 1px, 1px, 1px);height: 1px;margin: -1px;overflow: hidden;padding: 0;position: absolute;width: 1px;}#sk-container-id-1 div.sk-estimator {font-family: monospace;background-color: #f0f8ff;border: 1px dotted black;border-radius: 0.25em;box-sizing: border-box;margin-bottom: 0.5em;}#sk-container-id-1 div.sk-estimator:hover {background-color: #d4ebff;}#sk-container-id-1 div.sk-parallel-item::after {content: \"\";width: 100%;border-bottom: 1px solid gray;flex-grow: 1;}#sk-container-id-1 div.sk-label:hover label.sk-toggleable__label {background-color: #d4ebff;}#sk-container-id-1 div.sk-serial::before {content: \"\";position: absolute;border-left: 1px solid gray;box-sizing: border-box;top: 0;bottom: 0;left: 50%;z-index: 0;}#sk-container-id-1 div.sk-serial {display: flex;flex-direction: column;align-items: center;background-color: white;padding-right: 0.2em;padding-left: 0.2em;position: relative;}#sk-container-id-1 div.sk-item {position: relative;z-index: 1;}#sk-container-id-1 div.sk-parallel {display: flex;align-items: stretch;justify-content: center;background-color: white;position: relative;}#sk-container-id-1 div.sk-item::before, #sk-container-id-1 div.sk-parallel-item::before {content: \"\";position: absolute;border-left: 1px solid gray;box-sizing: border-box;top: 0;bottom: 0;left: 50%;z-index: -1;}#sk-container-id-1 div.sk-parallel-item {display: flex;flex-direction: column;z-index: 1;position: relative;background-color: white;}#sk-container-id-1 div.sk-parallel-item:first-child::after {align-self: flex-end;width: 50%;}#sk-container-id-1 div.sk-parallel-item:last-child::after {align-self: flex-start;width: 50%;}#sk-container-id-1 div.sk-parallel-item:only-child::after {width: 0;}#sk-container-id-1 div.sk-dashed-wrapped {border: 1px dashed gray;margin: 0 0.4em 0.5em 0.4em;box-sizing: border-box;padding-bottom: 0.4em;background-color: white;}#sk-container-id-1 div.sk-label label {font-family: monospace;font-weight: bold;display: inline-block;line-height: 1.2em;}#sk-container-id-1 div.sk-label-container {text-align: center;}#sk-container-id-1 div.sk-container {/* jupyter's `normalize.less` sets `[hidden] { display: none; }` but bootstrap.min.css set `[hidden] { display: none !important; }` so we also need the `!important` here to be able to override the default hidden behavior on the sphinx rendered scikit-learn.org. See: https://github.com/scikit-learn/scikit-learn/issues/21755 */display: inline-block !important;position: relative;}#sk-container-id-1 div.sk-text-repr-fallback {display: none;}</style><div id=\"sk-container-id-1\" class=\"sk-top-container\"><div class=\"sk-text-repr-fallback\"><pre>LinearRegression()</pre><b>In a Jupyter environment, please rerun this cell to show the HTML representation or trust the notebook. <br />On GitHub, the HTML representation is unable to render, please try loading this page with nbviewer.org.</b></div><div class=\"sk-container\" hidden><div class=\"sk-item\"><div class=\"sk-estimator sk-toggleable\"><input class=\"sk-toggleable__control sk-hidden--visually\" id=\"sk-estimator-id-1\" type=\"checkbox\" checked><label for=\"sk-estimator-id-1\" class=\"sk-toggleable__label sk-toggleable__label-arrow\">LinearRegression</label><div class=\"sk-toggleable__content\"><pre>LinearRegression()</pre></div></div></div></div></div>"
      ],
      "text/plain": [
       "LinearRegression()"
      ]
     },
     "execution_count": 19,
     "metadata": {},
     "output_type": "execute_result"
    }
   ],
   "source": [
    "# Creating a linear regression model and fit it to the training data\n",
    "model = LinearRegression()\n",
    "model.fit(X_train, y_train)\n"
   ]
  },
  {
   "cell_type": "markdown",
   "metadata": {},
   "source": [
    "#### Make predictions and Evaluate the performance of the model using the R-squared metric"
   ]
  },
  {
   "cell_type": "code",
   "execution_count": 20,
   "metadata": {},
   "outputs": [
    {
     "name": "stdout",
     "output_type": "stream",
     "text": [
      "R-squared: -1.347091811658872\n"
     ]
    }
   ],
   "source": [
    "y_pred = model.predict(X_test)\n",
    "r2 = r2_score(y_test, y_pred)\n",
    "print(f\"R-squared: {r2}\")\n"
   ]
  },
  {
   "cell_type": "code",
   "execution_count": 21,
   "metadata": {},
   "outputs": [
    {
     "data": {
      "image/png": "[encoded data removed]",
      "text/plain": [
       "<Figure size 1250x250 with 5 Axes>"
      ]
     },
     "metadata": {},
     "output_type": "display_data"
    }
   ],
   "source": [
    "sns.pairplot(data=df, x_vars=['Founding', 'Revenue_USD', 'MarketCap_with_Trillions', 'Annual_Income_Tax_in_Billions', 'Employee'], y_vars=['Stock_Name'], kind='reg')\n",
    "plt.show()\n"
   ]
  },
  {
   "cell_type": "code",
   "execution_count": null,
   "metadata": {},
   "outputs": [],
   "source": []
  }
 ],
 "metadata": {
  "kernelspec": {
   "display_name": "Python 3 (ipykernel)",
   "language": "python",
   "name": "python3"
  },
  "language_info": {
   "codemirror_mode": {
    "name": "ipython",
    "version": 3
   },
   "file_extension": ".py",
   "mimetype": "text/x-python",
   "name": "python",
   "nbconvert_exporter": "python",
   "pygments_lexer": "ipython3",
   "version": "3.10.6"
  }
 },
 "nbformat": 4,
 "nbformat_minor": 4
}
